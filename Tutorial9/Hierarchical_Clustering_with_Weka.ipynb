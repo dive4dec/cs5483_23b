{
 "cells": [
  {
   "cell_type": "markdown",
   "id": "d0272d23",
   "metadata": {},
   "source": [
    "---\n",
    "title: Hierarchical Clustering with Weka\n",
    "math: \n",
    "    '\\abs': '\\left\\lvert #1 \\right\\rvert' \n",
    "    '\\norm': '\\left\\lvert #1 \\right\\rvert' \n",
    "    '\\Set': '\\left\\{ #1 \\right\\}'\n",
    "    '\\mc': '\\mathcal{#1}'\n",
    "    '\\M': '\\boldsymbol{#1}'\n",
    "    '\\R': '\\mathsf{#1}'\n",
    "    '\\RM': '\\M{\\mathsf{#1}}'\n",
    "    '\\op': '\\operatorname{#1}'\n",
    "    '\\E': '\\op{E}'\n",
    "    '\\d': '\\mathrm{\\mathstrut d}'\n",
    "---"
   ]
  },
  {
   "cell_type": "markdown",
   "id": "281abf4d",
   "metadata": {
    "tags": [
     "remove-cell"
    ]
   },
   "source": [
    "**CS5483 Data Warehousing and Data Mining**\n",
    "___"
   ]
  },
  {
   "cell_type": "code",
   "execution_count": null,
   "id": "28a718cc",
   "metadata": {
    "init_cell": true,
    "slideshow": {
     "slide_type": "-"
    },
    "tags": [
     "remove-output"
    ]
   },
   "outputs": [],
   "source": [
    "import matplotlib.pyplot as plt\n",
    "import numpy as np\n",
    "from Bio import Phylo\n",
    "\n",
    "%matplotlib widget"
   ]
  },
  {
   "cell_type": "markdown",
   "id": "d48917b2",
   "metadata": {},
   "source": [
    "In this notebook, we continue to cluster the instances in the iris 2D dataset without looking at the class attribute. \n",
    "In particular, we will use the hierarchical clustering algorithm that implements the *agglomerative nesting (AGNES)* for different cluster distance measures."
   ]
  },
  {
   "cell_type": "markdown",
   "id": "4110b6ad",
   "metadata": {},
   "source": [
    "## Classes-to-clusters evaluation"
   ]
  },
  {
   "cell_type": "markdown",
   "id": "901abf72",
   "metadata": {},
   "source": [
    "Similar to the last tutorial, use the `Cluster` panel to cluster the `iris.2D` dataset (*not* not `iris` dataset):\n",
    "\n",
    "1. Using the `Preprocess` panel, load `iris.2D.arff` from the Weka data folder.\n",
    "1. Using the `Cluster` panel, choose the `Clusterer` as `HierarchicalClusterer`.\n",
    "1. The default number of clusters is $k=2$. Change it to $k=3$ instead, i.e., set `numClusters` to 3.\n",
    "1. Select `Classes to clusters evaluation` as the `cluster mode`.[^ignore]\n",
    "1. Click `Start` to run the clustering algorithm.\n",
    "\n",
    "[^ignore]: Unlike other cluster modes, the class attribute is ignored automatically for `Classes to clusters evaluation`, so there is no need to click `ignore attributes` button below the `Cluster mode` to ignore `class`."
   ]
  },
  {
   "cell_type": "markdown",
   "id": "5808ba13",
   "metadata": {},
   "source": [
    "::::{seealso}\n",
    "Alternatively, you may create a separate notebook with Weka kernel to use the [python-weka-wrapper](https://github.com/fracpete/python-weka-wrapper-examples/blob/master/src/wekaexamples/clusterers/clusterers.py) to obtain the answer. However, do NOT change the kernel of the current notebook as it should be autograded by the default kernel.\n",
    "::::"
   ]
  },
  {
   "cell_type": "markdown",
   "id": "c1733288",
   "metadata": {},
   "source": [
    "### Single-linkage method"
   ]
  },
  {
   "cell_type": "markdown",
   "id": "afc44670",
   "metadata": {},
   "source": [
    "The default linkage criterion (`linkType`) is `SINGLE`, which means that the hierarchical clustering algorithm iteratively links/merges two clusters $C$ and $C'$ into one to minimize the cluster distance defined as\n",
    "\n",
    "$$\n",
    "\\begin{align}\n",
    "\\op{dist}(C, C'):=\\min_{\\M{p}\\in C, \\M{p'}\\in C'} \\op{dist}(\\M{p}, \\M{p'}),\n",
    "\\end{align}\n",
    "$$ (single)\n",
    "\n",
    "namely, the minimum distance between points in different clusters. This gives the [single-linkage clustering solution](https://en.wikipedia.org/wiki/Single-linkage_clustering)."
   ]
  },
  {
   "cell_type": "markdown",
   "id": "6c861ec9",
   "metadata": {},
   "source": [
    "::::{exercise}\n",
    ":label: ex:1\n",
    " Assign to `error_rate` the fraction (NOT percentage) of incorrectly clustered instances.\n",
    "::::"
   ]
  },
  {
   "cell_type": "code",
   "execution_count": null,
   "id": "aec18e2f",
   "metadata": {
    "deletable": false,
    "nbgrader": {
     "cell_type": "code",
     "checksum": "d760a4e354165ede14279871eb692ec8",
     "grade": false,
     "grade_id": "error-rate",
     "locked": false,
     "schema_version": 3,
     "solution": true,
     "task": false
    },
    "tags": [
     "remove-output"
    ]
   },
   "outputs": [],
   "source": [
    "# YOUR CODE HERE\n",
    "raise NotImplementedError()\n",
    "error_rate"
   ]
  },
  {
   "cell_type": "code",
   "execution_count": null,
   "id": "e367c426",
   "metadata": {
    "deletable": false,
    "editable": false,
    "nbgrader": {
     "cell_type": "code",
     "checksum": "a55332ce4faa16e769e3526e9106c48d",
     "grade": true,
     "grade_id": "test-error-rate",
     "locked": true,
     "points": 1,
     "schema_version": 3,
     "solution": false,
     "task": false
    },
    "tags": [
     "remove-cell"
    ]
   },
   "outputs": [],
   "source": [
    "# hidden tests"
   ]
  },
  {
   "cell_type": "markdown",
   "id": "58e5bdfa",
   "metadata": {},
   "source": [
    "::::{exercise}\n",
    ":label: ex:2\n",
    "Right-click your result and click `visualize cluster assignments`. From the visualization of the errors, explain whether the performance of the single-linkage method is better/worse than that of the $k$-means algorithm.\n",
    "\n",
    ":::{tip}\n",
    "If `visualize cluster assignments` is disabled, check the `Store clusters for visualization` option and rerun the clustering algorithm.\n",
    ":::\n",
    "::::"
   ]
  },
  {
   "cell_type": "markdown",
   "id": "ccdb14f2",
   "metadata": {
    "deletable": false,
    "nbgrader": {
     "cell_type": "markdown",
     "checksum": "64f5b1a58faa0539c71e883a2ec67ca3",
     "grade": true,
     "grade_id": "sl-correctness",
     "locked": false,
     "points": 1,
     "schema_version": 3,
     "solution": true,
     "task": false
    }
   },
   "source": [
    "YOUR ANSWER HERE"
   ]
  },
  {
   "cell_type": "markdown",
   "id": "e696ba47",
   "metadata": {},
   "source": [
    "### Complete-linkage method"
   ]
  },
  {
   "cell_type": "markdown",
   "id": "22a90770",
   "metadata": {},
   "source": [
    "Repeat the hierarchical clustering procedure with `linkType` set to `COMPLETE`. The distance between two clusters is now measured by\n",
    "\n",
    "$$\n",
    "\\begin{align}\n",
    "\\op{dist}(C, C'):=\\max_{\\M{p}\\in C, \\M{p'}\\in C'} \\op{dist}(\\M{p}, \\M{p'}),\n",
    "\\end{align}\n",
    "$$ (complete)\n",
    "\n",
    "which is the maximum distance between points in different clusters. The measure gives the [complete-linkage clustering solution](https://en.wikipedia.org/wiki/Complete_linkage)."
   ]
  },
  {
   "cell_type": "markdown",
   "id": "0c4e01b6",
   "metadata": {},
   "source": [
    "::::{exercise}\n",
    ":label: ex:3\n",
    "Assign to `error_rate` the fraction (NOT percentage) of incorrectly clustered instances.\n",
    "::::"
   ]
  },
  {
   "cell_type": "code",
   "execution_count": null,
   "id": "701deb3c",
   "metadata": {
    "deletable": false,
    "nbgrader": {
     "cell_type": "code",
     "checksum": "c71ccf41f288c4e8aa6758759fa84ea5",
     "grade": false,
     "grade_id": "cl-error-rate",
     "locked": false,
     "schema_version": 3,
     "solution": true,
     "task": false
    },
    "tags": [
     "remove-output"
    ]
   },
   "outputs": [],
   "source": [
    "# YOUR CODE HERE\n",
    "raise NotImplementedError()\n",
    "error_rate"
   ]
  },
  {
   "cell_type": "code",
   "execution_count": null,
   "id": "c5011766",
   "metadata": {
    "deletable": false,
    "editable": false,
    "nbgrader": {
     "cell_type": "code",
     "checksum": "e1923425d61771a28fa913f12c1dc535",
     "grade": true,
     "grade_id": "test-cl-error-rate",
     "locked": true,
     "points": 1,
     "schema_version": 3,
     "solution": false,
     "task": false
    },
    "tags": [
     "remove-cell"
    ]
   },
   "outputs": [],
   "source": [
    "# hidden tests"
   ]
  },
  {
   "cell_type": "markdown",
   "id": "39bda2d9",
   "metadata": {},
   "source": [
    "::::{exercise}\n",
    ":label: ex:4\n",
    "Visualize the clustering assignments again and explain whether the complete linkage solution is better than the single-linkage solution.\n",
    "::::"
   ]
  },
  {
   "cell_type": "markdown",
   "id": "755867f3",
   "metadata": {
    "deletable": false,
    "nbgrader": {
     "cell_type": "markdown",
     "checksum": "1dfa585fedee50953115ef5395c62e13",
     "grade": true,
     "grade_id": "cl-correctness",
     "locked": false,
     "points": 1,
     "schema_version": 3,
     "solution": true,
     "task": false
    }
   },
   "source": [
    "YOUR ANSWER HERE"
   ]
  },
  {
   "cell_type": "markdown",
   "id": "0eaed088",
   "metadata": {},
   "source": [
    "## Dendrogram"
   ]
  },
  {
   "cell_type": "markdown",
   "id": "3eb2528c",
   "metadata": {},
   "source": [
    "To visualize the dendrogram in Weka,   \n",
    "- right-click the clustering result buffer, and \n",
    "- select `Visualize tree`."
   ]
  },
  {
   "cell_type": "markdown",
   "id": "0998138b",
   "metadata": {},
   "source": [
    "You should see the dendrogram below for the complete linkage method:\n",
    "\n",
    "![Complete-linkage dendrogram (first cluster only)](images/dendrogram_k=3.dio.svg)"
   ]
  },
  {
   "cell_type": "markdown",
   "id": "dfecbcbb",
   "metadata": {},
   "source": [
    "There are two issues with the dendrogram:\n",
    "\n",
    "1. The dendrogram is incomplete and only contains nodes for the first cluster. The agglomerative clustering stopped immediately after having `numClusters = 3` clusters.\n",
    "2. The leaf nodes have names that are fractions. By default, the names are taken from the last attribute other than the ignored class attribute. In this case, a name such as 0.2 is a `petalwidth`, which is not helpful in identifying the samples or evaluating the clustering solution."
   ]
  },
  {
   "cell_type": "markdown",
   "id": "b44fc51b",
   "metadata": {},
   "source": [
    "To fix the above issues:\n",
    "\n",
    "1. Set `numClusters` to 1 so that the agglomerative clustering continues to merge all nodes into a single cluster.\n",
    "1. In the preprocess panel, create a new attribute, `ID`, as the last attribute to name the leaf node uniquely. You can copy the following configuration into the `Filter` panel:  \n",
    "    ```bash\n",
    "    weka.filters.MultiFilter -F \"weka.filters.unsupervised.attribute.AddID -C last -N ID\" -F \"weka.filters.unsupervised.attribute.NumericToNominal -R last\" -F \"weka.filters.unsupervised.attribute.NominalToString -C last\"\n",
    "    ```\n",
    "\n",
    ":::{note}\n",
    "The above uses `MultiFilter` to compose three filters sequentially into one meta-filter:\n",
    "1. `AddID` creates a unique numeric ID for each sample.\n",
    "1. `NumericToNominal` followed by `NominalToString` converts the ID to a string. The conversion ensures that the clustering algorithm uses it to name the leaf but not in the calculation of cluster distances. \n",
    ":::"
   ]
  },
  {
   "cell_type": "markdown",
   "id": "279ef1b6",
   "metadata": {},
   "source": [
    "After applying the filter and rerunning the clustering algorithm with `numClusters = 1` and `class` attribute ignored, the resulting dendrogram is as follows:\n",
    "\n",
    "![Complete-linkage dendrogram](images/dendrogram.dio.svg)"
   ]
  },
  {
   "cell_type": "markdown",
   "id": "206d81ec",
   "metadata": {},
   "source": [
    "::::{exercise}\n",
    ":label: ex:5\n",
    "For the single-linkage method, give the dendrogram where \n",
    "- the root is the cluster of all nodes, and\n",
    "- each leaf name a unique ID.\n",
    "::::"
   ]
  },
  {
   "cell_type": "markdown",
   "id": "e6eb9489",
   "metadata": {
    "deletable": false,
    "nbgrader": {
     "cell_type": "markdown",
     "checksum": "74093e3b1c07d810837e78a87d6f935a",
     "grade": true,
     "grade_id": "sl-dendrogram",
     "locked": false,
     "points": 1,
     "schema_version": 3,
     "solution": true,
     "task": false
    }
   },
   "source": [
    "YOUR ANSWER HERE"
   ]
  },
  {
   "cell_type": "markdown",
   "id": "4ccf68df",
   "metadata": {},
   "source": [
    "The visualization is hard to read/analyze, especially for a large data set. The height is also not labeled."
   ]
  },
  {
   "cell_type": "markdown",
   "id": "eabb3d8f",
   "metadata": {},
   "source": [
    "Indeed, the dendrogram is printed in the result buffer as a [phylogenetic tree](https://en.wikipedia.org/wiki/Phylogenetic_tree) in the [Newick format with distances and leaf names](https://en.wikipedia.org/wiki/Newick_format#Examples). E.g., the dendrogram obtained by the complete linkage method is printed as:\n",
    "\n",
    "<pre>\n",
    "Cluster 0\n",
    "(((((((((((1:0,2:0):0,29:0):0,(5:0,9:0):0):0,((34:0,48:0):0,50:0):0):0.01695,((3:0,43:0):0,(37:0,39:0):0):0.01695):0.01695,((4:0,(8:0,11:0):0):0,(28:0,(40:0,49:0):0):0):0.0339):0.01982,(((7:0,(18:0,46:0):0):0.01695,(41:0,42:0):0.01695):0.01695,20:0.0339):0.01982):0.03625,(((10:0,38:0):0,(33:0,35:0):0):0.01695,13:0.01695):0.07301):0.01746,(14:0.04498,((15:0,36:0):0.0339,23:0.0339):0.01108):0.06245):0.11748,(((((6:0.01695,27:0.01695):0.01695,((16:0,22:0):0,32:0):0.0339):0.0339,17:0.0678):0.02982,(24:0.04498,44:0.04498):0.05264):0.07663,((((((((12:0,26:0):0,30:0):0,31:0):0,47:0):0.01695,21:0.01695):0.02803,19:0.04498):0.00873,25:0.05371):0.04391,45:0.09762):0.07663):0.05066):1.11921,(((((((((51:0,64:0):0.01695,77:0.01695):0.06263,(((56:0.01695,59:0.01695):0.01695,88:0.0339):0.01982,((66:0,76:0):0.0339,92:0.0339):0.01982):0.02586):0.01804,74:0.09762):0.04423,(((((54:0,72:0):0,90:0):0.01695,(89:0,100:0):0.01695):0.0339,((75:0,98:0):0.01695,(95:0,97:0):0.01695):0.0339):0.02873,(91:0.0339,96:0.0339):0.04568):0.06227):0.10672,(((((((((52:0,(79:0,85:0):0):0,67:0):0,69:0):0.01695,55:0.01695):0.01695,87:0.0339):0.01982,(57:0.0339,86:0.0339):0.01982):0.03625,107:0.08996):0.00766,62:0.09762):0.06153,(((53:0,73:0):0.0339,(120:0.01695,134:0.01695):0.01695):0.05114,(78:0.04498,84:0.04498):0.04006):0.07411):0.08942):0.14931,(((((71:0,(127:0,139:0):0):0.01695,(124:0,128:0):0.01695):0.04879,(((102:0,143:0):0.01695,147:0.01695):0.02803,150:0.04498):0.02076):0.04169,(((111:0.01695,114:0.01695):0.01695,122:0.0339):0.04568,(112:0.04498,148:0.04498):0.03459):0.02785):0.1693,(((104:0.01695,(117:0,138:0):0.01695):0.0678,(109:0.0339,126:0.0339):0.05085):0.09518,(130:0.08996,135:0.08996):0.08996):0.0968):0.12116):0.1883,((((58:0,94:0):0.0339,(61:0,80:0):0.0339):0.06054,99:0.09443):0.10278,((60:0.06574,65:0.06574):0.10434,(((63:0.01695,68:0.01695):0.05085,82:0.0678):0.02982,((70:0.01695,81:0.01695):0.03676,(83:0.01695,93:0.01695):0.03676):0.04391):0.07246):0.02714):0.38897):0.24263,(((((101:0.01695,110:0.01695):0.07301,(136:0.0339,144:0.0339):0.05607):0.01746,((137:0,141:0):0.04498,145:0.04498):0.06245):0.09715,((((103:0.0339,125:0.0339):0.05085,((113:0.01695,129:0.01695):0.01695,140:0.0339):0.05085):0.01288,((105:0.0339,133:0.0339):0.01108,121:0.04498):0.05264):0.0868,(115:0.06574,(((116:0.01695,146:0.01695):0.01695,142:0.0339):0.01695,149:0.05085):0.01489):0.11868):0.02016):0.1177,(((106:0.04498,118:0.04498):0.05264,119:0.09762):0.13421,((108:0.05371,131:0.05371):0.05619,(123:0.05085,132:0.05085):0.05905):0.12193):0.09046):0.50654):0.5153)\n",
    "</pre>"
   ]
  },
  {
   "cell_type": "markdown",
   "id": "5625d9d0",
   "metadata": {},
   "source": [
    "For the above to be a proper newick format,\n",
    "- `Cluster 0` should be removed as it is not part of the Newick format; and\n",
    "- a semi-colon `;` should be added to the end to complete the definition of a tree.\n",
    "\n",
    "The text file [`complete.tree`](complete.tree) fixes the above issues:"
   ]
  },
  {
   "cell_type": "markdown",
   "id": "953bd0f3",
   "metadata": {},
   "source": [
    "The tree can be loaded using:\n",
    "\n",
    "```python\n",
    "from Bio import Phylo\n",
    "```"
   ]
  },
  {
   "cell_type": "code",
   "execution_count": null,
   "id": "4bc6b952",
   "metadata": {},
   "outputs": [],
   "source": [
    "cl_tree = Phylo.read(\"complete.tree\", \"newick\")\n",
    "\n",
    "\n",
    "def plot_tree(tree, **kwargs):\n",
    "    Phylo.draw(\n",
    "        tree,\n",
    "        branch_labels=lambda c: (l := c.branch_length)\n",
    "        and l > 0.1\n",
    "        and f\"{l:.4g}\"\n",
    "        or None,\n",
    "        **kwargs,\n",
    "    )\n",
    "    plt.gcf().set_size_inches(10, 20)\n",
    "    plt.title(\"Phylogenetic tree\")\n",
    "    plt.tight_layout()\n",
    "\n",
    "\n",
    "plot_tree(cl_tree)"
   ]
  },
  {
   "cell_type": "markdown",
   "id": "056227a3",
   "metadata": {},
   "source": [
    "::::{note}\n",
    "Different from a dendrogram which plots the tree against cophenetic distance, the above plots the phylogenetic tree against the branch length from the root.\n",
    "::::"
   ]
  },
  {
   "cell_type": "markdown",
   "id": "6266704c",
   "metadata": {},
   "source": [
    "To obtain the 3 clusters returned by Weka with $k=3$:"
   ]
  },
  {
   "cell_type": "code",
   "execution_count": null,
   "id": "6b5786a1",
   "metadata": {},
   "outputs": [],
   "source": [
    "cl_clusters = [cl_tree.clade[0], cl_tree.clade[1, 0], cl_tree.clade[1, 1]]\n",
    "cl_clusters"
   ]
  },
  {
   "cell_type": "markdown",
   "id": "cddc277f",
   "metadata": {},
   "source": [
    "::::{important}\n",
    "The longer the branch length, the more stable the cluster is, as a longer branch length means the cluster is less easy to split up or merge with other clusters.\n",
    "::::"
   ]
  },
  {
   "cell_type": "markdown",
   "id": "44de34ee",
   "metadata": {},
   "source": [
    "To plot the clusters in different colors:"
   ]
  },
  {
   "cell_type": "code",
   "execution_count": null,
   "id": "e480271f",
   "metadata": {},
   "outputs": [],
   "source": [
    "cl_tree.root.color = \"grey\"\n",
    "for c, color in zip(cl_clusters, [\"red\", \"blue\", \"green\"]):\n",
    "    c.color = color\n",
    "plot_tree(cl_tree)"
   ]
  },
  {
   "cell_type": "markdown",
   "id": "e0eb06d2",
   "metadata": {},
   "source": [
    "To obtain the leaf nodes for each of the clusters:"
   ]
  },
  {
   "cell_type": "code",
   "execution_count": null,
   "id": "46347e5a",
   "metadata": {},
   "outputs": [],
   "source": [
    "cl_clusters_leaves = [[i.name for i in c.get_terminals()] for c in cl_clusters]\n",
    "for j, leaves in enumerate(cl_clusters_leaves):\n",
    "    print(f'Cluster {j} with {len(leaves)} nodes: \\n{\" \".join(leaves)}\\n')"
   ]
  },
  {
   "cell_type": "markdown",
   "id": "7e1c8af4",
   "metadata": {},
   "source": [
    "::::{important}\n",
    "The larger the cluster, the more stable it is as such a cluster is supported by many similar instances.\n",
    "::::"
   ]
  },
  {
   "cell_type": "markdown",
   "id": "d5166977",
   "metadata": {},
   "source": [
    "To obtain the cophenetic distance of the root, i.e., the cluster containing all nodes, we can compute the total branch distance from the root to any leaf node, say node 1:"
   ]
  },
  {
   "cell_type": "code",
   "execution_count": null,
   "id": "5c030f84",
   "metadata": {},
   "outputs": [],
   "source": [
    "cl_d0 = cl_tree.distance(\"1\")\n",
    "cl_d0"
   ]
  },
  {
   "cell_type": "markdown",
   "id": "bad35a34",
   "metadata": {},
   "source": [
    "The second largest cophenetic distance at the root splits into 2 clusters is:"
   ]
  },
  {
   "cell_type": "code",
   "execution_count": null,
   "id": "c2c803af",
   "metadata": {},
   "outputs": [],
   "source": [
    "cl_d1 = cl_d0 - cl_tree.root.clades[1].branch_length\n",
    "cl_d1"
   ]
  },
  {
   "cell_type": "markdown",
   "id": "6d64dc63",
   "metadata": {},
   "source": [
    "The minimum and maximum cophenetic distance at which we have 3 clusters is:"
   ]
  },
  {
   "cell_type": "code",
   "execution_count": null,
   "id": "e20606e5",
   "metadata": {},
   "outputs": [],
   "source": [
    "cl_max_distance, cl_min_distance = cl_d1, cl_d1 - min(\n",
    "    c.branch_length for c in cl_clusters\n",
    ")\n",
    "cl_max_distance, cl_min_distance"
   ]
  },
  {
   "cell_type": "code",
   "execution_count": null,
   "id": "4657408c",
   "metadata": {},
   "outputs": [],
   "source": [
    "plot_tree(\n",
    "    cl_tree,\n",
    "    axvspan=((cl_d0 - cl_max_distance, cl_d0 - cl_min_distance), {\"facecolor\": \"0.8\"}),\n",
    ")"
   ]
  },
  {
   "cell_type": "markdown",
   "id": "1225a4c2",
   "metadata": {},
   "source": [
    "```{seealso}\n",
    "For more examples, see [Biopython Tutorial and Cookbook](https://biopython.org/DIST/docs/tutorial/Tutorial.html#sec253).\n",
    "```"
   ]
  },
  {
   "cell_type": "markdown",
   "id": "e52a7348",
   "metadata": {},
   "source": [
    "::::{exercise}\n",
    ":label: ex:6\n",
    "For the single-linkage clustering solution, assign to `sl_max_distance` and `sl_min_distance` the maximum and minimum cophenetic distance at which we can obtain 3 clusters.\n",
    "::::"
   ]
  },
  {
   "cell_type": "code",
   "execution_count": null,
   "id": "399bfb9d",
   "metadata": {
    "deletable": false,
    "nbgrader": {
     "cell_type": "code",
     "checksum": "b57fe93d3457fbfd050ca71a83b46306",
     "grade": false,
     "grade_id": "sl_range",
     "locked": false,
     "schema_version": 3,
     "solution": true,
     "task": false
    },
    "tags": [
     "remove-output"
    ]
   },
   "outputs": [],
   "source": [
    "# YOUR CODE HERE\n",
    "raise NotImplementedError()\n",
    "sl_max_distance, sl_min_distance"
   ]
  },
  {
   "cell_type": "code",
   "execution_count": null,
   "id": "d37a57fb",
   "metadata": {
    "deletable": false,
    "editable": false,
    "nbgrader": {
     "cell_type": "code",
     "checksum": "d2da781625077ac075c07d9e143200e4",
     "grade": true,
     "grade_id": "test-sl_range",
     "locked": true,
     "points": 1,
     "schema_version": 3,
     "solution": false,
     "task": false
    },
    "tags": [
     "remove-output",
     "hide-input"
    ]
   },
   "outputs": [],
   "source": [
    "# tests\n",
    "assert np.isclose(sl_max_distance - sl_min_distance, 0.006629999999999997, rtol=1e-3)"
   ]
  },
  {
   "cell_type": "code",
   "execution_count": null,
   "id": "49b3842b",
   "metadata": {
    "deletable": false,
    "editable": false,
    "nbgrader": {
     "cell_type": "code",
     "checksum": "433b0d62c9e263fa6819955f5502a50e",
     "grade": true,
     "grade_id": "htest-sl_range",
     "locked": true,
     "points": 1,
     "schema_version": 3,
     "solution": false,
     "task": false
    },
    "tags": [
     "remove-cell"
    ]
   },
   "outputs": [],
   "source": [
    "# hidden tests"
   ]
  },
  {
   "cell_type": "markdown",
   "id": "9bc9df2e",
   "metadata": {},
   "source": [
    "To obtain the largest cophenetic distance at which we have at least three clusters:"
   ]
  },
  {
   "cell_type": "markdown",
   "id": "521abbc1",
   "metadata": {
    "deletable": false,
    "editable": false,
    "nbgrader": {
     "cell_type": "markdown",
     "checksum": "8eccfd3518caa2ae2e918619cbb7750a",
     "grade": false,
     "grade_id": "plot-sl",
     "locked": true,
     "points": 1,
     "schema_version": 3,
     "solution": false,
     "task": true
    }
   },
   "source": [
    "::::{exercise}\n",
    ":label: ex:7\n",
    "Similar to the complete-linkage method, plot the phylogenetic tree for the single-linkage method. Furthermore,\n",
    "\n",
    "- shade the range of branch length at which we can obtain 3 clusters, and\n",
    "- color the 3 clusters returned by Weka differently.\n",
    "::::"
   ]
  },
  {
   "cell_type": "code",
   "execution_count": null,
   "id": "11c6c09f",
   "metadata": {
    "deletable": false,
    "nbgrader": {
     "cell_type": "code",
     "checksum": "882bd7b94029ce387785b0ba4ae7a469",
     "grade": false,
     "grade_id": "sol_plot-sl",
     "locked": false,
     "schema_version": 3,
     "solution": true,
     "task": false
    },
    "tags": [
     "remove-output"
    ]
   },
   "outputs": [],
   "source": [
    "# YOUR CODE HERE\n",
    "raise NotImplementedError()"
   ]
  },
  {
   "cell_type": "markdown",
   "id": "9d128536",
   "metadata": {},
   "source": [
    "::::{exercise}\n",
    ":label: ex:8\n",
    "By comparing the dendrograms obtained by the single-linkage and complete-linkage methods, explain why the complete-linkage method gives a better solution for the iris dataset.\n",
    "\n",
    ":::{hint}\n",
    ":class: dropdown\n",
    "\n",
    "Consider the range of cophenetic distance that gives 3 clusters instead of 2.\n",
    ":::\n",
    "::::"
   ]
  },
  {
   "cell_type": "markdown",
   "id": "df90e192",
   "metadata": {
    "deletable": false,
    "nbgrader": {
     "cell_type": "markdown",
     "checksum": "436f45486e12dde0ef98600332535f04",
     "grade": true,
     "grade_id": "stability",
     "locked": false,
     "points": 1,
     "schema_version": 3,
     "solution": true,
     "task": false
    }
   },
   "source": [
    "YOUR ANSWER HERE"
   ]
  }
 ],
 "metadata": {
  "kernelspec": {
   "display_name": "Python 3 (ipykernel)",
   "language": "python",
   "name": "python3"
  }
 },
 "nbformat": 4,
 "nbformat_minor": 5
}
