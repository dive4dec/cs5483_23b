{
 "cells": [
  {
   "cell_type": "markdown",
   "id": "2cf5f7a3",
   "metadata": {},
   "source": [
    "---\n",
    "title: Hierarchical Clustering using Scikit-Learn\n",
    "math: \n",
    "    '\\abs': '\\left\\lvert #1 \\right\\rvert' \n",
    "    '\\norm': '\\left\\lvert #1 \\right\\rvert' \n",
    "    '\\Set': '\\left\\{ #1 \\right\\}'\n",
    "    '\\mc': '\\mathcal{#1}'\n",
    "    '\\M': '\\boldsymbol{#1}'\n",
    "    '\\R': '\\mathsf{#1}'\n",
    "    '\\RM': '\\M{\\mathsf{#1}}'\n",
    "    '\\op': '\\operatorname{#1}'\n",
    "    '\\E': '\\op{E}'\n",
    "    '\\d': '\\mathrm{\\mathstrut d}'\n",
    "---"
   ]
  },
  {
   "cell_type": "markdown",
   "id": "eeaba85e",
   "metadata": {
    "tags": [
     "remove-cell"
    ]
   },
   "source": [
    "**CS5483 Data Warehousing and Data Mining**\n",
    "___"
   ]
  },
  {
   "cell_type": "code",
   "execution_count": null,
   "id": "67f5eccc",
   "metadata": {
    "init_cell": true,
    "slideshow": {
     "slide_type": "-"
    }
   },
   "outputs": [],
   "source": [
    "import ipywidgets as widgets\n",
    "import matplotlib.pyplot as plt\n",
    "import pandas as pd\n",
    "from ipywidgets import interact\n",
    "from sklearn import datasets, preprocessing\n",
    "from sklearn.cluster import AgglomerativeClustering\n",
    "from sklearn.pipeline import make_pipeline\n",
    "from util import plot_dendrogram\n",
    "\n",
    "%matplotlib widget"
   ]
  },
  {
   "cell_type": "markdown",
   "id": "fa4681de",
   "metadata": {},
   "source": [
    "In this notebook, we continue to cluster the instances in the iris 2D dataset."
   ]
  },
  {
   "cell_type": "markdown",
   "id": "5fc55924",
   "metadata": {},
   "source": [
    "## Agglomerative clustering"
   ]
  },
  {
   "cell_type": "markdown",
   "id": "49d970a0",
   "metadata": {},
   "source": [
    "We first import the iris dataset from `sklearn.datasets` and store it as a DataFrame."
   ]
  },
  {
   "cell_type": "code",
   "execution_count": null,
   "id": "64350f98",
   "metadata": {},
   "outputs": [],
   "source": [
    "# load the dataset from sklearn\n",
    "dataset = datasets.load_iris()\n",
    "\n",
    "# create a DataFrame to help further analysis\n",
    "df = pd.DataFrame(data=dataset.data, columns=dataset.feature_names)\n",
    "df[\"target\"] = dataset.target\n",
    "df.target = df.target.astype(\"category\")\n",
    "df.target = df.target.cat.rename_categories(dataset.target_names)\n",
    "df  # display an overview of the data"
   ]
  },
  {
   "cell_type": "markdown",
   "id": "e3d70e89",
   "metadata": {},
   "source": [
    "To normalize the features followed by [agglomerative clustering](https://scikit-learn.org/stable/modules/generated/sklearn.cluster.AgglomerativeClustering.html), we create a pipeline as follows:\n",
    "\n",
    "```python\n",
    "from sklearn.cluster import AgglomerativeClustering\n",
    "```"
   ]
  },
  {
   "cell_type": "code",
   "execution_count": null,
   "id": "25613e6e",
   "metadata": {},
   "outputs": [],
   "source": [
    "agnes_minmax_normalized = make_pipeline(\n",
    "    preprocessing.MinMaxScaler(),\n",
    "    AgglomerativeClustering(\n",
    "        n_clusters=3, linkage=\"complete\", memory=\"private\", compute_distances=True\n",
    "    ),\n",
    ")\n",
    "agnes_minmax_normalized"
   ]
  },
  {
   "cell_type": "markdown",
   "id": "f2fc855c",
   "metadata": {},
   "source": [
    "In the above, we configured the agglomerative clustering algorithm to use complete-linkage to return 3 clusters.\n",
    "- By setting the parameter `memory`, the solution will be cached to the specified folder `private`.\n",
    "- By setting compute_distances to `True`, the cluster distances are computer for dendrogram visualization later on."
   ]
  },
  {
   "cell_type": "markdown",
   "id": "45fa645b",
   "metadata": {},
   "source": [
    "To cluster based on the two input features `petal length (cm)` and `petal width (cm)`:"
   ]
  },
  {
   "cell_type": "code",
   "execution_count": null,
   "id": "6525d285",
   "metadata": {},
   "outputs": [],
   "source": [
    "feature1, feature2 = \"petal length (cm)\", \"petal width (cm)\"\n",
    "cluster_labels = agnes_minmax_normalized.fit_predict(df[[feature1, feature2]])\n",
    "\n",
    "plt.figure(num=1, figsize=(10, 5))\n",
    "plt.subplot(121)\n",
    "plt.scatter(df[feature1], df[feature2], c=cluster_labels)\n",
    "plt.title(\"Cluster assignment\")\n",
    "plt.xlabel(feature1)\n",
    "plt.ylabel(feature2)\n",
    "plt.subplot(122)\n",
    "plt.scatter(df[feature1], df[feature2], c=dataset[\"target\"])\n",
    "plt.title(\"Class (ground truth)\")\n",
    "plt.xlabel(feature1)\n",
    "plt.show()"
   ]
  },
  {
   "cell_type": "markdown",
   "id": "8d98723a",
   "metadata": {},
   "source": [
    "The [`fit_predict`](https://scikit-learn.org/stable/modules/generated/sklearn.cluster.AgglomerativeClustering.html#sklearn.cluster.AgglomerativeClustering.fit_predict) method fits and returns the cluster labels for the given data."
   ]
  },
  {
   "cell_type": "markdown",
   "id": "63181221",
   "metadata": {},
   "source": [
    "::::{exercise}\n",
    ":label: ex:1\n",
    "`AgglomerateClustering` does not implement [a separate `predict` method, unlike `KMeans`](https://scikit-learn.org/stable/modules/generated/sklearn.cluster.KMeans.html#sklearn.cluster.KMeans.predict). Why?\n",
    "::::"
   ]
  },
  {
   "cell_type": "markdown",
   "id": "a861845c",
   "metadata": {
    "deletable": false,
    "nbgrader": {
     "cell_type": "markdown",
     "checksum": "7ab8336e773a922c048a5ce261fa2dd7",
     "grade": true,
     "grade_id": "predict",
     "locked": false,
     "points": 1,
     "schema_version": 3,
     "solution": true,
     "task": false
    }
   },
   "source": [
    "YOUR ANSWER HERE"
   ]
  },
  {
   "cell_type": "markdown",
   "id": "12e76044",
   "metadata": {},
   "source": [
    "### Dendrogram"
   ]
  },
  {
   "cell_type": "markdown",
   "id": "e807416c",
   "metadata": {},
   "source": [
    "Further details of a clustering solution can be obtained from the fitted properties:[^fp]\n",
    "\n",
    "[^fp]: `sklearn` uses [trailing underscore](https://github.com/rasbt/python-machine-learning-book/blob/master/faq/underscore-convention.md) to denote fitted properties."
   ]
  },
  {
   "cell_type": "code",
   "execution_count": null,
   "id": "ae9baa09",
   "metadata": {},
   "outputs": [],
   "source": [
    "agnes = agnes_minmax_normalized[\"agglomerativeclustering\"]\n",
    "print(\"Cluster labels for each sample:\", *agnes.labels_)\n",
    "print(\"Children of each non-leaf node:\", *agnes.children_)\n",
    "print(\"Distances between nodes:\", *agnes.distances_.round(3))\n",
    "print(\"Number of leaves:\", agnes.n_leaves_)\n",
    "print(\"Number of connected components:\", agnes.n_connected_components_)"
   ]
  },
  {
   "cell_type": "markdown",
   "id": "f9a4dc0d",
   "metadata": {},
   "source": [
    "To plot the dendrogram, we will use the function [`plot_dendrogram`](util.py) input as follows:\n",
    "\n",
    "```python\n",
    "from util import plot_dendrogram\n",
    "```"
   ]
  },
  {
   "cell_type": "markdown",
   "id": "a1897207",
   "metadata": {},
   "source": [
    "The code is adopted from [an example in `sklearn`](https://scikit-learn.org/stable/auto_examples/cluster/plot_agglomerative_dendrogram.html), which uses [`dendrogram` from `scipy.cluster.hierarchy`](https://docs.scipy.org/doc/scipy/reference/generated/scipy.cluster.hierarchy.dendrogram.html). To generate the dendrogram:"
   ]
  },
  {
   "cell_type": "code",
   "execution_count": null,
   "id": "d23aa679",
   "metadata": {},
   "outputs": [],
   "source": [
    "plt.figure(num=2, figsize=(10, 5))\n",
    "plot_dendrogram(agnes, distance_sort=True)\n",
    "plt.title(\"Dendrogram for complete-linkage method on iris dataset\")\n",
    "plt.ylabel(\"cophenetic distance\")\n",
    "plt.xlabel(\"instance index\")\n",
    "plt.show()"
   ]
  },
  {
   "cell_type": "markdown",
   "id": "192a7a1c",
   "metadata": {},
   "source": [
    ":::{tip}\n",
    "You can improve the visualization using the [additional parameters](https://docs.scipy.org/doc/scipy/reference/generated/scipy.cluster.hierarchy.dendrogram.html) passed to `scipy.cluster.hierarchy.dendrogram`.\n",
    ":::"
   ]
  },
  {
   "cell_type": "markdown",
   "id": "d29a9719",
   "metadata": {
    "deletable": false,
    "editable": false,
    "nbgrader": {
     "cell_type": "markdown",
     "checksum": "77fdcb67c8df693cb021b66a45f2f6e5",
     "grade": false,
     "grade_id": "task-agnes",
     "locked": true,
     "points": 1,
     "schema_version": 3,
     "solution": false,
     "task": true
    }
   },
   "source": [
    "::::{exercise}\n",
    ":label: ex:2\n",
    "Complete the following code to assign to `agnes_minmax_normalized` a pipelined agglomerative clusterer that \n",
    "- min-max normalizes the features, and\n",
    "- clusters the instances of features specified by `feature1` and `feature2` into `k` clusters according to the linkage method specified by `linkage`.\n",
    "\n",
    "Observe that the dendrogram and clustering solution change when you change the linkage, features, and number of clusters.\n",
    "\n",
    "::::"
   ]
  },
  {
   "cell_type": "code",
   "execution_count": null,
   "id": "dd8767c0",
   "metadata": {
    "deletable": false,
    "nbgrader": {
     "cell_type": "code",
     "checksum": "44b793c96f5d853747df78eb1fa32efd",
     "grade": false,
     "grade_id": "agnes",
     "locked": false,
     "schema_version": 3,
     "solution": true,
     "task": false
    },
    "tags": [
     "remove-output"
    ]
   },
   "outputs": [],
   "source": [
    "@interact(\n",
    "    linkage=[\"ward\", \"complete\", \"average\", \"single\"],\n",
    "    feature1=dataset.feature_names,\n",
    "    feature2=dataset.feature_names,\n",
    ")\n",
    "def analyze_agnes(\n",
    "    linkage,\n",
    "    feature1=dataset.feature_names[2],\n",
    "    feature2=dataset.feature_names[3],\n",
    "    k=widgets.IntSlider(3, 1, 4, continuous_update=False),\n",
    "):\n",
    "    # YOUR CODE HERE\n",
    "    raise NotImplementedError()\n",
    "    \n",
    "    agnes = agnes_minmax_normalized[\"agglomerativeclustering\"]\n",
    "    plt.figure(num=3, figsize=(10, 10))\n",
    "\n",
    "    plt.subplot(211)\n",
    "    plot_dendrogram(agnes)\n",
    "    plt.title(f\"Dendrogram for {linkage}-linkage method on iris dataset\")\n",
    "    plt.ylabel(\"cophenetic distance\")\n",
    "    plt.xlabel(\"instance index\")\n",
    "\n",
    "    plt.subplot(223)\n",
    "    plt.scatter(df[feature1], df[feature2], c=agnes.labels_)\n",
    "    plt.title(\"Cluster assignment\")\n",
    "    plt.ylabel(feature2)\n",
    "    plt.xlabel(feature1)\n",
    "\n",
    "    plt.subplot(224)\n",
    "    plt.scatter(df[feature1], df[feature2], c=dataset[\"target\"])\n",
    "    plt.title(\"Class (ground truth)\")\n",
    "    plt.xlabel(feature1)\n",
    "\n",
    "    plt.show()"
   ]
  }
 ],
 "metadata": {
  "kernelspec": {
   "display_name": "Python 3 (ipykernel)",
   "language": "python",
   "name": "python3"
  }
 },
 "nbformat": 4,
 "nbformat_minor": 5
}
