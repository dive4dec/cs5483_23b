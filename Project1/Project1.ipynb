{
 "cells": [
  {
   "cell_type": "markdown",
   "id": "dada44fb",
   "metadata": {
    "slideshow": {
     "slide_type": "slide"
    }
   },
   "source": [
    "---\n",
    "title: Project 1\n",
    "math: \n",
    "    '\\abs': '\\left\\lvert #1 \\right\\rvert' \n",
    "    '\\norm': '\\left\\lvert #1 \\right\\rvert' \n",
    "    '\\Set': '\\left\\{ #1 \\right\\}'\n",
    "    '\\mc': '\\mathcal{#1}'\n",
    "    '\\M': '\\boldsymbol{#1}'\n",
    "    '\\R': '\\mathsf{#1}'\n",
    "    '\\RM': '\\boldsymbol{\\mathsf{#1}}'\n",
    "    '\\op': '\\operatorname{#1}'\n",
    "    '\\E': '\\op{E}'\n",
    "    '\\d': '\\mathrm{\\mathstrut d}'\n",
    "    '\\Gini': '\\operatorname{Gini}'\n",
    "    '\\Info': '\\operatorname{Info}'\n",
    "    '\\Gain': '\\operatorname{Gain}'\n",
    "    '\\GainRatio': '\\operatorname{GainRatio}'\n",
    "---"
   ]
  },
  {
   "cell_type": "markdown",
   "id": "701dd8e7",
   "metadata": {
    "slideshow": {
     "slide_type": "-"
    },
    "tags": [
     "remove-cell"
    ]
   },
   "source": [
    "**CS5483 Data Warehousing and Data Mining**\n",
    "___"
   ]
  },
  {
   "cell_type": "markdown",
   "id": "1a08585c",
   "metadata": {},
   "source": [
    "::::{attention}\n",
    "\n",
    "- Access [\\[Witten11\\]](https://ebookcentral.proquest.com/lib/cityuhk/reader.action?docID=634862&ppg=602) for the hands-on exercises. To complete the exercises, you may use Weka or other tools such as `sklearn` or `python-weka-wrapper`. \n",
    "- You must provide your final answer in the designated solution cells. You may add additional cells to detail the steps.\n",
    "- Same as tutorial exercises, you can submit multiple times via JupyterHub by the deadline. Technical difficulties are not valid justifications for any late submissions.\n",
    "- Take proper measures to avoid suspicion of plagiarism.\n",
    "\n",
    "::::"
   ]
  },
  {
   "cell_type": "markdown",
   "id": "45ce260b",
   "metadata": {
    "deletable": false,
    "editable": false,
    "nbgrader": {
     "cell_type": "markdown",
     "checksum": "ef65d0b75e9fa3bfd472b938e970a736",
     "grade": false,
     "grade_id": "clarity",
     "locked": true,
     "points": 5,
     "schema_version": 3,
     "solution": false,
     "task": true
    }
   },
   "source": [
    "::::{admonition} Rubrics\n",
    "\n",
    "- This project is worth 75 points, constituting 15% of your course grade.\n",
    "- There are 14 exercises, each of which is worth 5 points:\n",
    "  - 5 points for a correct answer and excellent understanding.\n",
    "  - 3 points for a partially correct answer and some understanding.\n",
    "  - 1 point for a reasonable attempt.\n",
    "- The remaining 5 points are given for *a clear presentation*.\n",
    "::::"
   ]
  },
  {
   "cell_type": "markdown",
   "id": "7c01f90f",
   "metadata": {
    "slideshow": {
     "slide_type": "subslide"
    }
   },
   "source": [
    "## Visualizing Decision Trees and Rule Sets"
   ]
  },
  {
   "cell_type": "markdown",
   "id": "d98b84de",
   "metadata": {},
   "source": [
    "Complete the following exercises in **Section 17.3**."
   ]
  },
  {
   "cell_type": "markdown",
   "id": "c9e48e35",
   "metadata": {},
   "source": [
    "::::{exercise} Ex 17.3.8\n",
    ":label: ex:17.3.8\n",
    "::::"
   ]
  },
  {
   "cell_type": "markdown",
   "id": "46b243e3",
   "metadata": {
    "deletable": false,
    "nbgrader": {
     "cell_type": "markdown",
     "checksum": "f92e545bb519905fe88b3b0f771d0619",
     "grade": true,
     "grade_id": "Witten-17-3-8",
     "locked": false,
     "points": 5,
     "schema_version": 3,
     "solution": true,
     "task": false
    }
   },
   "source": [
    "YOUR ANSWER HERE"
   ]
  },
  {
   "cell_type": "markdown",
   "id": "a29c1f4b",
   "metadata": {},
   "source": [
    "::::{exercise} Ex 17.3.9\n",
    ":label: ex:17.3.9\n",
    "::::"
   ]
  },
  {
   "cell_type": "markdown",
   "id": "b4ac6d8e",
   "metadata": {
    "deletable": false,
    "nbgrader": {
     "cell_type": "markdown",
     "checksum": "bfd4294c336a72627b11111342a32f88",
     "grade": true,
     "grade_id": "Witten-17-3-9",
     "locked": false,
     "points": 5,
     "schema_version": 3,
     "solution": true,
     "task": false
    }
   },
   "source": [
    "YOUR ANSWER HERE"
   ]
  },
  {
   "cell_type": "markdown",
   "id": "af213235",
   "metadata": {},
   "source": [
    "::::{exercise} Ex 17.3.10\n",
    ":label: ex:17.3.10\n",
    "::::"
   ]
  },
  {
   "cell_type": "markdown",
   "id": "0db05d49",
   "metadata": {
    "deletable": false,
    "nbgrader": {
     "cell_type": "markdown",
     "checksum": "cf649d715f1385fc00595995b4709212",
     "grade": true,
     "grade_id": "Witten-17-3-10",
     "locked": false,
     "points": 5,
     "schema_version": 3,
     "solution": true,
     "task": false
    }
   },
   "source": [
    "YOUR ANSWER HERE"
   ]
  },
  {
   "cell_type": "markdown",
   "id": "f4896322",
   "metadata": {},
   "source": [
    "::::{exercise} Ex 17.3.11\n",
    ":label: ex:17.3.11\n",
    "::::"
   ]
  },
  {
   "cell_type": "markdown",
   "id": "71c47243",
   "metadata": {
    "deletable": false,
    "nbgrader": {
     "cell_type": "markdown",
     "checksum": "c283ac6f89f205b57e45070c4c081dcd",
     "grade": true,
     "grade_id": "Witten-17-3-11",
     "locked": false,
     "points": 5,
     "schema_version": 3,
     "solution": true,
     "task": false
    }
   },
   "source": [
    "YOUR ANSWER HERE"
   ]
  },
  {
   "cell_type": "markdown",
   "id": "b1c5d979",
   "metadata": {},
   "source": [
    "::::{exercise} Ex 17.3.12\n",
    ":label: ex:17.3.12\n",
    "::::"
   ]
  },
  {
   "cell_type": "markdown",
   "id": "bfc199f4",
   "metadata": {
    "deletable": false,
    "nbgrader": {
     "cell_type": "markdown",
     "checksum": "2f097f30452673f6dd79bbaa2daa9c41",
     "grade": true,
     "grade_id": "Witten-17-3-12",
     "locked": false,
     "points": 5,
     "schema_version": 3,
     "solution": true,
     "task": false
    }
   },
   "source": [
    "YOUR ANSWER HERE"
   ]
  },
  {
   "cell_type": "markdown",
   "id": "9440af66",
   "metadata": {
    "slideshow": {
     "slide_type": "subslide"
    }
   },
   "source": [
    "## Attribute Selection"
   ]
  },
  {
   "cell_type": "markdown",
   "id": "083cec5c",
   "metadata": {},
   "source": [
    "Complete the following exercises in **Section 17.2** and one additional exercise."
   ]
  },
  {
   "cell_type": "markdown",
   "id": "434f89f0",
   "metadata": {},
   "source": [
    "::::{exercise} Ex 17.2.4\n",
    ":label: ex:17.2.4\n",
    "::::"
   ]
  },
  {
   "cell_type": "markdown",
   "id": "99bd67ad",
   "metadata": {
    "deletable": false,
    "nbgrader": {
     "cell_type": "markdown",
     "checksum": "3efddc148edcfae0215f8281618b0387",
     "grade": true,
     "grade_id": "Witten-17-2-4",
     "locked": false,
     "points": 5,
     "schema_version": 3,
     "solution": true,
     "task": false
    }
   },
   "source": [
    "YOUR ANSWER HERE"
   ]
  },
  {
   "cell_type": "markdown",
   "id": "a2880b60",
   "metadata": {},
   "source": [
    "::::{exercise} Ex 17.2.5\n",
    ":label: ex:17.2.5\n",
    "::::"
   ]
  },
  {
   "cell_type": "markdown",
   "id": "f83ce1c1",
   "metadata": {
    "deletable": false,
    "nbgrader": {
     "cell_type": "markdown",
     "checksum": "c87dacd482dbee0293c8931a3d93d444",
     "grade": true,
     "grade_id": "Witten-17-2-5",
     "locked": false,
     "points": 5,
     "schema_version": 3,
     "solution": true,
     "task": false
    }
   },
   "source": [
    "YOUR ANSWER HERE"
   ]
  },
  {
   "cell_type": "markdown",
   "id": "4e8eb17b",
   "metadata": {},
   "source": [
    "::::{exercise}\n",
    ":label: ex:challenge\n",
    "If your answer to Ex 17.2.5 is \"no\", give a better performance estimate and the best subset of features for *deployment*. Explain how you obtain the estimate and subset, i.e., how you subdivide the dataset for training, validation, and testing, and which accuracy values you use to select the features for deployment.\n",
    "::::"
   ]
  },
  {
   "cell_type": "markdown",
   "id": "8a2b2fc8",
   "metadata": {
    "deletable": false,
    "nbgrader": {
     "cell_type": "markdown",
     "checksum": "5c5b429df7bed6dcf60f60cc2c2b97c4",
     "grade": true,
     "grade_id": "split",
     "locked": false,
     "points": 5,
     "schema_version": 3,
     "solution": true,
     "task": false
    }
   },
   "source": [
    "YOUR ANSWER HERE"
   ]
  },
  {
   "cell_type": "markdown",
   "id": "3478325e",
   "metadata": {
    "slideshow": {
     "slide_type": "subslide"
    }
   },
   "source": [
    "## Automatic Attribute Selection"
   ]
  },
  {
   "cell_type": "markdown",
   "id": "6a872bdf",
   "metadata": {},
   "source": [
    "Complete the following exercises in **Section 17.4**."
   ]
  },
  {
   "cell_type": "markdown",
   "id": "3ce66314",
   "metadata": {},
   "source": [
    "::::{exercise} Ex 17.4.8\n",
    ":label: ex:17.4.8\n",
    "::::"
   ]
  },
  {
   "cell_type": "markdown",
   "id": "08753a49",
   "metadata": {
    "deletable": false,
    "nbgrader": {
     "cell_type": "markdown",
     "checksum": "c439ca126c61a35f590f97a6b79cf5fd",
     "grade": true,
     "grade_id": "Witten-17-4-8",
     "locked": false,
     "points": 5,
     "schema_version": 3,
     "solution": true,
     "task": false
    }
   },
   "source": [
    "YOUR ANSWER HERE"
   ]
  },
  {
   "cell_type": "markdown",
   "id": "75ebeb21",
   "metadata": {},
   "source": [
    "::::{exercise} Ex 17.4.9\n",
    ":label: ex:17.4.9\n",
    "::::"
   ]
  },
  {
   "cell_type": "markdown",
   "id": "626cf083",
   "metadata": {
    "deletable": false,
    "nbgrader": {
     "cell_type": "markdown",
     "checksum": "8866dc9f9846a3af01f7250c91de5e42",
     "grade": true,
     "grade_id": "Witten-17-4-9",
     "locked": false,
     "points": 5,
     "schema_version": 3,
     "solution": true,
     "task": false
    }
   },
   "source": [
    "YOUR ANSWER HERE"
   ]
  },
  {
   "cell_type": "markdown",
   "id": "45e3a143",
   "metadata": {},
   "source": [
    "::::{exercise} Ex 17.4.10\n",
    ":label: ex:17.4.10\n",
    "::::"
   ]
  },
  {
   "cell_type": "markdown",
   "id": "fb5c91d1",
   "metadata": {
    "deletable": false,
    "nbgrader": {
     "cell_type": "markdown",
     "checksum": "c93b9a1b2e4a0224d7e0aa152fc64b47",
     "grade": true,
     "grade_id": "Witten-17-4-10",
     "locked": false,
     "points": 5,
     "schema_version": 3,
     "solution": true,
     "task": false
    }
   },
   "source": [
    "YOUR ANSWER HERE"
   ]
  },
  {
   "cell_type": "markdown",
   "id": "4eaa2a8e",
   "metadata": {},
   "source": [
    "::::{exercise} Ex 17.4.11\n",
    ":label: ex:17.4.11\n",
    "::::"
   ]
  },
  {
   "cell_type": "markdown",
   "id": "cb9a441f",
   "metadata": {
    "deletable": false,
    "nbgrader": {
     "cell_type": "markdown",
     "checksum": "87cd3fff2822f72948f2148b036f9db4",
     "grade": true,
     "grade_id": "Witten-17-4-11",
     "locked": false,
     "points": 5,
     "schema_version": 3,
     "solution": true,
     "task": false
    }
   },
   "source": [
    "YOUR ANSWER HERE"
   ]
  },
  {
   "cell_type": "markdown",
   "id": "ddde6066",
   "metadata": {},
   "source": [
    "::::{exercise} Ex 17.4.12\n",
    ":label: ex:17.4.12\n",
    "::::"
   ]
  },
  {
   "cell_type": "markdown",
   "id": "ed5315c0",
   "metadata": {
    "deletable": false,
    "nbgrader": {
     "cell_type": "markdown",
     "checksum": "486911484f59522bcf58e773ac3d9ce9",
     "grade": true,
     "grade_id": "Witten-17-4-12",
     "locked": false,
     "points": 5,
     "schema_version": 3,
     "solution": true,
     "task": false
    }
   },
   "source": [
    "YOUR ANSWER HERE"
   ]
  },
  {
   "cell_type": "markdown",
   "id": "305321f0",
   "metadata": {},
   "source": [
    "::::{exercise} Ex 17.4.13\n",
    ":label: ex:17.4.13\n",
    "::::"
   ]
  },
  {
   "cell_type": "markdown",
   "id": "62b397ab",
   "metadata": {
    "deletable": false,
    "nbgrader": {
     "cell_type": "markdown",
     "checksum": "8f882114ecc9bf0d30d0389dd041ae48",
     "grade": true,
     "grade_id": "Witten-17-4-13",
     "locked": false,
     "points": 5,
     "schema_version": 3,
     "solution": true,
     "task": false
    }
   },
   "source": [
    "YOUR ANSWER HERE"
   ]
  }
 ],
 "metadata": {
  "kernelspec": {
   "display_name": "Python 3 (ipykernel)",
   "language": "python",
   "name": "python3"
  }
 },
 "nbformat": 4,
 "nbformat_minor": 5
}
