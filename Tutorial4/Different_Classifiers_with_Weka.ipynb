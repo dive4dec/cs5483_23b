{
 "cells": [
  {
   "cell_type": "markdown",
   "id": "389fbb16",
   "metadata": {
    "slideshow": {
     "slide_type": "slide"
    }
   },
   "source": [
    "---\n",
    "title: Different Classifiers with Weka\n",
    "---"
   ]
  },
  {
   "cell_type": "markdown",
   "id": "89669a3b",
   "metadata": {
    "slideshow": {
     "slide_type": "-"
    },
    "tags": [
     "remove-cell"
    ]
   },
   "source": [
    "**CS5483 Data Warehousing and Data Mining**\n",
    "___"
   ]
  },
  {
   "cell_type": "code",
   "execution_count": null,
   "id": "7d45cac0",
   "metadata": {
    "init_cell": true,
    "slideshow": {
     "slide_type": "subslide"
    }
   },
   "outputs": [],
   "source": [
    "import logging\n",
    "\n",
    "import matplotlib.pyplot as plt\n",
    "import numpy as np\n",
    "import pandas as pd\n",
    "import weka.core.jvm as jvm\n",
    "from IPython import display\n",
    "from weka.classifiers import Classifier, Evaluation, FilteredClassifier\n",
    "from weka.core.classes import Random\n",
    "from weka.core.converters import Loader\n",
    "from weka.filters import Filter\n",
    "\n",
    "%matplotlib widget"
   ]
  },
  {
   "cell_type": "markdown",
   "id": "d3752633",
   "metadata": {},
   "source": [
    "In this notebook, you will use Weka to compare different classifiers trained using different algorithms or hyper-parameters."
   ]
  },
  {
   "cell_type": "markdown",
   "id": "a31f3dbb",
   "metadata": {},
   "source": [
    "## Noise and Training Curves"
   ]
  },
  {
   "cell_type": "markdown",
   "id": "fad2dcf5",
   "metadata": {},
   "source": [
    "In this notebook, you will complete the tutorial exercises in [\\[Witten11\\] Ex 17.2.6 to 17.2.11][Ex17.2] using the dataset `glass.arff` described at the beginning of [\\[Witten11\\] 17.2][17.2].\n",
    "\n",
    "[Ex17.2]: https://ebookcentral.proquest.com/lib/cityuhk/reader.action?docID=634862&ppg=603\n",
    "[17.2]: https://ebookcentral.proquest.com/lib/cityuhk/reader.action?docID=634862&ppg=601"
   ]
  },
  {
   "cell_type": "markdown",
   "id": "89bde759",
   "metadata": {},
   "source": [
    "The video on the left below demonstrates how to use the Explorer interface to train 3-Nearest-Neighbor (3NN) classifier with 50% of the training data corrupted by noise. Weka provides a convenient interface, called the [Experimenter][Experimenter], to compare the performances of different classification algorithms on different datasets. This is demonstrated by the video on the right.\n",
    "\n",
    ":::::{grid} 1 1 2 3\n",
    "\n",
    "::::{card}\n",
    ":header: [open in new tab](https://cityuhk-lms.ap.panopto.com/Panopto/Pages/Embed.aspx?id=f5c8bff9-11bf-4977-97dc-acbb00b7b129&autoplay=false&offerviewer=true&showtitle=true&showbrand=false&start=0&interactivity=all)\n",
    ":::{iframe} https://cityuhk-lms.ap.panopto.com/Panopto/Pages/Embed.aspx?id=f5c8bff9-11bf-4977-97dc-acbb00b7b129&autoplay=false&offerviewer=true&showtitle=true&showbrand=false&start=0&interactivity=all\n",
    ":::\n",
    "::::\n",
    "\n",
    "::::{card}\n",
    ":header: [open in new tab](https://cityuhk-lms.ap.panopto.com/Panopto/Pages/Embed.aspx?id=ff11b9a7-9844-4b5e-9e30-acbb00c5374a&autoplay=false&offerviewer=true&showtitle=true&showbrand=false&start=0&interactivity=all)\n",
    ":::{iframe} https://cityuhk-lms.ap.panopto.com/Panopto/Pages/Embed.aspx?id=ff11b9a7-9844-4b5e-9e30-acbb00c5374a&autoplay=false&offerviewer=true&showtitle=true&showbrand=false&start=0&interactivity=all\n",
    ":::\n",
    "::::\n",
    "\n",
    ":::::\n",
    "\n",
    "[Experimenter]: https://ebookcentral.proquest.com/lib/cityuhk/reader.action?docID=634862&ppg=540"
   ]
  },
  {
   "cell_type": "markdown",
   "id": "fd26a492",
   "metadata": {},
   "source": [
    "A more flexible way is to use the `python-weka-wrapper`. Choose the `weka` kernel and start the java virtual machine and load the `glass.arff` dataset:"
   ]
  },
  {
   "cell_type": "code",
   "execution_count": null,
   "id": "872b490d",
   "metadata": {
    "tags": [
     "remove-output"
    ]
   },
   "outputs": [],
   "source": [
    "jvm.start()\n",
    "loader = Loader(classname=\"weka.core.converters.ArffLoader\")\n",
    "data = loader.load_url(\n",
    "    \"https://raw.githubusercontent.com/Waikato/weka-3.8/master/wekadocs/data/\"\n",
    "    + \"glass.arff\"\n",
    ")\n",
    "data.class_is_last()"
   ]
  },
  {
   "cell_type": "markdown",
   "id": "840c418f",
   "metadata": {},
   "source": [
    "We can then create a filtered classifier with the following tools:\n",
    "\n",
    "```python\n",
    "from weka.classifiers import Classifier, Evaluation, FilteredClassifier\n",
    "from weka.core.classes import Random\n",
    "from weka.filters import Filter\n",
    "```"
   ]
  },
  {
   "cell_type": "code",
   "execution_count": null,
   "id": "4f93d5dc",
   "metadata": {},
   "outputs": [],
   "source": [
    "add_noise = Filter(classname=\"weka.filters.unsupervised.attribute.AddNoise\")\n",
    "IBk = Classifier(classname=\"weka.classifiers.lazy.IBk\")\n",
    "fc = FilteredClassifier()\n",
    "fc.filter = add_noise\n",
    "fc.classifier = IBk"
   ]
  },
  {
   "cell_type": "markdown",
   "id": "13e549c1",
   "metadata": {},
   "source": [
    "To compute the 10-fold cross-validated accuracy of 3-NN classification with 50% noise:"
   ]
  },
  {
   "cell_type": "code",
   "execution_count": null,
   "id": "e415313c",
   "metadata": {},
   "outputs": [],
   "source": [
    "add_noise.options = [\"-P\", str(50), \"-S\", str(0)]  # percentage noise  # random seed\n",
    "IBk.options = [\"-K\", str(3)]  # number of nearest neighbors\n",
    "evl = Evaluation(data)\n",
    "evl.crossvalidate_model(fc, data, 10, Random(1))\n",
    "evl.percent_correct"
   ]
  },
  {
   "cell_type": "markdown",
   "id": "44d4d59b",
   "metadata": {},
   "source": [
    "::::{exercise} Ex 17.2.6\n",
    ":label: ex:17.2.6\n",
    "\n",
    "To answer **Ex 17.2.6**, use any of the above methods and complete the `pandas` `DataFrame` in the following cell by filling in the accuracies (as floating point numbers) for different percentages of noise and numbers of nearest neighbors. You can assign each column of accuracies as follows:\n",
    "```python\n",
    "noise_df['k=1'] = [___, ___, ...]  # for 1-NN\n",
    "noise_df['k=3'] = [___, ___, ...]  # for 3-NN\n",
    "noise_df['k=5'] = [___, ___, ...]  # for 5-NN\n",
    "```\n",
    "\n",
    "To obtain the typical performance, consider repeating the experiment 10 times with different seeds and compute the average accuracies.\n",
    "\n",
    "::::"
   ]
  },
  {
   "cell_type": "code",
   "execution_count": null,
   "id": "1fef1358",
   "metadata": {
    "deletable": false,
    "nbgrader": {
     "cell_type": "code",
     "checksum": "7e528e878b086733f5e8a58d3d94519b",
     "grade": false,
     "grade_id": "Witten-17-2-6",
     "locked": false,
     "schema_version": 3,
     "solution": true,
     "task": false
    },
    "tags": [
     "remove-output"
    ]
   },
   "outputs": [],
   "source": [
    "noise_df = pd.DataFrame(columns=[\"k=1\", \"k=3\", \"k=5\"], dtype=float)\n",
    "noise_df.insert(0, \"Percentage Noise\", np.arange(0, 101, 10))\n",
    "\n",
    "# YOUR CODE HERE\n",
    "raise NotImplementedError()\n",
    "\n",
    "display.display(noise_df.round(2))\n",
    "\n",
    "plt.figure(figsize=(8, 5))\n",
    "for k in [\"1\", \"3\", \"5\"]:\n",
    "    plt.plot(\n",
    "        noise_df[\"Percentage Noise\"], noise_df[\"k=\" + k], label=\"k=\" + k, marker=\"o\"\n",
    "    )\n",
    "plt.legend()\n",
    "plt.xlabel(\"Percentage Noise\")\n",
    "plt.ylabel(\"Accuracies\")\n",
    "plt.title(r\"Training IB$k$ on noisy data for different $k$\")\n",
    "plt.show()"
   ]
  },
  {
   "cell_type": "code",
   "execution_count": null,
   "id": "d42918b4",
   "metadata": {
    "code_folding": [
     2
    ],
    "deletable": false,
    "editable": false,
    "nbgrader": {
     "cell_type": "code",
     "checksum": "0a059280123abdabf0e06bad488721bf",
     "grade": true,
     "grade_id": "test-Witten-17-2-6",
     "locked": true,
     "points": 1,
     "schema_version": 3,
     "solution": false,
     "task": false
    },
    "tags": [
     "remove-cell"
    ]
   },
   "outputs": [],
   "source": [
    "# hidden tests"
   ]
  },
  {
   "cell_type": "markdown",
   "id": "ee2cdf50",
   "metadata": {},
   "source": [
    "::::{exercise} Ex 17.2.7\n",
    ":label: ex:17.2.7\n",
    "::::"
   ]
  },
  {
   "cell_type": "markdown",
   "id": "4490b313",
   "metadata": {
    "deletable": false,
    "nbgrader": {
     "cell_type": "markdown",
     "checksum": "7e2dd6d66cc07f78b5b30557ea517ce5",
     "grade": true,
     "grade_id": "Witten-17-2-7",
     "locked": false,
     "points": 1,
     "schema_version": 3,
     "solution": true,
     "task": false
    }
   },
   "source": [
    "YOUR ANSWER HERE"
   ]
  },
  {
   "cell_type": "markdown",
   "id": "b28fae55",
   "metadata": {},
   "source": [
    "::::{exercise} Ex 17.2.8\n",
    ":label: ex:17.2.8\n",
    "::::"
   ]
  },
  {
   "cell_type": "markdown",
   "id": "0362d1db",
   "metadata": {
    "deletable": false,
    "nbgrader": {
     "cell_type": "markdown",
     "checksum": "a69d049056ff6677be8b6e73f55d71be",
     "grade": true,
     "grade_id": "Witten-17-2-8",
     "locked": false,
     "points": 1,
     "schema_version": 3,
     "solution": true,
     "task": false
    }
   },
   "source": [
    "YOUR ANSWER HERE"
   ]
  },
  {
   "cell_type": "markdown",
   "id": "169358ce",
   "metadata": {},
   "source": [
    "::::{exercise} Ex 17.2.9\n",
    ":label: ex:17.2.9\n",
    "\n",
    "\n",
    "Complete the `pandas` `DataFrame` in the following cell by filling in the accuracies (as floating point numbers) for different percentages of the dataset for training and different classifiers. You can assign each column of accuracies as follows:\n",
    "```python\n",
    "train_df['IBk'] = [___, ___, ...]\n",
    "train_df['J48'] = [___, ___, ...]\n",
    "```\n",
    "To obtain the typical performance, consider repeating the experiment 10 times with different seeds and compute the average accuracies.\n",
    "\n",
    "::::"
   ]
  },
  {
   "cell_type": "code",
   "execution_count": null,
   "id": "f2af9f81",
   "metadata": {
    "deletable": false,
    "nbgrader": {
     "cell_type": "code",
     "checksum": "cd04ebe298ded85915fcc5558a2d46dd",
     "grade": false,
     "grade_id": "Witten-17-2-9",
     "locked": false,
     "schema_version": 3,
     "solution": true,
     "task": false
    },
    "tags": [
     "remove-output"
    ]
   },
   "outputs": [],
   "source": [
    "train_df = pd.DataFrame(columns=[\"IBk\", \"J48\"], dtype=float)\n",
    "train_df.insert(0, \"Percentage of Training Set\", np.arange(10, 101, 10))\n",
    "\n",
    "# YOUR CODE HERE\n",
    "raise NotImplementedError()\n",
    "\n",
    "display.display(train_df.round(2))\n",
    "\n",
    "plt.figure(figsize=(8, 5))\n",
    "for clf in [\"IBk\", \"J48\"]:\n",
    "    plt.plot(\n",
    "        train_df[\"Percentage of Training Set\"], train_df[clf], label=clf, marker=\"o\"\n",
    "    )\n",
    "plt.legend()\n",
    "plt.xlabel(\"Percentage of Training Set\")\n",
    "plt.ylabel(\"Accuracies\")\n",
    "plt.title(r\"Training IB$k$ and J48 with different amount of data\")\n",
    "plt.show()"
   ]
  },
  {
   "cell_type": "code",
   "execution_count": null,
   "id": "c5ce1691",
   "metadata": {
    "code_folding": [
     2
    ],
    "deletable": false,
    "editable": false,
    "nbgrader": {
     "cell_type": "code",
     "checksum": "de86daa99060ee544581917ac73a8c7e",
     "grade": true,
     "grade_id": "test-Witten-17-2-9",
     "locked": true,
     "points": 1,
     "schema_version": 3,
     "solution": false,
     "task": false
    },
    "tags": [
     "remove-cell"
    ]
   },
   "outputs": [],
   "source": [
    "# hidden tests"
   ]
  },
  {
   "cell_type": "markdown",
   "id": "426296b9",
   "metadata": {},
   "source": [
    "::::{exercise} Ex 17.2.10\n",
    ":label: ex:17.2.10\n",
    "::::"
   ]
  },
  {
   "cell_type": "markdown",
   "id": "76767a6e",
   "metadata": {
    "deletable": false,
    "nbgrader": {
     "cell_type": "markdown",
     "checksum": "219ecc09e46292575b23eb3220b271f8",
     "grade": true,
     "grade_id": "Witten-17-2-10",
     "locked": false,
     "points": 1,
     "schema_version": 3,
     "solution": true,
     "task": false
    }
   },
   "source": [
    "YOUR ANSWER HERE"
   ]
  },
  {
   "cell_type": "markdown",
   "id": "fc057cdf",
   "metadata": {},
   "source": [
    "::::{exercise} Ex 17.2.11\n",
    ":label: ex:17.2.11\n",
    "::::"
   ]
  },
  {
   "cell_type": "markdown",
   "id": "ff9b195b",
   "metadata": {
    "deletable": false,
    "nbgrader": {
     "cell_type": "markdown",
     "checksum": "6955e69acec6e5ec043d232b98fb9e74",
     "grade": true,
     "grade_id": "Witten-17-2-11",
     "locked": false,
     "points": 1,
     "schema_version": 3,
     "solution": true,
     "task": false
    }
   },
   "source": [
    "YOUR ANSWER HERE"
   ]
  },
  {
   "cell_type": "markdown",
   "id": "d00f39f2",
   "metadata": {},
   "source": [
    "::::{exercise}\n",
    ":label: ex:7\n",
    " Will the accuracy be higher if we resample without replacement instead of with replacement? Why?\n",
    "::::"
   ]
  },
  {
   "cell_type": "markdown",
   "id": "9c9ac7f7",
   "metadata": {
    "deletable": false,
    "nbgrader": {
     "cell_type": "markdown",
     "checksum": "e6c9470f7b49f890fd2fea0398d8740d",
     "grade": true,
     "grade_id": "resample-without-replacement",
     "locked": false,
     "points": 1,
     "schema_version": 3,
     "solution": true,
     "task": false
    }
   },
   "source": [
    "YOUR ANSWER HERE"
   ]
  },
  {
   "cell_type": "markdown",
   "id": "731ee614",
   "metadata": {},
   "source": [
    "## Classification Boundaries"
   ]
  },
  {
   "cell_type": "markdown",
   "id": "56cf8b5c",
   "metadata": {},
   "source": [
    "Complete the tutorial exercises in [\\[Witten11\\] Ex 17.3.1 to 17.3.6][Witten-17-3] using the boundary visualizer for different classifiers on `iris.2D.arff` (NOT `iris.arff`) dataset. \n",
    "\n",
    "For OneR, note that the boundary is decided based on two conditions in Appendix A of [Holte93](https://mlpack.org/papers/ds.pdf):\n",
    "- (3a) Minimum size of the optimal class should be at least `minBucketSize`, and \n",
    "- (3b) the optimal class of the smallest value should be larger than the boundary to be of a different class value. \n",
    "\n",
    "::::{figure} images/OneR_boundary.dio.svg\n",
    ":name: fig:OneR\n",
    ":align: left\n",
    "\n",
    "OneR decision boundary\n",
    "::::\n",
    "\n",
    "[Witten-17-3]: https://ebookcentral.proquest.com/lib/cityuhk/reader.action?docID=634862&ppg=606"
   ]
  },
  {
   "cell_type": "markdown",
   "id": "c0ecb82d",
   "metadata": {},
   "source": [
    "::::{exercise} Ex 17.3.1\n",
    ":label: ex:17.3.1\n",
    "::::"
   ]
  },
  {
   "cell_type": "markdown",
   "id": "511d9e08",
   "metadata": {
    "deletable": false,
    "nbgrader": {
     "cell_type": "markdown",
     "checksum": "c3d870b8789483a951c9da1f0edd3999",
     "grade": true,
     "grade_id": "Witten-17-3-1",
     "locked": false,
     "points": 1,
     "schema_version": 3,
     "solution": true,
     "task": false
    }
   },
   "source": [
    "YOUR ANSWER HERE"
   ]
  },
  {
   "cell_type": "markdown",
   "id": "e18acba0",
   "metadata": {},
   "source": [
    "::::{exercise} Ex 17.3.2\n",
    ":label: ex:17.3.2\n",
    "\n",
    "- Change \"20\" to \"60\" in the statement of the exercise. \n",
    "- Look for the smallest critical value of the `minBucketSize` where the decision boundaries begin to change as `minBucketSize` increases. The critical value should be larger than 20.\n",
    "- If you want to use the Explorer interface to speed up your search, as mentioned in Ex 17.3.2, you will need to set the Test options to use the training set and observe the relevant numbers in the confusion matrix.\n",
    "::::"
   ]
  },
  {
   "cell_type": "markdown",
   "id": "1cfb0133",
   "metadata": {
    "deletable": false,
    "nbgrader": {
     "cell_type": "markdown",
     "checksum": "01b464e9c48f46385c1f46d9724d2c69",
     "grade": true,
     "grade_id": "Witten-17-3-2",
     "locked": false,
     "points": 1,
     "schema_version": 3,
     "solution": true,
     "task": false
    }
   },
   "source": [
    "YOUR ANSWER HERE"
   ]
  },
  {
   "cell_type": "markdown",
   "id": "16af1bc7",
   "metadata": {},
   "source": [
    "::::{exercise} Ex 17.3.3\n",
    ":label: ex:17.3.3\n",
    "::::"
   ]
  },
  {
   "cell_type": "markdown",
   "id": "9a37c9a1",
   "metadata": {
    "deletable": false,
    "nbgrader": {
     "cell_type": "markdown",
     "checksum": "ba68d4b8d4e6d3528e58d24522a6f606",
     "grade": true,
     "grade_id": "Witten-17-3-3",
     "locked": false,
     "points": 1,
     "schema_version": 3,
     "solution": true,
     "task": false
    }
   },
   "source": [
    "YOUR ANSWER HERE"
   ]
  },
  {
   "cell_type": "markdown",
   "id": "5e54a140",
   "metadata": {},
   "source": [
    "::::{exercise} Ex 17.3.4\n",
    ":label: ex:17.3.4\n",
    "::::"
   ]
  },
  {
   "cell_type": "markdown",
   "id": "659a1f45",
   "metadata": {
    "deletable": false,
    "nbgrader": {
     "cell_type": "markdown",
     "checksum": "bdb30eb2cb1ddf15bbb0251923dff02b",
     "grade": true,
     "grade_id": "Witten-17-3-4",
     "locked": false,
     "points": 1,
     "schema_version": 3,
     "solution": true,
     "task": false
    }
   },
   "source": [
    "YOUR ANSWER HERE"
   ]
  },
  {
   "cell_type": "markdown",
   "id": "8e42c81d",
   "metadata": {},
   "source": [
    "::::{exercise} Ex 17.3.5\n",
    ":label: ex:17.3.5\n",
    "\n",
    "This is tricky. Follow the hint provided by the exercise and click the relevant data point in Explorer's Visualize panel.\n",
    "\n",
    "![](images/IBk_boundary.dio.svg)\n",
    "::::"
   ]
  },
  {
   "cell_type": "markdown",
   "id": "3b4ac7a9",
   "metadata": {
    "deletable": false,
    "nbgrader": {
     "cell_type": "markdown",
     "checksum": "3d26ee799f64c3d0e6b3ebd5c628267f",
     "grade": true,
     "grade_id": "Witten-17-3-5",
     "locked": false,
     "points": 1,
     "schema_version": 3,
     "solution": true,
     "task": false
    }
   },
   "source": [
    "YOUR ANSWER HERE"
   ]
  },
  {
   "cell_type": "markdown",
   "id": "11ddf1f2",
   "metadata": {},
   "source": [
    "::::{exercise} Ex 17.3.6\n",
    ":label: ex:17.3.6\n",
    "\n",
    "![](images/IBk_boundary_5_10.dio.svg)\n",
    "::::"
   ]
  },
  {
   "cell_type": "markdown",
   "id": "60c1f840",
   "metadata": {
    "deletable": false,
    "nbgrader": {
     "cell_type": "markdown",
     "checksum": "5b99e1a7a3046920fb8e3e52016e2e80",
     "grade": true,
     "grade_id": "Witten-17-3-6",
     "locked": false,
     "points": 1,
     "schema_version": 3,
     "solution": true,
     "task": false
    }
   },
   "source": [
    "YOUR ANSWER HERE"
   ]
  }
 ],
 "metadata": {
  "kernelspec": {
   "display_name": "weka",
   "language": "python",
   "name": "weka"
  },
  "language_info": {
   "name": ""
  }
 },
 "nbformat": 4,
 "nbformat_minor": 5
}
