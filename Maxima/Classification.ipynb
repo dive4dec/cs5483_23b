{
 "cells": [
  {
   "cell_type": "markdown",
   "id": "38ce5090",
   "metadata": {},
   "source": [
    "# Classification"
   ]
  },
  {
   "cell_type": "markdown",
   "id": "f5e73b04",
   "metadata": {
    "tags": [
     "remove-cell"
    ]
   },
   "source": [
    "**CS5483 Data Warehousing and Data Mining**\n",
    "___"
   ]
  },
  {
   "cell_type": "code",
   "execution_count": null,
   "id": "08b61761",
   "metadata": {},
   "outputs": [],
   "source": [
    "load(\"datamining.mac\")$"
   ]
  },
  {
   "cell_type": "markdown",
   "id": "ef8561f3",
   "metadata": {},
   "source": [
    "## Decision tree induction"
   ]
  },
  {
   "cell_type": "markdown",
   "id": "783e59a0",
   "metadata": {},
   "source": [
    "### Distribution"
   ]
  },
  {
   "cell_type": "markdown",
   "id": "1d88d5c3",
   "metadata": {},
   "source": [
    "`empirical(lst)` computes the empirical distribution of the list `lst`."
   ]
  },
  {
   "cell_type": "code",
   "execution_count": null,
   "id": "1ae84456",
   "metadata": {},
   "outputs": [],
   "source": [
    "block(\n",
    "    [lst:[2,2,1,3,3,3]],\n",
    "    empirical(lst)\n",
    ");"
   ]
  },
  {
   "cell_type": "markdown",
   "id": "115227bf",
   "metadata": {},
   "source": [
    "A pair is returned, where \n",
    "- the first element is the list of unique values sorted in ascending order, and \n",
    "- the second element is their fractional number of occurences."
   ]
  },
  {
   "cell_type": "markdown",
   "id": "a72be2c0",
   "metadata": {},
   "source": [
    "### Information gain"
   ]
  },
  {
   "cell_type": "markdown",
   "id": "71f0fbf5",
   "metadata": {},
   "source": [
    "An impurity measure for decision tree induction is entropy computed as `entropy(ps)` for some distribution `ps` as a list of probability masses:"
   ]
  },
  {
   "cell_type": "code",
   "execution_count": null,
   "id": "d80eeaf5",
   "metadata": {},
   "outputs": [],
   "source": [
    "entropy(ps);"
   ]
  },
  {
   "cell_type": "markdown",
   "id": "95fde3e8",
   "metadata": {},
   "source": [
    "The information gain ratios and related information quantities can be computed as follows:"
   ]
  },
  {
   "cell_type": "code",
   "execution_count": null,
   "id": "57e1f627",
   "metadata": {},
   "outputs": [],
   "source": [
    "block(\n",
    "    [\n",
    "        fns: ['i, 'X_1, 'X_2, 'Y],\n",
    "        n: 6,\n",
    "        gen: lambda([i], [i, random(2), random(2), random(2)]),\n",
    "        conds: ['X_1, 'X_2],\n",
    "        target: 'Y,\n",
    "        data, info\n",
    "    ],\n",
    "    data: build_data(fns, gen, n),\n",
    "    [\n",
    "        data,\n",
    "        Info(data, target),\n",
    "        build_data_from_list(\n",
    "            ['X, 'Info[X], 'Gain[X], 'SplitInfo[X], 'GainRatio[X]],\n",
    "            makelist(\n",
    "                map('simplify,\n",
    "                    [X,\n",
    "                     InfoX(data, target, X), \n",
    "                     Gain(data, target, X), \n",
    "                     SplitInfo(data, X), \n",
    "                     GainRatio(data, target, X)]\n",
    "                ), \n",
    "                X, conds\n",
    "            )\n",
    "        )\n",
    "    ]\n",
    ");"
   ]
  },
  {
   "cell_type": "markdown",
   "id": "1eb21c33",
   "metadata": {},
   "source": [
    "where\n",
    "\n",
    "- `Info(data, target)` computes the information content (entropy) of `target` in `data`.\n",
    "- `InfoX(data, target, X)` computes the information (conditional entropy) given `X`.\n",
    "- `Gain(data, target, X)` calculates the information gain of `target` with `X`.\n",
    "- `SplitInfo(data, X)` calculates the split information (entropy) of `X`.\n",
    "- `GainRatio(data, target, X)` calculates the information gain ratio of `target` with `X`."
   ]
  },
  {
   "cell_type": "code",
   "execution_count": null,
   "id": "de6e2032",
   "metadata": {},
   "outputs": [],
   "source": [
    "describe(makelist)$"
   ]
  },
  {
   "cell_type": "code",
   "execution_count": null,
   "id": "73c1496e",
   "metadata": {},
   "outputs": [],
   "source": [
    "describe(map)$"
   ]
  },
  {
   "cell_type": "markdown",
   "id": "9e1b6b44",
   "metadata": {},
   "source": [
    "### Gini impurity"
   ]
  },
  {
   "cell_type": "markdown",
   "id": "167e67e4",
   "metadata": {},
   "source": [
    "Another impurity measure is the Gini impurity, which is computed as `gini(ps)`:"
   ]
  },
  {
   "cell_type": "code",
   "execution_count": null,
   "id": "c6f3ae2c",
   "metadata": {},
   "outputs": [],
   "source": [
    "gini(ps);"
   ]
  },
  {
   "cell_type": "markdown",
   "id": "d0d7121b",
   "metadata": {},
   "source": [
    "The quantity related to the Gini impurity can be computed as follows:"
   ]
  },
  {
   "cell_type": "code",
   "execution_count": null,
   "id": "20bd74b5",
   "metadata": {},
   "outputs": [],
   "source": [
    "block(\n",
    "    [\n",
    "        fns: ['i, 'X_1, 'X_2, 'Y],\n",
    "        n: 6,\n",
    "        gen: lambda([i], [i, random(2), random(2), random(2)]),\n",
    "        conds: ['X_1, 'X_2, chi('X_1<=0.5), chi('X_2>0.5)],\n",
    "        target: 'Y,\n",
    "        data\n",
    "    ],\n",
    "    data: build_data(fns, gen, n),\n",
    "    [\n",
    "        data, Gini(data, target),\n",
    "        build_data_from_list(\n",
    "            ['X, 'Gini[X], 'GiniDrop[X]],\n",
    "            makelist(\n",
    "                [X, GiniX(data, target, X), GiniDrop(data, target, X)],\n",
    "                X, conds\n",
    "            )\n",
    "        )\n",
    "    ]\n",
    ");"
   ]
  },
  {
   "cell_type": "markdown",
   "id": "c3acc202",
   "metadata": {},
   "source": [
    "where\n",
    "\n",
    "- `Gini(data, target)` computes the Gini impurity of `target` in `data`.\n",
    "- `GiniX(data, target, X)` computes the conditional Gini impurity of `target` conditioned on `X`.\n",
    "- `GiniDrop(data, target, X)` computes the drop in Gini impurity for a splitting criterion `X`."
   ]
  },
  {
   "cell_type": "markdown",
   "id": "db9d3163",
   "metadata": {},
   "source": [
    "## Rule-based classifier"
   ]
  },
  {
   "cell_type": "markdown",
   "id": "1da2f467",
   "metadata": {},
   "source": [
    "### FOIL gain"
   ]
  },
  {
   "cell_type": "markdown",
   "id": "9959557e",
   "metadata": {},
   "source": [
    "The following formula computes the FOIL gain \n",
    "- from a rule covering `p_0` positives and `n_0` negatives\n",
    "- to a rule covering `p_1` positives and `n_1` negatives."
   ]
  },
  {
   "cell_type": "code",
   "execution_count": null,
   "id": "df1b6b07",
   "metadata": {},
   "outputs": [],
   "source": [
    "foilgain(p_0,n_0,p_1,n_1);"
   ]
  },
  {
   "cell_type": "markdown",
   "id": "6d3f2a0e",
   "metadata": {},
   "source": [
    "To compute FOIL gain from data:"
   ]
  },
  {
   "cell_type": "code",
   "execution_count": null,
   "id": "b22c7b1a",
   "metadata": {},
   "outputs": [],
   "source": [
    "block(\n",
    "    [\n",
    "        fns: ['i, 'X_1, 'X_2, 'Y],\n",
    "        n: 6,\n",
    "        gen: lambda([i], [i, random(2), random(2), random(2)]),\n",
    "        cjts: ['X_1=1, 'X_2=1],\n",
    "        target: 'Y\n",
    "    ],\n",
    "    R: [ar(rest(cjts, -1),target=1), ar(cjts,target=1)],\n",
    "    data: build_data(fns, gen, n),\n",
    "    [data, \n",
    "    build_data_from_list(\n",
    "        [\"Original rule\", \"New rule\", 'FOILGain],\n",
    "        [[R[1], R[2], FOILGain(data, target, cjts)]])]\n",
    ");"
   ]
  },
  {
   "cell_type": "markdown",
   "id": "1f1a321e",
   "metadata": {},
   "source": [
    "`FOILGain(data, target, cjts)` returns the FOIL gain from rule $R'$ to rule $R$ where\n",
    "- $R'$: `rest(cjts,-1)` $\\implies Y=1$\n",
    "- $R$: `cjts` $\\implies Y=1$\n",
    "\n",
    "and `rest(cjts,-1)` is the list of conjuncts in `cjts` except the last one."
   ]
  },
  {
   "cell_type": "markdown",
   "id": "3f046be7",
   "metadata": {},
   "source": [
    "### FOIL prune"
   ]
  },
  {
   "cell_type": "markdown",
   "id": "becd714b",
   "metadata": {},
   "source": [
    "FOIL prune can be computed from the number `p` of positives and the number `n` of negatives covered by a rule."
   ]
  },
  {
   "cell_type": "code",
   "execution_count": null,
   "id": "f4edafc6",
   "metadata": {},
   "outputs": [],
   "source": [
    "foilprune(p,n);"
   ]
  },
  {
   "cell_type": "markdown",
   "id": "c4150f7b",
   "metadata": {},
   "source": [
    "To compute FOIL prune from data:"
   ]
  },
  {
   "cell_type": "code",
   "execution_count": null,
   "id": "5eda58c8",
   "metadata": {},
   "outputs": [],
   "source": [
    "block(\n",
    "    [\n",
    "        fns: ['i, 'X_1, 'X_2, 'Y],\n",
    "        n: 6,\n",
    "        gen: lambda([i], [i, random(2), random(2), random(2)]),\n",
    "        cjts: ['X_1=1, 'X_2=1],\n",
    "        target: 'Y,\n",
    "        data\n",
    "    ],\n",
    "    R: [ar(cjts,target=1), ar(rest(cjts, -1),target=1)],\n",
    "    data: build_data(fns, gen, n),\n",
    "    FP: FOILPrune(data, target, cjts),\n",
    "    [data, \n",
    "    build_data_from_list(\n",
    "        [\"Rule\", 'FOILPrune],\n",
    "        makelist([R[i], FP[i]], i, [1,2]))]\n",
    ");"
   ]
  },
  {
   "cell_type": "markdown",
   "id": "5bbe4c1f",
   "metadata": {},
   "source": [
    "It returns a pair consisting of the FOIL prunes for the rules\n",
    "- $R$: `cjts` $\\implies Y=1$\n",
    "- $R'$: `rest(cjts,-1)` $\\implies Y=1$"
   ]
  }
 ],
 "metadata": {
  "kernelspec": {
   "display_name": "Maxima",
   "language": "maxima",
   "name": "maxima"
  }
 },
 "nbformat": 4,
 "nbformat_minor": 5
}
