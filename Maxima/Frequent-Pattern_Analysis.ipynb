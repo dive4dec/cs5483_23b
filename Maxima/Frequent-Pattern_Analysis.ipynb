{
 "cells": [
  {
   "cell_type": "markdown",
   "id": "f5bdff9e",
   "metadata": {},
   "source": [
    "# Frequent-Pattern Analysis"
   ]
  },
  {
   "cell_type": "markdown",
   "id": "d05fdde3",
   "metadata": {
    "tags": [
     "remove-cell"
    ]
   },
   "source": [
    "**CS5483 Data Warehousing and Data Mining**\n",
    "___"
   ]
  },
  {
   "cell_type": "code",
   "execution_count": null,
   "id": "91c27014",
   "metadata": {},
   "outputs": [],
   "source": [
    "load(\"datamining.mac\")$"
   ]
  },
  {
   "cell_type": "markdown",
   "id": "ae6d38ab",
   "metadata": {},
   "source": [
    "## Apriori algorithm"
   ]
  },
  {
   "cell_type": "markdown",
   "id": "8e740481",
   "metadata": {},
   "source": [
    "### Transactional data"
   ]
  },
  {
   "cell_type": "markdown",
   "id": "f849944e",
   "metadata": {},
   "source": [
    "A transactional data set is a list of transactions in the form of subsets of items purchased. `all_items(data)` returns the list of all items in a transactional data set `data`."
   ]
  },
  {
   "cell_type": "code",
   "execution_count": null,
   "id": "228d070f",
   "metadata": {},
   "outputs": [],
   "source": [
    "block(\n",
    "    [\n",
    "        data: [\n",
    "            {    3,2,1},\n",
    "            {    3,2,1},\n",
    "            {  4,  2,1},\n",
    "            {  4,  2,1},\n",
    "            {5,  3,  1}\n",
    "        ]\n",
    "    ],\n",
    "    all_items(data)\n",
    ");"
   ]
  },
  {
   "cell_type": "markdown",
   "id": "a4439520",
   "metadata": {},
   "source": [
    "### Frequent itemsets"
   ]
  },
  {
   "cell_type": "markdown",
   "id": "2f038816",
   "metadata": {},
   "source": [
    "The support count of an item set (a set of items) is the number of transactions that contain all items in the item set:"
   ]
  },
  {
   "cell_type": "code",
   "execution_count": null,
   "id": "ed1f6828",
   "metadata": {},
   "outputs": [],
   "source": [
    "support_count('data, 'A);"
   ]
  },
  {
   "cell_type": "markdown",
   "id": "94969f9c",
   "metadata": {},
   "source": [
    "where $\\chi(p)$ is the indicator function of the predicate $p$, and `subsetp(A, T)` returns true iff `A` is a subset of `T`:"
   ]
  },
  {
   "cell_type": "code",
   "execution_count": null,
   "id": "c007d876",
   "metadata": {},
   "outputs": [],
   "source": [
    "chi('p);"
   ]
  },
  {
   "cell_type": "code",
   "execution_count": null,
   "id": "45136486",
   "metadata": {},
   "outputs": [],
   "source": [
    "describe(subsetp)$"
   ]
  },
  {
   "cell_type": "markdown",
   "id": "e6ab2564",
   "metadata": {},
   "source": [
    "`support_counts(data, C)` returns the list of `[A,c]` where `A` is an itemset in `C`, and `c` is the support count."
   ]
  },
  {
   "cell_type": "code",
   "execution_count": null,
   "id": "45199c36",
   "metadata": {},
   "outputs": [],
   "source": [
    "block(\n",
    "    [\n",
    "        data: [\n",
    "            {    3,2,1},\n",
    "            {    3,2,1},\n",
    "            {  4,  2,1},\n",
    "            {  4,  2,1},\n",
    "            {5,  3,  1}\n",
    "        ],\n",
    "        C\n",
    "    ],\n",
    "    C: makelist({i},i,all_items(data)),\n",
    "    support_counts(data, C)\n",
    ");"
   ]
  },
  {
   "cell_type": "markdown",
   "id": "414407d0",
   "metadata": {},
   "source": [
    "`frequent_itemsets(C, min_sup)` filters the list of `[A,c]` to remove itemsets `A` with count `c` strictly below `min_sup`."
   ]
  },
  {
   "cell_type": "code",
   "execution_count": null,
   "id": "716aae19",
   "metadata": {},
   "outputs": [],
   "source": [
    "block(\n",
    "    [\n",
    "        data: [\n",
    "            {    3,2,1},\n",
    "            {    3,2,1},\n",
    "            {  4,  2,1},\n",
    "            {  4,  2,1},\n",
    "            {5,  3,  1}\n",
    "        ],\n",
    "        min_sup:2,\n",
    "        C\n",
    "    ],\n",
    "    C: support_counts(data, makelist({i},i,all_items(data))),\n",
    "    frequent_itemsets(C, min_sup)\n",
    ");"
   ]
  },
  {
   "cell_type": "markdown",
   "id": "dc1e2ade",
   "metadata": {},
   "source": [
    "### Frequent $1$-itemsets"
   ]
  },
  {
   "cell_type": "markdown",
   "id": "d33cfa24",
   "metadata": {},
   "source": [
    "`apriori1(data, min_sup)` implements the apriori algorithm to generate the frequent 1-itemsets of `data` with support counts at least `min_sup`."
   ]
  },
  {
   "cell_type": "code",
   "execution_count": null,
   "id": "8d163aaf",
   "metadata": {},
   "outputs": [],
   "source": [
    "block(\n",
    "    [\n",
    "        data: [\n",
    "            {    3,2,1},\n",
    "            {    3,2,1},\n",
    "            {  4,  2,1},\n",
    "            {  4,  2,1},\n",
    "            {5,  3,  1}\n",
    "        ],\n",
    "        min_sup:2\n",
    "    ],\n",
    "    apriori1(data, min_sup)\n",
    ");"
   ]
  },
  {
   "cell_type": "markdown",
   "id": "f846f1cf",
   "metadata": {},
   "source": [
    "### Frequent $k$-itemsets"
   ]
  },
  {
   "cell_type": "markdown",
   "id": "e5e3c081",
   "metadata": {},
   "source": [
    "Given a transactional data set `data` and a list `L` of frequent $(k-1)$-itemsets with $k>1$, `apriorik(data, L, min_sup)` generates the list of `[A,c]` where `A` is a frequent $k$-itemset of `data` with support count `c` at least `min_sup`."
   ]
  },
  {
   "cell_type": "code",
   "execution_count": null,
   "id": "fb0cfda2",
   "metadata": {},
   "outputs": [],
   "source": [
    "block(\n",
    "    [\n",
    "        data: [\n",
    "            {    3,2,1},\n",
    "            {    3,2,1},\n",
    "            {  4,  2,1},\n",
    "            {  4,  2,1},\n",
    "            {5,  3,  1}\n",
    "        ],\n",
    "        min_sup:2,\n",
    "        L_1\n",
    "    ],\n",
    "    L_1: apriori1(data, min_sup),\n",
    "    L_2: apriorik(data, L_1, min_sup),\n",
    "    L_3: apriorik(data, L_2, min_sup),\n",
    "    map(lambda([k, L], build_data_from_list([sconcat(k,\"-itemset\"), \"count\"], L)), [2, 3], [L_2, L_3])\n",
    ");"
   ]
  },
  {
   "cell_type": "markdown",
   "id": "172b8760",
   "metadata": {},
   "source": [
    "`apriori(data, min_sup)` generates the list of frequent $k$-itemsets for $k$ from $1$ until there are no more frequent itemsets."
   ]
  },
  {
   "cell_type": "code",
   "execution_count": null,
   "id": "04e470cc",
   "metadata": {},
   "outputs": [],
   "source": [
    "block(\n",
    "    [\n",
    "        data: [\n",
    "            {    3,2,1},\n",
    "            {    3,2,1},\n",
    "            {  4,  2,1},\n",
    "            {  4,  2,1},\n",
    "            {5,  3,  1}\n",
    "        ],\n",
    "        min_sup:2,\n",
    "        L\n",
    "    ],\n",
    "    L:apriori(data, min_sup),\n",
    "    makelist(build_data_from_list([sconcat(length(Lk[1][1]),\"-itemset\"), \"count\"], Lk), Lk, L)\n",
    ");"
   ]
  },
  {
   "cell_type": "markdown",
   "id": "1a71972b",
   "metadata": {},
   "source": [
    "### Join and prune steps"
   ]
  },
  {
   "cell_type": "markdown",
   "id": "7c998ed8",
   "metadata": {},
   "source": [
    "`apriori_join` and `apriori_prune` implement the join and prune steps, respectively:"
   ]
  },
  {
   "cell_type": "code",
   "execution_count": null,
   "id": "19014191",
   "metadata": {},
   "outputs": [],
   "source": [
    "block(\n",
    "    [\n",
    "        data: [\n",
    "            {    3,2,1},\n",
    "            {    3,2,1},\n",
    "            {  4,  2,1},\n",
    "            {  4,  2,1},\n",
    "            {5,  3,  1}\n",
    "        ],\n",
    "        min_sup:2,\n",
    "        L_1\n",
    "    ],\n",
    "    L_1: apriori1(data, min_sup),\n",
    "    L_2: apriorik(data, L_1, min_sup),\n",
    "    C:apriori_join(data, L_2),\n",
    "    [C, apriori_prune(data, C, setify(map(first,L_2)))]\n",
    ");"
   ]
  },
  {
   "cell_type": "markdown",
   "id": "e5bc0ef4",
   "metadata": {},
   "source": [
    "## Association rule mining"
   ]
  },
  {
   "cell_type": "markdown",
   "id": "e5798cd2",
   "metadata": {},
   "source": [
    "### Association rules"
   ]
  },
  {
   "cell_type": "markdown",
   "id": "fae31745",
   "metadata": {},
   "source": [
    "An association rule can be created as follows:"
   ]
  },
  {
   "cell_type": "code",
   "execution_count": null,
   "id": "b87c10f2",
   "metadata": {},
   "outputs": [],
   "source": [
    "block(\n",
    "    [\n",
    "        R:ar('A,'B)\n",
    "    ],\n",
    "    build_data_from_list(\n",
    "        [\"rule\", \"antecedent\", \"consequence\"],\n",
    "        [[R, ar_A(R), ar_B(R)]]\n",
    "    )\n",
    ");"
   ]
  },
  {
   "cell_type": "markdown",
   "id": "2cfc668d",
   "metadata": {},
   "source": [
    "- `ar(A,B)` creates an association rule `(A ⇒ B)`.\n",
    "- `ar_A(R)` returns the itemset associated with the antecedent of `R`.\n",
    "- `ar_B(R)` returns the itemset associated with the consequence of `R`."
   ]
  },
  {
   "cell_type": "markdown",
   "id": "6629cf75",
   "metadata": {},
   "source": [
    "### Rule qualities"
   ]
  },
  {
   "cell_type": "markdown",
   "id": "2ddf9163",
   "metadata": {},
   "source": [
    "The following computes various qualities of an association rule from transaction data:"
   ]
  },
  {
   "cell_type": "code",
   "execution_count": null,
   "id": "5118b362",
   "metadata": {},
   "outputs": [],
   "source": [
    "block(\n",
    "    [\n",
    "        data: [\n",
    "            {    3,2,1},\n",
    "            {    3,2,1},\n",
    "            {  4,  2,1},\n",
    "            {  4,  2,1},\n",
    "            {5,  3,  1}\n",
    "        ],\n",
    "        min_sup:2,\n",
    "        R: ar({1,2},{3})\n",
    "    ],\n",
    "    [coverage(data, R), support(data, R), confidence(data, R), prior(data, R), lift(data, R)] \n",
    ");"
   ]
  },
  {
   "cell_type": "markdown",
   "id": "41cb67f1",
   "metadata": {},
   "source": [
    "### Support-confidence framework"
   ]
  },
  {
   "cell_type": "markdown",
   "id": "7e65e36c",
   "metadata": {},
   "source": [
    "Association rules can be generated using the support-confidence framework as follows:"
   ]
  },
  {
   "cell_type": "code",
   "execution_count": null,
   "id": "128f5fc7",
   "metadata": {},
   "outputs": [],
   "source": [
    "block(\n",
    "    [\n",
    "        data: [\n",
    "            {    3,2,1},\n",
    "            {    3,2,1},\n",
    "            {  4,  2,1},\n",
    "            {  4,  2,1},\n",
    "            {5,  3,  1}\n",
    "        ],\n",
    "        c:6/10, s:4/10\n",
    "    ],\n",
    "    lst:support_confidence_framework(data, s, c),\n",
    "    build_data_from_list(\n",
    "        [\"rule\", \"coverage\", \"support\", \"confidence\", \"prior\", \"lift\"],\n",
    "        sort(\n",
    "            lst, \n",
    "            lambda([a,b], a[4]>b[4] or (a[4]=b[4] and a[6]>b[6])) /* descending order in (confidence, lift) */\n",
    "        )\n",
    "    )\n",
    ");"
   ]
  },
  {
   "cell_type": "markdown",
   "id": "11901793",
   "metadata": {},
   "source": [
    "## Data cube computation"
   ]
  },
  {
   "cell_type": "markdown",
   "id": "1d4319eb",
   "metadata": {},
   "source": [
    "### Bottom-up construction"
   ]
  },
  {
   "cell_type": "markdown",
   "id": "cd03fca9",
   "metadata": {},
   "source": [
    "`BUC(data, dims, fact, min_val)` implements the bottom-up construction of the iceberg cube where\n",
    "- `data` is the base cuboid,\n",
    "- `dims` is the names of the dimensions,\n",
    "- `fact` is the name of the fact, and \n",
    "- `min_val` being the minimum value of fact required by the iceberg condition."
   ]
  },
  {
   "cell_type": "code",
   "execution_count": null,
   "id": "c3ad241e",
   "metadata": {},
   "outputs": [],
   "source": [
    "block(\n",
    "    [\n",
    "        fns: ['A, 'B, 'C, \"fact\"],\n",
    "        lst: [\n",
    "            ['a_2, 'b_2, 'c_2, 1],\n",
    "            ['a_1, 'b_2, 'c_1, 1],\n",
    "            ['a_2, 'b_2, 'c_1, 1],\n",
    "            ['a_1, 'b_1, 'c_1, 1]\n",
    "        ],\n",
    "        dims, fact, data\n",
    "    ],\n",
    "    dims: rest(fns,-1),\n",
    "    fact: last(fns),\n",
    "    data: build_data_from_list(fns, lst),\n",
    "    BUC(data, dims, fact, 2)\n",
    ");"
   ]
  }
 ],
 "metadata": {
  "kernelspec": {
   "display_name": "Maxima",
   "language": "maxima",
   "name": "maxima"
  }
 },
 "nbformat": 4,
 "nbformat_minor": 5
}
