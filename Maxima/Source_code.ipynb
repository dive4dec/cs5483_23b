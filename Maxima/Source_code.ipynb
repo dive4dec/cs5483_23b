{
 "cells": [
  {
   "cell_type": "markdown",
   "id": "92193361",
   "metadata": {},
   "source": [
    "# Source code"
   ]
  },
  {
   "cell_type": "markdown",
   "id": "e8f013ba",
   "metadata": {
    "tags": [
     "remove-cell"
    ]
   },
   "source": [
    "**CS5483 Data Warehousing and Data Mining**\n",
    "___"
   ]
  },
  {
   "cell_type": "markdown",
   "id": "c6daf757",
   "metadata": {},
   "source": [
    "Content of [`datamining.mac`](datamining.mac)."
   ]
  },
  {
   "cell_type": "markdown",
   "id": "7b0660b1",
   "metadata": {},
   "source": [
    "::::{literalinclude} datamining.mac\n",
    ":language: maxima\n",
    "::::"
   ]
  },
  {
   "cell_type": "code",
   "execution_count": null,
   "id": "7a766c77",
   "metadata": {
    "tags": [
     "remove-cell"
    ]
   },
   "outputs": [],
   "source": [
    "from IPython.display import Code\n",
    "\n",
    "Code(\"datamining.mac\", language=\"Maxima\")"
   ]
  }
 ],
 "metadata": {
  "kernelspec": {
   "display_name": "Python 3 (ipykernel)",
   "language": "python",
   "name": "python3"
  }
 },
 "nbformat": 4,
 "nbformat_minor": 5
}
