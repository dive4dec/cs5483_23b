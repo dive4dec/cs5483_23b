{
 "cells": [
  {
   "cell_type": "markdown",
   "id": "57c04580",
   "metadata": {},
   "source": [
    "# Clustering"
   ]
  },
  {
   "cell_type": "markdown",
   "id": "961bfb71",
   "metadata": {
    "tags": [
     "remove-cell"
    ]
   },
   "source": [
    "**CS5483 Data Warehousing and Data Mining**\n",
    "___"
   ]
  },
  {
   "cell_type": "code",
   "execution_count": null,
   "id": "0461f494",
   "metadata": {},
   "outputs": [],
   "source": [
    "load(\"datamining.mac\")$"
   ]
  },
  {
   "cell_type": "markdown",
   "id": "87d1d778",
   "metadata": {},
   "source": [
    "## Centroid-based methods"
   ]
  },
  {
   "cell_type": "markdown",
   "id": "1a144d1f",
   "metadata": {},
   "source": [
    "### Partitional clusters"
   ]
  },
  {
   "cell_type": "markdown",
   "id": "9f6d903b",
   "metadata": {},
   "source": [
    "A cluster assignment is a list of cluster indices, where the $i$-th index is the cluster label of the $i$-th instance in a data set."
   ]
  },
  {
   "cell_type": "code",
   "execution_count": null,
   "id": "0056a9cb",
   "metadata": {},
   "outputs": [],
   "source": [
    "block(\n",
    "    [C: [2,2,1,1]],\n",
    "    to_clusters(C)\n",
    ");"
   ]
  },
  {
   "cell_type": "markdown",
   "id": "dcd81f89",
   "metadata": {},
   "source": [
    "In the above, `to_cluster(C)` converts a cluster assignment `C` to a pair where  \n",
    "- the first element is the list of unique cluster indices in ascending order, and\n",
    "- the second element is the corresponding list of clusters, each of which is a list of row indices of C in ascending order associated with the cluster index."
   ]
  },
  {
   "cell_type": "markdown",
   "id": "f92f0650",
   "metadata": {},
   "source": [
    "### Compute centroids from clusters"
   ]
  },
  {
   "cell_type": "markdown",
   "id": "dcbd4372",
   "metadata": {},
   "source": [
    "The centroids can be computed for a list of clusters of data points by `centroids(Cs, cfns)` where\n",
    "- `Cs` is a list of data sets all with\n",
    "- the features given by the list `cfns` for calculating the centroids."
   ]
  },
  {
   "cell_type": "code",
   "execution_count": null,
   "id": "03db3ce2",
   "metadata": {},
   "outputs": [],
   "source": [
    "block(\n",
    "    [\n",
    "        fns: ['i, 'X_1, 'X_2],\n",
    "        cfns: ['X_1, 'X_2],\n",
    "        data_1, data_2\n",
    "    ],\n",
    "    data_1: build_data(fns, lambda([i], [i, random(2), random(2)]),2),\n",
    "    data_2: build_data(fns, lambda([i], [i, 3+random(2), random(2)]),2),\n",
    "    cs: centroids([data_1, data_2], cfns),\n",
    "    [data_1, data_2, cs]\n",
    ");"
   ]
  },
  {
   "cell_type": "markdown",
   "id": "402e670b",
   "metadata": {},
   "source": [
    "The centroids are returned as a data set on `cfns` where the $j$-th instance is the centroid of the $j$ cluster `Cs[j]`. \n",
    "\n",
    ":::{note}\n",
    "\n",
    "It is okay for the data to have more features than those in `cfns` used for calculating the centroids.\n",
    "\n",
    ":::"
   ]
  },
  {
   "cell_type": "markdown",
   "id": "73c8bc53",
   "metadata": {},
   "source": [
    "A data set can be split into clusters using `split_data_by_clusters(data, C)` where\n",
    "- `data` is the data set to split, and\n",
    "- `C` is the cluster assignment in the form of a list of cluster indices, one for each instance of the `data`.\n",
    "\n",
    "Centroids can also be obtained for a cluster assignment by `centroids_for_clusters(data, cfns, C)` where\n",
    "- `cfns` is the list of features to use for calculating the centroids.\n",
    "\n",
    "The total variation (sum of squared distances) of the data points to their cluster centers can be computed by `variation(data,C,cs)` where\n",
    "- `cs` is the data where the $i$-th instance is the center of the $i$ cluster in `data` according to the cluster assignment `C`."
   ]
  },
  {
   "cell_type": "code",
   "execution_count": null,
   "id": "f040e7aa",
   "metadata": {},
   "outputs": [],
   "source": [
    "block(\n",
    "    [\n",
    "        fns: ['X_1, 'X_2],\n",
    "        cfns: ['X_1, 'X_2],\n",
    "        C, data_1, data_2, data,t,ids, ps, Cs\n",
    "    ],\n",
    "    data_1: build_data(fns, lambda([i], [random(2), random(2)]),2),\n",
    "    data_2: build_data(fns, lambda([i], [3+random(2), random(2)]),2),\n",
    "    data: stack_data(data_1, data_2),\n",
    "    C: [1, 1, 2, 2],\n",
    "    t:split_data_by_clusters(data, C),\n",
    "    ids: t[1][1],\n",
    "    ps: t[1][2],\n",
    "    Cs: t[2],\n",
    "    cs:centroids_for_clusters(data, cfns, C),\n",
    "    var: variation(data,C,cs),\n",
    "    [data, ids, ps, Cs, cs, var]\n",
    ");"
   ]
  },
  {
   "cell_type": "markdown",
   "id": "58df8f47",
   "metadata": {},
   "source": [
    "In the above example, `ids` is a list of unique cluster indices sorted in ascending order, corresponding to which\n",
    "- `ps` is the list of fractional cluster sizes,\n",
    "- `Cs` is the list of clusters, and\n",
    "- `cs` is the data where the $j$-th instance is the centroid of the $j$-th cluster."
   ]
  },
  {
   "cell_type": "markdown",
   "id": "4076a389",
   "metadata": {},
   "source": [
    "### Compute clusters from centroids"
   ]
  },
  {
   "cell_type": "markdown",
   "id": "078a427d",
   "metadata": {},
   "source": [
    "Data points can be assigned to their nearest cluster centers using `clusters_for_centroids(data, cs)`, where\n",
    "- `data` is the data set to cluster, and\n",
    "- `cs` is the data containing cluster centers."
   ]
  },
  {
   "cell_type": "code",
   "execution_count": null,
   "id": "6b874b5c",
   "metadata": {},
   "outputs": [],
   "source": [
    "block(\n",
    "    [\n",
    "        fns: ['X_1, 'X_2],\n",
    "        cfns: ['X_1, 'X_2],\n",
    "        data_1, data_2, data, C, cs\n",
    "    ],\n",
    "    data_1: build_data(fns, lambda([i], [random(2), random(2)]),3),\n",
    "    data_2: build_data(fns, lambda([i], [3+random(2), random(2)]),3),\n",
    "    data: stack_data(data_1, data_2),\n",
    "    C: [1,2,2,2,1,1],\n",
    "    cs: centroids_for_clusters(data, cfns, C),\n",
    "    [data, cs, clusters_for_centroids(data, cs)]\n",
    ");"
   ]
  },
  {
   "cell_type": "markdown",
   "id": "292ee1c2",
   "metadata": {},
   "source": [
    "An instance is assigned to cluster $i$ only if the $i$-th cluster center in `cs` is the closest cluster center to the instance.\n",
    "\n",
    ":::{note}\n",
    "\n",
    "- `data` must have all the features that `cs` has, but it can also contain more features. \n",
    "- The distance is calculated using only the features in `cs`.\n",
    ":::"
   ]
  },
  {
   "cell_type": "markdown",
   "id": "dcc88a06",
   "metadata": {},
   "source": [
    "### Helper functions"
   ]
  },
  {
   "cell_type": "markdown",
   "id": "d5e6931a",
   "metadata": {},
   "source": [
    "The following are some helper functions used to implement the centroid-based method:"
   ]
  },
  {
   "cell_type": "code",
   "execution_count": null,
   "id": "6d1ebedf",
   "metadata": {},
   "outputs": [],
   "source": [
    "block(\n",
    "    [\n",
    "        p: matrix([0,0]),\n",
    "        q: [1,1],\n",
    "        P: matrix(\n",
    "            [0,0],\n",
    "            [0,1]\n",
    "        ),\n",
    "        Q: [[1,1],\n",
    "            [1,0]]\n",
    "    ],\n",
    "    [centroid(Q), dist(p,q), sq_dist(p,q), nearest_neighbor(p,Q), nearest_neighbors(P,Q)]\n",
    ");"
   ]
  },
  {
   "cell_type": "markdown",
   "id": "37126d1e",
   "metadata": {},
   "source": [
    "In the above example: \n",
    "- `centroid(Q)` is the centroid of the points (rows) in the cluster `Q`, where `Q` can be a matrix or a list of lists of coordinates.\n",
    "- `dist(p,q)` is the Euclidean distance from point `p` to point `q`, where a point can be a row vector or a list of coordinates.\n",
    "- `sq_dist(p,q)` is the squared distance between `p` and `q`.\n",
    "- `nearest_neighbor(p,Q)` is $i$ iff the $i$-th point (row) in the cluster `Q` is the first nearest neighbor of point `p`.\n",
    "- `nearest_neighbors(P,Q)` is a list of `nearest_neighbors(p,Q)` where `p` is a point of the cluster P."
   ]
  },
  {
   "cell_type": "markdown",
   "id": "21c312f8",
   "metadata": {},
   "source": [
    "## Hierarchical clustering"
   ]
  },
  {
   "cell_type": "markdown",
   "id": "6e93ceb3",
   "metadata": {},
   "source": [
    "### Cluster distances"
   ]
  },
  {
   "cell_type": "markdown",
   "id": "81428420",
   "metadata": {},
   "source": [
    "`pairwise_cluster_dists(data, C, dist)` returns the sorted list of pairwise cluster distances for `data` with clustering assignment `C` and the cluster distance `dist`. The returned list consists of elements `[[i,j],d]` where `d` is the distance of\n",
    "Cluster `i` and Cluster `j`."
   ]
  },
  {
   "cell_type": "code",
   "execution_count": null,
   "id": "10a82893",
   "metadata": {},
   "outputs": [],
   "source": [
    "block(\n",
    "    [\n",
    "        fns: ['X_1, 'X_2],\n",
    "        cfns: ['X_1, 'X_2],\n",
    "        data_1, data_2, data, C\n",
    "    ],\n",
    "    data_1: build_data(fns, lambda([i], [random(2), random(2)]),2),\n",
    "    data_2: build_data(fns, lambda([i], [3+random(2), random(2)]),2),\n",
    "    data: stack_data(data_1, data_2),\n",
    "    C: [4,4,1,2],\n",
    "    dists: [min_dist, max_dist, centroid_dist, ward_dist],\n",
    "    [\n",
    "        data,\n",
    "        build_data_from_list(\n",
    "            [\"metric\", \"pairwise cluster distances\"],\n",
    "            map(lambda([d], [d, pairwise_cluster_dists(data, C, d)]), dists)\n",
    "        )\n",
    "    ]\n",
    ");"
   ]
  },
  {
   "cell_type": "markdown",
   "id": "15cf3f3e",
   "metadata": {},
   "source": [
    "The possible cluster distances are:\n",
    "- `min_dist(P, Q)`: The closest distance between rows of `P` and rows of `Q`.\n",
    "- `max_dist(P, Q)`: The furthest distance between rows of `P` and rows of `Q`.\n",
    "- `centroid_dist(P, Q)`: The distance between the centroid of rows of `P` and the centroid of row on `Q`.\n",
    "- `ward_dist(P, Q)`: The total variation (squared distances) of all the rows of `P` and `Q`."
   ]
  },
  {
   "cell_type": "markdown",
   "id": "68cf743d",
   "metadata": {},
   "source": [
    "### AGNES"
   ]
  },
  {
   "cell_type": "markdown",
   "id": "afaa2d42",
   "metadata": {},
   "source": [
    "Clusters can be agglomerated using `agglomerate(data, C, ids)` where\n",
    "- `ids` is a list of cluster indices to merge, and\n",
    "- the returned cluster assignment with have a new index `lmax(C)+1` for the merged clusters."
   ]
  },
  {
   "cell_type": "code",
   "execution_count": null,
   "id": "d23ba42a",
   "metadata": {},
   "outputs": [],
   "source": [
    "block(\n",
    "    [\n",
    "        fns: ['X_1, 'X_2],\n",
    "        cfns: ['X_1, 'X_2],\n",
    "        data_1, data_2, data, C,  pcds\n",
    "    ],\n",
    "    data_1: build_data(fns, lambda([i], [random(2), random(2)]),2),\n",
    "    data_2: build_data(fns, lambda([i], [3+random(2), random(2)]),2),\n",
    "    data: stack_data(data_1, data_2),\n",
    "    C: [4,4,1,2],\n",
    "    pcds: pairwise_cluster_dists(data, C, min_dist),\n",
    "    ids: pcds[1][1],\n",
    "    [data, C, ids, agglomerate(data, C, ids)]\n",
    ");"
   ]
  },
  {
   "cell_type": "markdown",
   "id": "7d2a4fbb",
   "metadata": {},
   "source": [
    "An agglomerative nesting algorithm (AGNES) for clustering can be performed with `agnes(data, dist, k)` where `k` is the number of clusters to merge to, and `dist` is the cluster distance to minimize by merging two clusters;"
   ]
  },
  {
   "cell_type": "code",
   "execution_count": null,
   "id": "5fbd7d1d",
   "metadata": {},
   "outputs": [],
   "source": [
    "block(\n",
    "    [\n",
    "        fns: ['X_1, 'X_2],\n",
    "        cfns: ['X_1, 'X_2],\n",
    "        data_1, data_2, data\n",
    "    ],\n",
    "    data_1: build_data(fns, lambda([i], [random(2), random(2)]),2),\n",
    "    data_2: build_data(fns, lambda([i], [3+random(2), random(2)]),2),\n",
    "    data: stack_data(data_1, data_2),\n",
    "    [data, agnes(data, min_dist, 2)]\n",
    ");"
   ]
  },
  {
   "cell_type": "markdown",
   "id": "bb59ca92",
   "metadata": {},
   "source": [
    "`agnes` returns a pair where\n",
    "- the first element is the desired cluster assignment for k clusters, and\n",
    "- the second element is a list where the `l`-th element is `[C, [i,j], d]` where \n",
    "  - `C` is the cluster assignment right before the `l`-th agglomeration,\n",
    "  - `i` and `j` are the cluster indices to be merged to a new cluster, which will have index `lmax(C)+1`, and\n",
    "  - `d` is the distance of Cluster `i` and `j` calculated using `dist`."
   ]
  },
  {
   "cell_type": "markdown",
   "id": "36113f15",
   "metadata": {},
   "source": [
    "## Density-based methods"
   ]
  },
  {
   "cell_type": "markdown",
   "id": "03598a04",
   "metadata": {},
   "source": [
    "The core distances of points in a data set `data` can be computed by `core_dists(data, MinPts, eps)` where\n",
    "`MinPts` and `eps` are the usual parameters for OPTICS/DBSCAN."
   ]
  },
  {
   "cell_type": "code",
   "execution_count": null,
   "id": "9972008d",
   "metadata": {},
   "outputs": [],
   "source": [
    "block(\n",
    "    [\n",
    "        fns: ['X_1, 'X_2],\n",
    "        cfns: ['X_1, 'X_2],\n",
    "        data_1, data_2, data,\n",
    "        MinPts: 3,\n",
    "        eps: 3,\n",
    "        cdm\n",
    "    ],\n",
    "    data_1: build_data(fns, lambda([i], [random(2), random(2)]),2),\n",
    "    data_2: build_data(fns, lambda([i], [3+random(2), random(2)]),2),\n",
    "    data: stack_data(data_1, data_2),\n",
    "    cdm: core_dists(data, MinPts, eps),\n",
    "    [data, cdm, feature_values(cdm, \"core_dist\"), feature_values(cdm, 'd[1])]\n",
    ");"
   ]
  },
  {
   "cell_type": "markdown",
   "id": "aee62c5e",
   "metadata": {},
   "source": [
    "The core distances and other related quantities are returned as a data set where the $i$-th instance consists of the following for the $i$-th instance in data:\n",
    "- `\"core_dist\"`: The core distance, which is `inf` by convention if there are fewer than `MinPts` data points within the `eps`-neighborhood.\n",
    "- `\"neighbors\"`: The list of indices corresponding to points in the `eps`-neighborhood.\n",
    "- `'d[j]`: The distance to the $j$-th instance."
   ]
  },
  {
   "cell_type": "markdown",
   "id": "612a9626",
   "metadata": {},
   "source": [
    "### DBSCAN"
   ]
  },
  {
   "cell_type": "markdown",
   "id": "1890028c",
   "metadata": {},
   "source": [
    "`dbscan(data, MinPts, eps)` applies DBSCAN to cluster points in `data` where a core point has at least `MinPts` data points in its `eps`-neighborhood:"
   ]
  },
  {
   "cell_type": "code",
   "execution_count": null,
   "id": "043ec077",
   "metadata": {},
   "outputs": [],
   "source": [
    "block(\n",
    "    [\n",
    "        fns: ['X_1, 'X_2],\n",
    "        cfns: ['X_1, 'X_2],\n",
    "        data_1, data_2, data,\n",
    "        MinPts: 3,\n",
    "        eps: 1,\n",
    "        cdm\n",
    "    ],\n",
    "    data_1: build_data(fns, lambda([i], [random(2), random(2)]),3),\n",
    "    data_2: build_data(fns, lambda([i], [5+random(2), random(2)]),3),\n",
    "    data: stack_data(data_1, data_2),\n",
    "    cdm: core_dists(data, MinPts, eps),\n",
    "    [data, cdm, dbscan(data, MinPts, eps)]\n",
    ");"
   ]
  },
  {
   "cell_type": "markdown",
   "id": "cbd2e5e4",
   "metadata": {},
   "source": [
    "`dbscan` returns a list consisting of\n",
    "- the set of clusters (sets of indices), \n",
    "- the set of noise points,\n",
    "- the set of core points, and\n",
    "- the set of border points."
   ]
  },
  {
   "cell_type": "markdown",
   "id": "0d920ed0",
   "metadata": {},
   "source": [
    "### OPTICS"
   ]
  },
  {
   "cell_type": "markdown",
   "id": "d4c4a898",
   "metadata": {},
   "source": [
    "`optics(data, MinPts, eps)` applies OPTICS to clusters points in `data` where a core point has at least `MinPts` data points in its `eps`-neighborhood:"
   ]
  },
  {
   "cell_type": "code",
   "execution_count": null,
   "id": "eb5ea9a7",
   "metadata": {},
   "outputs": [],
   "source": [
    "block(\n",
    "    [\n",
    "        fns: ['X_1, 'X_2],\n",
    "        data_1, data_2, data,\n",
    "        MinPts: 3,\n",
    "        eps: 1,\n",
    "        cdm\n",
    "    ],\n",
    "    data_1: build_data(fns, lambda([i], [random(2), random(2)]),3),\n",
    "    data_2: build_data(fns, lambda([i], [5+random(2), random(2)]),3),\n",
    "    data: stack_data(data_1, data_2),\n",
    "    cdm: core_dists(data, MinPts, eps),\n",
    "    [data, cdm, optics(data, MinPts, eps)]\n",
    ");"
   ]
  },
  {
   "cell_type": "markdown",
   "id": "d3e6e4d6",
   "metadata": {},
   "source": [
    "`optics` returns a pair consisting of\n",
    "- the data containing\n",
    "  - a column of reachability distances, and\n",
    "  - a column containing the corresponding list of nodes reached, and\n",
    "- the set of noise points."
   ]
  },
  {
   "cell_type": "markdown",
   "id": "b8684745",
   "metadata": {},
   "source": [
    "## Evaluation metrics"
   ]
  },
  {
   "cell_type": "markdown",
   "id": "f98955d0",
   "metadata": {},
   "source": [
    "### Pairwise correctness"
   ]
  },
  {
   "cell_type": "markdown",
   "id": "c65de301",
   "metadata": {},
   "source": [
    "`pairwise_correctness(C, L)` takes\n",
    "- the cluster assignment `C` and\n",
    "- the ground truth categorization `L`, \n",
    "\n",
    "and it returns a pair where\n",
    "- the first element is the pairwise correctness matrix, and\n",
    "- the second element is the accuracy measured in terms of the average correctness."
   ]
  },
  {
   "cell_type": "code",
   "execution_count": null,
   "id": "cfb26401",
   "metadata": {},
   "outputs": [],
   "source": [
    "block(\n",
    "    [\n",
    "        L: [1,1,2,2,3,3],\n",
    "        C: [1,1,1,2,2,2]\n",
    "    ],\n",
    "    pairwise_correctness(C, L)\n",
    ");"
   ]
  },
  {
   "cell_type": "markdown",
   "id": "d00903ba",
   "metadata": {},
   "source": [
    "### B-Cubed precision and recall"
   ]
  },
  {
   "cell_type": "markdown",
   "id": "447b9861",
   "metadata": {},
   "source": [
    "B-Cubed precision and recall can be computed using `BCubed(C, L)` for the cluster assignment `C` and categorization `L`:"
   ]
  },
  {
   "cell_type": "code",
   "execution_count": null,
   "id": "7c64092e",
   "metadata": {},
   "outputs": [],
   "source": [
    "block(\n",
    "    [\n",
    "        L: [1,1,2,2,3,3],\n",
    "        C: [1,1,1,2,2,2]\n",
    "    ],\n",
    "    BCubed(C, L)\n",
    ");"
   ]
  },
  {
   "cell_type": "markdown",
   "id": "70513edc",
   "metadata": {},
   "source": [
    "- The first element of the returned list is a list `[precision, recall]` of the overall precision and recall.\n",
    "- The second element contains more detailed statistics per node. E.g., for the $i$-th instance, the column TPj contains the list of index $j$ such that $(i,j)$ is a true positive, while the feature TP is the total count of such index $j$. The remaining columns give the precision and recall for each instance."
   ]
  },
  {
   "cell_type": "markdown",
   "id": "581f2132",
   "metadata": {},
   "source": [
    "### Classes-to-clusters evaluation"
   ]
  },
  {
   "cell_type": "markdown",
   "id": "b03dfc38",
   "metadata": {},
   "source": [
    "`classes_to_clusters_eval(L, C)` carry the classes-to-clusters evaluation on the categorization `L` and cluster assignment `C`.\n",
    "The returned list consists of  \n",
    "- the accuracy maximized over the classes-to-clusters assignment,\n",
    "- the assignment in the form of a list of `[l,c]` where `l` is a class index and `c` is a cluster index, and\n",
    "- the list consisting of  \n",
    "  - the list `l` of unique class labels in ascending order, \n",
    "  - the list `c` of unique cluster labels in ascending order, and\n",
    "  - the list `lst` of list of counts where `lst[i][j]` is the counts of instances associated with class index `l[i]` and cluster index `c[j]`."
   ]
  },
  {
   "cell_type": "code",
   "execution_count": null,
   "id": "24f7815b",
   "metadata": {},
   "outputs": [],
   "source": [
    "block(\n",
    "    [\n",
    "        C: [1,1,2,2,3,3],\n",
    "        L: [1,1,1,2,2,2]\n",
    "    ],\n",
    "    classes_to_clusters_eval(L, C)\n",
    ");"
   ]
  },
  {
   "cell_type": "markdown",
   "id": "983a5804",
   "metadata": {},
   "source": [
    "### Silhouette analysis"
   ]
  },
  {
   "cell_type": "markdown",
   "id": "13fbe2ef",
   "metadata": {},
   "source": [
    "Silhouette coefficients can be computed by `silhouette(data, C)` for the data set `data` with cluster assignment `C` as follows:"
   ]
  },
  {
   "cell_type": "code",
   "execution_count": null,
   "id": "70bdff35",
   "metadata": {},
   "outputs": [],
   "source": [
    "block(\n",
    "    [\n",
    "        fns: ['X_1, 'X_2],\n",
    "        cfns: ['X_1, 'X_2],\n",
    "        data_1, data_2, data,\n",
    "        C\n",
    "    ],\n",
    "    data_1: build_data(fns, lambda([i], [random(2), random(2)]),2),\n",
    "    data_2: build_data(fns, lambda([i], [3+random(2), random(2)]),2),\n",
    "    data: stack_data(data_1, data_2),\n",
    "    C: [2,2,1,1],\n",
    "    [data, silhouette(data, C)]\n",
    ");"
   ]
  },
  {
   "cell_type": "markdown",
   "id": "6a02036a",
   "metadata": {},
   "source": [
    "`silhouette(data, C)` returns data with columns:\n",
    "- `'a`: mean intra-cluster distance. \n",
    "- `'b`: mean nearest-cluster distance.\n",
    "- `\"nearest\"`: index of the nearest cluster. \n",
    "- `'s`: silhouette coefficient."
   ]
  }
 ],
 "metadata": {
  "kernelspec": {
   "display_name": "Maxima",
   "language": "maxima",
   "name": "maxima"
  }
 },
 "nbformat": 4,
 "nbformat_minor": 5
}
