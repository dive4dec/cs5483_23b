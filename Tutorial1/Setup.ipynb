{
 "cells": [
  {
   "cell_type": "markdown",
   "id": "1bbede3a",
   "metadata": {
    "slideshow": {
     "slide_type": "slide"
    }
   },
   "source": [
    "# Setup"
   ]
  },
  {
   "cell_type": "markdown",
   "id": "53c2243c",
   "metadata": {
    "tags": [
     "remove-cell"
    ]
   },
   "source": [
    "**CS5483 Data Warehousing and Data Mining**\n",
    "___"
   ]
  },
  {
   "cell_type": "markdown",
   "id": "bacb68c9",
   "metadata": {
    "editable": true,
    "slideshow": {
     "slide_type": "slide"
    }
   },
   "source": [
    "## Tutorial materials"
   ]
  },
  {
   "cell_type": "markdown",
   "id": "cc14727b",
   "metadata": {},
   "source": [
    "Tutorial materials are written in the form of Jupyter Notebooks. Jupyter Notebooks provide an interactive literate programming experience, which is a significant benefit for learners:\n",
    "\n",
    "- Jupyter Notebooks allow programs to be mixed with other contents, including figures, videos, and formatted textual explanations.\n",
    "- The notebooks can also run in a Jupyter server, which enables users to write and run their programs while adding formatted notes to it.\n",
    "- The Jupyter server can access local and remote large language models, which enables an AI pair programming experience that speed up tedious coding tasks."
   ]
  },
  {
   "cell_type": "markdown",
   "id": "2eb6e623",
   "metadata": {
    "editable": true,
    "slideshow": {
     "slide_type": "subslide"
    }
   },
   "source": [
    "### How to access the programming environment?"
   ]
  },
  {
   "cell_type": "markdown",
   "id": "12bca22f",
   "metadata": {},
   "source": [
    "The course's programming environment is conveniently accessible via a JupyterHub server, allowing remote access without the need to install any special software, thanks to <wiki:Project_Jupyter>. This means you can easily write and run programs on your mobile devices using just a web browser."
   ]
  },
  {
   "cell_type": "markdown",
   "id": "314684ac",
   "metadata": {},
   "source": [
    "You can access the JupyterHub server from the canvas course website or click this [LTI login link](https://www.cs.cityu.edu.hk/~ccha23/cs5483_23a/). The [LTI Authenticator](https://ltiauthenticator.readthedocs.io) provides a seamless login experience using your Canvas login credentials. After your initial LTI login, your account will be created in JupyterHub."
   ]
  },
  {
   "cell_type": "markdown",
   "id": "0cec004c",
   "metadata": {
    "editable": true,
    "slideshow": {
     "slide_type": "fragment"
    }
   },
   "source": [
    "::::{tip}\n",
    "\n",
    "If you access JupyterHub from a bookmarked link, you may see a Login box as shown in [](#fig:login-box).\n",
    "\n",
    "  1. Enter your [EID](https://www.cityu.edu.hk/esu/eid.htm) and Password in the fields `Username` and `Password` respectively.\n",
    "  1. Click the `Sign in` button.\n",
    "\n",
    ":::{figure} images/login.dio.svg\n",
    ":name: fig:login-box\n",
    ":alt: Login box\n",
    ":align: left\n",
    "\n",
    "Login box\n",
    ":::\n",
    "\n",
    "::::"
   ]
  },
  {
   "cell_type": "markdown",
   "id": "fd84f00a",
   "metadata": {
    "editable": true,
    "slideshow": {
     "slide_type": ""
    }
   },
   "source": [
    "To access the Jupyter environment, simply log into the JupyterHub server and select the `Default` option from the list of available Jupyter servers. Click `Start` to begin your session. If the server is spawned successfully, the JupyterLab interface should appear. Each student will have their own Jupyter server, providing individual computer resources such as CPU and memory."
   ]
  },
  {
   "cell_type": "markdown",
   "id": "e132885c",
   "metadata": {
    "editable": true,
    "slideshow": {
     "slide_type": "subslide"
    }
   },
   "source": [
    "::::{note} Server options\n",
    "\n",
    "- The `Default` option runs on the Ubuntu operating system with some data mining tools pre-installed.\n",
    "  See the [dockerfile](https://github.com/dive4dec/jupyter/blob/main/cs5483nb/Dockerfile) for details.\n",
    "- The `GPU` option offers some GPU resources if available.\n",
    "- You can switch between the `Default` and other server options at any time by restarting your server and selecting the desired option. Restarting the server is simple and can be done through the hub control panel, as described in the note below.\n",
    "\n",
    ":::{tip} Troubleshooting[^1]\n",
    ":class: dropdown\n",
    "\n",
    "In case the jupyterlab interface fails to show:\n",
    "\n",
    "- Refresh the page or restart your browser.\n",
    "- Restart your server using the `Hub Control Panel` under the `File` and click `Stop My Server` and then `Start My Server`.\n",
    "\n",
    ":::\n",
    "\n",
    "::::\n",
    "\n",
    "[^1]:  click me to expand"
   ]
  },
  {
   "cell_type": "markdown",
   "id": "fbbeb0b9",
   "metadata": {
    "editable": true,
    "slideshow": {
     "slide_type": "slide"
    }
   },
   "source": [
    "### How to access the tutorial notebooks?"
   ]
  },
  {
   "cell_type": "markdown",
   "id": "89855ea3",
   "metadata": {
    "editable": true,
    "slideshow": {
     "slide_type": ""
    }
   },
   "source": [
    "The recommended way is to access the tutorial notebooks is to follow the links on the course homepage. The notebooks actually reside in a [GitHub repository](https://github.com/dive4dec/cs1302_23a/blob/main/README.md). The first time you access the notebook link, the following steps occur:\n",
    "\n",
    "- Your Jupyter server is opened.\n",
    "- The repository is cloned to the server as a local repository.\n",
    "- The desired notebook is opened in the JupyterLab interface."
   ]
  },
  {
   "cell_type": "markdown",
   "id": "f0781b9a",
   "metadata": {},
   "source": [
    "Afterwards, accessing a notebook link again will\n",
    "\n",
    "- [git-pull](https://git-scm.com/docs/git-pull)s new or existing files in the repository and \n",
    "- merge them with the notebooks stored under the course folder `cs5483_23b` in your home directory without overwriting your changes."
   ]
  },
  {
   "cell_type": "markdown",
   "id": "7f20908a",
   "metadata": {
    "editable": true,
    "slideshow": {
     "slide_type": ""
    }
   },
   "source": [
    "::::{important}\n",
    "\n",
    "Manually fetching the notebooks through other means may not create the local repository required for git version control. This can result in new notebooks or changes to existing notebooks not being pulled properly to your server. To ensure that you have the latest versions of the notebooks with proper version control, use the provided notebook links.\n",
    "\n",
    ":::{seealso} How git-pull links work?\n",
    ":class: dropdown\n",
    "\n",
    "If you are interested in how the link works, see [`nbgitpuller`](https://jupyterhub.github.io/nbgitpuller/index.html). A git-pull link looks as follows:\n",
    "\n",
    "```bash\n",
    "https://{{server_url}}/git-pull        # send request to jupyter server\n",
    "repo={{git_repo}}&                     # pull from the git repository\n",
    "urlpath=lab/tree/{{path_to_notebook}}  # follow the path to open the notebook\n",
    "```\n",
    "\n",
    ":::\n",
    "\n",
    "::::"
   ]
  },
  {
   "cell_type": "markdown",
   "id": "97280395",
   "metadata": {},
   "source": [
    "The released notebooks are also compiled into an ebook <https://www.cs.cityu.edu.hk/~ccha23/cs5483book>,\n",
    "which allows you to preview the notebooks conveniently as webpages and download the notebooks in PDF or ipynb formats."
   ]
  },
  {
   "cell_type": "markdown",
   "id": "be4ae520",
   "metadata": {
    "editable": true,
    "slideshow": {
     "slide_type": "slide"
    }
   },
   "source": [
    "## Lab Assignments"
   ]
  },
  {
   "cell_type": "markdown",
   "id": "1a2a2efb",
   "metadata": {
    "slideshow": {
     "slide_type": "subslide"
    }
   },
   "source": [
    "### How to complete a lab assignment?"
   ]
  },
  {
   "cell_type": "markdown",
   "id": "f7ce33b8",
   "metadata": {},
   "source": [
    "The notebooks can be edited in JupyterLab to include your notes and answers for submission. If this is your first time using JupyterLab, take a look at the official video tutorial:"
   ]
  },
  {
   "cell_type": "markdown",
   "id": "9784744e",
   "metadata": {},
   "source": [
    ":::{iframe} https://www.youtube.com/embed/A5YyoCKxEOU\n",
    ":width: 100%\n",
    ":align: left\n",
    "\n",
    "Official video tutorial on Jupyter\n",
    ":::"
   ]
  },
  {
   "cell_type": "markdown",
   "id": "33f4929d",
   "metadata": {
    "editable": true,
    "slideshow": {
     "slide_type": "fragment"
    }
   },
   "source": [
    "The `Help` menu gives more detailed references. For instance:\n",
    "\n",
    "- Checkout the menu item `Show Keyboard Shortcuts` and try some of the shortcuts to see their effect. `Jupyter Reference` opens the [user guide](https://jupyterlab.readthedocs.io/en/latest/user/interface.html) in a new tab.\n",
    "- Try the [MyST Markdown](https://mystmd.org/guide/typography) syntax to format your notes."
   ]
  },
  {
   "cell_type": "markdown",
   "id": "7b2de069",
   "metadata": {},
   "source": [
    "In learning a new programming language, the first program to write is often the [\"Hello, World!\"](https://en.wikipedia.org/wiki/%22Hello,_World!%22_program) program, which says Hello to the world. As your first lab exercise, you will write such a program in python."
   ]
  },
  {
   "cell_type": "markdown",
   "id": "a35b8fcf",
   "metadata": {
    "deletable": false,
    "editable": false,
    "nbgrader": {
     "cell_type": "markdown",
     "checksum": "034d20eb0d4040d1822391674b72a1c0",
     "grade": false,
     "grade_id": "qHelloWorld",
     "locked": true,
     "schema_version": 3,
     "solution": false,
     "task": false
    },
    "slideshow": {
     "slide_type": "subslide"
    }
   },
   "source": [
    ":::::{exercise} Hello World\n",
    ":label: ex:Hello-World\n",
    "\n",
    "Complete the program in the solution cell to print the message `Hello, World!`. \n",
    "\n",
    "::::{hint}\n",
    ":class: dropdown\n",
    "\n",
    "One possible solution is:\n",
    "\n",
    ":::{code-block} python\n",
    ":name: code:Hello-World\n",
    ":caption: Python, \"Hello, World!\"\n",
    "\n",
    "def say_hello():\n",
    "    print(\"Hello, World!\")\n",
    "    \n",
    "say_hello()\n",
    ":::\n",
    "\n",
    ":::{caution}\n",
    "You must use a tab or 4 spaces to indent the second line of code `print(...)`.\n",
    ":::\n",
    "\n",
    "::::\n",
    "\n",
    ":::::"
   ]
  },
  {
   "cell_type": "markdown",
   "id": "a890d70a",
   "metadata": {
    "editable": true,
    "slideshow": {
     "slide_type": ""
    }
   },
   "source": [
    "The following code cell is a solution cell. Since you are not expected to know python before, you can simply expand the hint above and copy the solution to the solution cell instead."
   ]
  },
  {
   "cell_type": "code",
   "execution_count": null,
   "id": "5c7de91e",
   "metadata": {
    "code_folding": [],
    "deletable": false,
    "editable": true,
    "nbgrader": {
     "cell_type": "code",
     "checksum": "3b4449a7fd39c719b8d9d63b8101820c",
     "grade": false,
     "grade_id": "helloworld",
     "locked": false,
     "schema_version": 3,
     "solution": true,
     "task": false
    },
    "slideshow": {
     "slide_type": "-"
    },
    "tags": [
     "remove-output"
    ]
   },
   "outputs": [],
   "source": [
    "def say_hello():\n",
    "    # YOUR CODE HERE\n",
    "    raise NotImplementedError()\n",
    "    \n",
    "say_hello()"
   ]
  },
  {
   "cell_type": "markdown",
   "id": "1f4ce333",
   "metadata": {
    "editable": true,
    "slideshow": {
     "slide_type": "subslide"
    }
   },
   "source": [
    ":::{important}\n",
    "\n",
    "It's important to follow certain guidelines when writing your answers or code in the notebooks:\n",
    "\n",
    "- Only provide your answers in the cells that are designated for this purpose, which are usually labeled with `YOUR CODE HERE` or `YOUR ANSWER HERE`.\n",
    "- For coding exercises, be sure to remove the line `raise NotImplementedError()` from the cell before submitting your work.\n",
    "- Do not clone or duplicate the answer cells, as this can cause issues with version control and grading.\n",
    "\n",
    ":::"
   ]
  },
  {
   "cell_type": "markdown",
   "id": "7afacb7c",
   "metadata": {},
   "source": [
    "To test your program:\n",
    "\n",
    "- Run your program by selecting the solution cell and press `Shift`+`Enter`.\n",
    "- Then, run the following visible test to check whether your program prints the correct message."
   ]
  },
  {
   "cell_type": "code",
   "execution_count": null,
   "id": "e9e4bfdd",
   "metadata": {
    "deletable": false,
    "editable": false,
    "nbgrader": {
     "cell_type": "code",
     "checksum": "4068a56e65aec0123a06748ff5b6586b",
     "grade": true,
     "grade_id": "test-helloworld",
     "locked": true,
     "points": 1,
     "schema_version": 3,
     "solution": false,
     "task": false
    },
    "slideshow": {
     "slide_type": "-"
    },
    "tags": [
     "remove-output"
    ]
   },
   "outputs": [],
   "source": [
    "# Run this test cell right after running your \"Hello, World!\" program.\n",
    "import io\n",
    "import sys\n",
    "\n",
    "old_stdout, sys.stdout = sys.stdout, io.StringIO()\n",
    "say_hello()\n",
    "printed = sys.stdout.getvalue()\n",
    "sys.stdout = old_stdout\n",
    "assert printed == \"Hello, World!\\n\""
   ]
  },
  {
   "cell_type": "markdown",
   "id": "6cb4eff7",
   "metadata": {
    "editable": true,
    "slideshow": {
     "slide_type": ""
    }
   },
   "source": [
    "The test returns an assertion error if your program does not print the correct message."
   ]
  },
  {
   "cell_type": "markdown",
   "id": "708e41a6",
   "metadata": {
    "editable": true,
    "slideshow": {
     "slide_type": ""
    }
   },
   "source": [
    "::::{tip}\n",
    "\n",
    "- You can repeatedly modify your solution and run the test cell until your solution passes the test. There is no mark penalty in failing the test before submission. \n",
    "- You should try to understand the error messages from a failed test.\n",
    "- To assess your solution thoroughly, we will run new tests hidden from you after you have submitted your notebook. Therefore, *you should ensure your solution works in general rather than just the visible tests*.\n",
    "- If you open the same notebook multiple times in different browser windows, be careful in making changes in different windows as you may overwrite your own changes.\n",
    "- If your notebook fails to run any code, the kernel might have died. You can restart the kernel with `Kernel`$\\to$ `Restart`. If restarting fails, check your code cells to see if there is anything that breaks the kernel.\n",
    "\n",
    "::::"
   ]
  },
  {
   "cell_type": "markdown",
   "id": "944605b3",
   "metadata": {
    "slideshow": {
     "slide_type": "slide"
    }
   },
   "source": [
    "### How to submit a notebook"
   ]
  },
  {
   "cell_type": "markdown",
   "id": "b4de96a7",
   "metadata": {},
   "source": [
    "Each lecture has a set of corresponding tutorial notebooks. They provide hands-on practice for the individual Project 1 and group Project 2. Although they don't typically count towards the final grade, if both submission rates of the first two tutorials are over 50%, the tutorial scores may count up to 5% bonus points towards the 30% project 1 and 2 grades."
   ]
  },
  {
   "cell_type": "markdown",
   "id": "9046b649",
   "metadata": {
    "editable": true,
    "slideshow": {
     "slide_type": ""
    }
   },
   "source": [
    ":::{important} Grading policies\n",
    "\n",
    "- The tutorial notebooks for each lecture are *due before the next lecture*.\n",
    "- Late submissions will not be graded without valid justifications.\n",
    "- You can submit your assignment repeatedly before the deadline without penalty, so it is recommended to submit your assignment in advance.\n",
    "- It is also important to make a record or backup of your submission that includes the submission timestamp. Double check to ensure that you have submitted the correct lab assignment, since multiple lab assignments may be open for submission at the same time.\n",
    "\n",
    ":::"
   ]
  },
  {
   "cell_type": "markdown",
   "id": "ed855d5b",
   "metadata": {},
   "source": [
    "[Nbgrader](https://nbgrader.readthedocs.io/en/stable/index.html) is the tool used for grading notebook assignments. It is well-integrated into the JupyterLab interface, allowing students to submit their notebooks directly through the JupyterHub server. Submitted notebooks can be both auto-graded with pre-defined test cases and manually graded with custom feedback. After grading is complete, you can check your scores and access the feedback using the same interface."
   ]
  },
  {
   "cell_type": "markdown",
   "id": "fe8cd297",
   "metadata": {
    "deletable": false,
    "editable": false,
    "nbgrader": {
     "cell_type": "markdown",
     "checksum": "7460b7419df989e08a4c3a43ec627825",
     "grade": false,
     "grade_id": "Check",
     "locked": true,
     "schema_version": 3,
     "solution": false,
     "task": false
    },
    "slideshow": {
     "slide_type": "fragment"
    }
   },
   "source": [
    "Before you submit, make sure everything runs as expected:\n",
    "\n",
    "1. **Git-pull the notebooks** (optional): Follow any one of the link on the course homepage to a notebook, which will git-pull any updates/corrections to (all) your notebooks.\n",
    "1. **Save the notebook**: Unsaved changes are not exported, even though they are in the memory.\n",
    "1. **Restart the kernel**: `Kernel`$\\to$ `Restart Kernel...` to have a clean state before running visible tests.\n",
    "1. **run all cells**: `Run`$\\to$ `Run All Cells` to double check the results of the visible tests are as expected."
   ]
  },
  {
   "cell_type": "markdown",
   "id": "6e13268e",
   "metadata": {
    "editable": true,
    "slideshow": {
     "slide_type": "subslide"
    }
   },
   "source": [
    "To submit your notebook:\n",
    "\n",
    "1. Select the menu item `Nbgrader`$\\to$`Assignment List`.\n",
    "1. Expand the Lab folder and click the `validate` button next to the notebook(s) to check if all the visible tests pass.\n",
    "1. Click `Submit` to submit your notebook."
   ]
  },
  {
   "cell_type": "markdown",
   "id": "3d84c572",
   "metadata": {
    "editable": true,
    "slideshow": {
     "slide_type": ""
    }
   },
   "source": [
    "::::{caution}\n",
    "\n",
    "Your submission may not be graded under the following circumstances:\n",
    "\n",
    "- If the notebook files have been renamed, for example, `Setup.ipynb` being changed or copied to `Setup (Copy).ipynb`.\n",
    "- If an HTML file exists with the same name as a notebook, for example, `Setup.html`.\n",
    "- If the file size exceeds `100MB`.\n",
    "- If the code takes too long to run or requires an excessive amount of memory.\n",
    "\n",
    "It is essential to ensure that your submission meets these guidelines to avoid any issues with grading.\n",
    "\n",
    ":::{tip} Troubleshooting\n",
    ":class: dropdown\n",
    "\n",
    "If you believe your notebooks are corrupted, \n",
    "1. download/backup your existing notebooks,\n",
    "1. remove them from the `Lab*/` folder,\n",
    "1. click the git-pull links from the course homepage to re-pull the notebooks, and\n",
    "1. copy your solutions to the new notebooks.\n",
    "\n",
    "You may also run the course notebooks outside the jupyterhub server and locally on your computer. For more details, see the course homepage.\n",
    "\n",
    ":::\n",
    "\n",
    "::::"
   ]
  },
  {
   "cell_type": "markdown",
   "id": "55de44f1",
   "metadata": {},
   "source": [
    "## AI Tutor"
   ]
  },
  {
   "cell_type": "markdown",
   "id": "ba2c3236",
   "metadata": {
    "slideshow": {
     "slide_type": "slide"
    }
   },
   "source": [
    "### How to play with LLMs in notebooks?"
   ]
  },
  {
   "cell_type": "markdown",
   "id": "57457785",
   "metadata": {},
   "source": [
    "Large language models (LLMs) have been integrated into the Jupyter server using [`jupyter-ai`](https://github.com/jupyterlab/jupyter-ai/blob/main/README.md)."
   ]
  },
  {
   "cell_type": "code",
   "execution_count": null,
   "id": "5076f5b1",
   "metadata": {},
   "outputs": [],
   "source": [
    "# load the cell magic to interact with a LLM in a cell\n",
    "%reload_ext jupyter_ai\n",
    "# list available providers/models\n",
    "%ai list"
   ]
  },
  {
   "cell_type": "markdown",
   "id": "598726c8",
   "metadata": {},
   "source": [
    "While most of the providers require subscriptions, you can try a local model `diveai-chat:mistral` deployed locally."
   ]
  },
  {
   "cell_type": "code",
   "execution_count": null,
   "id": "ffcab641",
   "metadata": {},
   "outputs": [],
   "source": [
    "%%ai diveai-chat:mistral\n",
    "Write a python hello world program."
   ]
  },
  {
   "cell_type": "code",
   "execution_count": null,
   "id": "d187a524",
   "metadata": {},
   "outputs": [],
   "source": [
    "%%ai diveai-chat:mistral\n",
    "Give a brief introduction to AI pair programming."
   ]
  },
  {
   "cell_type": "markdown",
   "id": "498db4a1",
   "metadata": {},
   "source": [
    "There is also a Jupyternaut chatbot:\n",
    "\n",
    "1. Click the chat icon on the left menu bar. A chat panel will open.\n",
    "1. Click the gear icon on the chat panel to set up the provider.\n",
    "1. Select the first model `AI :: mistral` and click the `Save Changes` button.\n",
    "1. Click the back arrow at the top to go back to the chat window.\n",
    "1. Enter `/ask how are you today?` to see a response."
   ]
  },
  {
   "cell_type": "markdown",
   "id": "d17e42dd",
   "metadata": {},
   "source": [
    "::::{tip}\n",
    ":class: dropdown\n",
    "\n",
    "You can also use the vscode interace with the [`ai-genie` extension](https://github.com/ai-genie/chatgpt-vscode/blob/main/README.md):\n",
    "\n",
    "1. Open [VSCode](https://dive.cs.cityu.edu.hk/cs5483_23b/user-redirect/vscode).\n",
    "2. Click the genie icon of the left menu bar to open the chat panel.\n",
    "3. Click the gear button to setup the provider.\n",
    "4. Set `genieai.openai.model` to `gpt-3.5-turbo`, which will trigger a pop-up box asking for API key.\n",
    "5. Enter any non-empty string as the key.\n",
    "6. Change `genieai.openai.apiBaseUrl` from `https://api.openai.com` to `https://ai.local-ai` without trailing slash.\n",
    "7. Reload the vscode window (`Shift-Cmd/Ctrl-P` and type reload).\n",
    "\n",
    "::::"
   ]
  },
  {
   "cell_type": "markdown",
   "id": "4a0016ed",
   "metadata": {},
   "source": [
    "### How to subscribe to Azure OpenAI?"
   ]
  },
  {
   "cell_type": "markdown",
   "id": "f8c7fd73",
   "metadata": {},
   "source": [
    "To play with other models such as `gpt-4`, registered students can subscribe to Azure OpenAI as follows:\n",
    "\n",
    "1. Access <https://www.cs.cityu.edu.hk/~ccha23/cs5483_23b/apim> and click `Active Directory - Login` to login with your CityU active directory credentials.\n",
    "2. From the top menu, navigate to the product page and click the [link to cs5483-2024-openai](https://www.cs.cityu.edu.hk/~ccha23/cs5483_23b/apim?next=product%23product=cs5483-2024-openai)\n",
    "3. Enter any name such as cs5483 in the textbox and click subscribe. You will be brought to the profile page where you can show/regenerate your primary/secondary api keys.\n",
    "4. Navigate to the apis page and click the [link to cs5483-2024](https://www.cs.cityu.edu.hk/~ccha23/cs5483_23b/apim?next=api-details%23api=659b53a77acc9f64d2862811&operation=echo-api).\n",
    "5. On the left panel, click the available API to show the corresponding base url.\n",
    "6. On the right panel, you may test access the chosen API chosen on the left panel:\n",
    "   - Select the `echo` API on the left and the protocol `HTTP` on the right.\n",
    "   - Click `Send` to send the request.\n",
    "   - You should receive HTTP response `200 okay` if the connection is successful.\n",
    "8. For APIs other than echo:\n",
    "   - Click `+ Add parameter` and enter the parameter name `api-version` and value `2023-08-01-preview`.\n",
    "   - In the textbox under `Body`, enter the message body in a format expected by the API. See [some examples here](https://learn.microsoft.com/en-us/azure/ai-services/openai/reference)."
   ]
  },
  {
   "cell_type": "markdown",
   "id": "7c3fe647",
   "metadata": {},
   "source": [
    "Run the following cell to enter your API Key securely:"
   ]
  },
  {
   "cell_type": "code",
   "execution_count": null,
   "id": "0e376953",
   "metadata": {},
   "outputs": [],
   "source": [
    "from ipywidgets import Password\n",
    "\n",
    "api_key_widget = Password(description='API Key:')\n",
    "api_key_widget"
   ]
  },
  {
   "cell_type": "markdown",
   "id": "80fa8082",
   "metadata": {},
   "source": [
    "Create a client with the subscription information:"
   ]
  },
  {
   "cell_type": "code",
   "execution_count": null,
   "id": "735e4c53",
   "metadata": {},
   "outputs": [],
   "source": [
    "from openai import AzureOpenAI\n",
    "\n",
    "# For Jupyternaut:\n",
    "# Select Azure OpenAI::* provider\n",
    "# to enter the following information\n",
    "deployment_name = \"cs-gpt-35-turbo-0301\"\n",
    "base_api_url = \"https://apim-aoai-eas-dev02.azure-api.net/cs5483-2024\"\n",
    "api_version = \"2023-08-01-preview\"\n",
    "api_key = api_key_widget.value # taken from the above widget\n",
    "\n",
    "client = AzureOpenAI(\n",
    "  azure_endpoint = base_api_url,\n",
    "  api_version = api_version,\n",
    "  api_key = api_key,\n",
    ")"
   ]
  },
  {
   "cell_type": "markdown",
   "id": "e077ccf8",
   "metadata": {},
   "source": [
    "Create a chat completion:"
   ]
  },
  {
   "cell_type": "code",
   "execution_count": null,
   "id": "c6e4d4e0",
   "metadata": {},
   "outputs": [],
   "source": [
    "stream = client.chat.completions.create(\n",
    "  model = deployment_name,\n",
    "  messages = [\n",
    "    {\"role\": \"user\", \"content\": \"What is data mining?\"},\n",
    "  ],\n",
    "  temperature = 0,\n",
    "  max_tokens = 75,\n",
    "  stream = False\n",
    ")\n",
    "\n",
    "print(stream.choices[0].message.content)"
   ]
  }
 ],
 "metadata": {
  "kernelspec": {
   "display_name": "Python 3 (ipykernel)",
   "language": "python",
   "name": "python3"
  }
 },
 "nbformat": 4,
 "nbformat_minor": 5
}
