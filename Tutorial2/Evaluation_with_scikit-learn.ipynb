{
 "cells": [
  {
   "cell_type": "markdown",
   "id": "2c0cb5e6",
   "metadata": {},
   "source": [
    "---\n",
    "title: Evaluation with scikit-learn\n",
    "math: \n",
    "    '\\abs': '\\left\\lvert #1 \\right\\rvert' \n",
    "    '\\norm': '\\left\\lvert #1 \\right\\rvert' \n",
    "    '\\Set': '\\left\\{ #1 \\right\\}'\n",
    "    '\\mc': '\\mathcal{#1}'\n",
    "    '\\M': '\\boldsymbol{#1}'\n",
    "    '\\R': '\\mathsf{#1}'\n",
    "    '\\RM': '\\boldsymbol{\\mathsf{#1}}'\n",
    "    '\\op': '\\operatorname{#1}'\n",
    "    '\\E': '\\op{E}'\n",
    "    '\\d': '\\mathrm{\\mathstrut d}'\n",
    "---"
   ]
  },
  {
   "cell_type": "markdown",
   "id": "3a493019",
   "metadata": {
    "tags": [
     "remove-cell"
    ]
   },
   "source": [
    "**CS5483 Data Warehousing and Data Mining**\n",
    "___"
   ]
  },
  {
   "cell_type": "markdown",
   "id": "3a2d7a76",
   "metadata": {},
   "source": [
    "Run the following to initialize the environment and import the libraries necessary for this notebook."
   ]
  },
  {
   "cell_type": "code",
   "execution_count": null,
   "id": "2d2025fe",
   "metadata": {
    "init_cell": true,
    "slideshow": {
     "slide_type": "-"
    }
   },
   "outputs": [],
   "source": [
    "%matplotlib inline\n",
    "from functools import lru_cache\n",
    "\n",
    "import matplotlib.pyplot as plt\n",
    "import numpy as np\n",
    "import pandas as pd\n",
    "from IPython import display\n",
    "from ipywidgets import IntSlider, interact\n",
    "from sklearn import datasets, tree\n",
    "from sklearn.model_selection import (\n",
    "    StratifiedKFold,\n",
    "    cross_val_predict,\n",
    "    cross_val_score,\n",
    "    train_test_split,\n",
    ")\n",
    "\n",
    "plt.rcParams[\"figure.figsize\"] = (8, 4)"
   ]
  },
  {
   "cell_type": "markdown",
   "id": "8c9daecc",
   "metadata": {},
   "source": [
    "## Data Preparation"
   ]
  },
  {
   "cell_type": "markdown",
   "id": "d032702f",
   "metadata": {},
   "source": [
    "### About the dataset"
   ]
  },
  {
   "cell_type": "markdown",
   "id": "a130ded7",
   "metadata": {},
   "source": [
    "We will use a popular dataset called the [*iris dataset*](https://en.wikipedia.org/wiki/Iris_flower_data_set). Iris is a flower with three different species shown below."
   ]
  },
  {
   "cell_type": "markdown",
   "id": "735ea5bb",
   "metadata": {},
   "source": [
    "::::{grid} 1 1 3 3\n",
    "\n",
    ":::{figure} https://upload.wikimedia.org/wikipedia/commons/1/11/Iris_setosa_2.jpg\n",
    ":name: fig:iris-setosa\n",
    ":alt: Iris setosa\n",
    ":width: 300\n",
    ":align: left\n",
    "\n",
    "\n",
    "Iris setosa\n",
    ":::\n",
    "\n",
    ":::{figure} https://upload.wikimedia.org/wikipedia/commons/4/41/Iris_versicolor_3.jpg\n",
    ":name: fig:iris-versicolor\n",
    ":alt: Iris versicolor\n",
    ":width: 300\n",
    ":align: left\n",
    "\n",
    "Iris versicolor\n",
    ":::\n",
    "\n",
    ":::{figure} https://upload.wikimedia.org/wikipedia/commons/9/9f/Iris_virginica.jpg\n",
    ":name: fig:iris-virginica\n",
    ":alt: Iris virginica\n",
    ":width: 300\n",
    ":align: left\n",
    "\n",
    "Iris verginica\n",
    ":::\n",
    "\n",
    "::::"
   ]
  },
  {
   "cell_type": "markdown",
   "id": "9c348758",
   "metadata": {},
   "source": [
    "The three iris species differ in the lengths and widths of their *petals* and *sepals*."
   ]
  },
  {
   "cell_type": "markdown",
   "id": "65b9a3f3",
   "metadata": {},
   "source": [
    "::::{figure} https://upload.wikimedia.org/wikipedia/commons/7/78/Petal-sepal.jpg\n",
    ":name: fig:petal-sepal\n",
    ":alt: petal and sepal\n",
    ":align: left\n",
    ":width: 300\n",
    "\n",
    "Petal and sepal of a flower\n",
    "::::"
   ]
  },
  {
   "cell_type": "markdown",
   "id": "b160343c",
   "metadata": {},
   "source": [
    "A standard data mining task is to train a model that can classify the spieces (*target*) automatically based on the lengths and widths of the petals and sepals (*input features*)."
   ]
  },
  {
   "cell_type": "markdown",
   "id": "21c7b669",
   "metadata": {},
   "source": [
    "### Load dataset from scikit-learn"
   ]
  },
  {
   "cell_type": "markdown",
   "id": "e227362e",
   "metadata": {},
   "source": [
    "**How to load the iris dataset?**"
   ]
  },
  {
   "cell_type": "markdown",
   "id": "1ac2893a",
   "metadata": {},
   "source": [
    "To load the iris dataset, we can simply import the [`sklearn.datasets` package](https://scikit-learn.org/stable/datasets/index.html)."
   ]
  },
  {
   "cell_type": "code",
   "execution_count": null,
   "id": "7af9b79a",
   "metadata": {
    "colab": {
     "base_uri": "https://localhost:8080/",
     "height": 1000
    },
    "colab_type": "code",
    "id": "9gQINfrjsb4M",
    "outputId": "77b77a38-2712-4c93-c503-219e74f354fd",
    "slideshow": {
     "slide_type": "-"
    }
   },
   "outputs": [],
   "source": [
    "from sklearn import datasets\n",
    "\n",
    "iris = datasets.load_iris()\n",
    "type(iris)  # object type"
   ]
  },
  {
   "cell_type": "markdown",
   "id": "45e67703",
   "metadata": {},
   "source": [
    "`sklearn` stores the dataset as a [`Bunch` object](https://scikit-learn.org/stable/modules/generated/sklearn.utils.Bunch.html), which is essentially [a bunch of properties](https://scikit-learn.org/stable/modules/generated/sklearn.datasets.load_iris.html) put together."
   ]
  },
  {
   "cell_type": "markdown",
   "id": "832dae13",
   "metadata": {},
   "source": [
    "**How to learn more about a library?**"
   ]
  },
  {
   "cell_type": "markdown",
   "id": "2954f2c6",
   "metadata": {},
   "source": [
    "Detailed documentation can be found at [https://scikit-learn.org](https://scikit-learn.org/stable/modules/generated/sklearn.datasets.load_iris.html)."
   ]
  },
  {
   "cell_type": "markdown",
   "id": "ba58915a",
   "metadata": {},
   "source": [
    "We can use the symbol `?` to obtain the docstring of an object and `??` to obtain its source code, if available."
   ]
  },
  {
   "cell_type": "code",
   "execution_count": null,
   "id": "5712d937",
   "metadata": {
    "tags": [
     "remove-output",
     "output_scroll"
    ]
   },
   "outputs": [],
   "source": [
    "datasets.load_iris?"
   ]
  },
  {
   "cell_type": "code",
   "execution_count": null,
   "id": "2dbb55e4",
   "metadata": {
    "tags": [
     "output_scroll"
    ]
   },
   "outputs": [],
   "source": [
    "datasets.load_iris??"
   ]
  },
  {
   "cell_type": "markdown",
   "id": "8b8954ca",
   "metadata": {},
   "source": [
    "**How to learn more about the dataset?**"
   ]
  },
  {
   "cell_type": "markdown",
   "id": "33103201",
   "metadata": {
    "tags": [
     "output_scroll"
    ]
   },
   "source": [
    "The property `DESCR` (description) is a string that contains some background information about the dataset:"
   ]
  },
  {
   "cell_type": "code",
   "execution_count": null,
   "id": "b7e9d6ad",
   "metadata": {
    "colab": {
     "base_uri": "https://localhost:8080/",
     "height": 1000
    },
    "colab_type": "code",
    "id": "22xkaKQPwAKv",
    "outputId": "ac56ee89-3c2e-438c-a408-aefc3ba99266",
    "slideshow": {
     "slide_type": "-"
    },
    "tags": [
     "output_scroll"
    ]
   },
   "outputs": [],
   "source": [
    "print(iris.DESCR)"
   ]
  },
  {
   "cell_type": "markdown",
   "id": "37d2ff4b",
   "metadata": {},
   "source": [
    "All the properties of an object can be listed using the built-in function `dir` (directory):"
   ]
  },
  {
   "cell_type": "code",
   "execution_count": null,
   "id": "08435f97",
   "metadata": {},
   "outputs": [],
   "source": [
    "dir(iris)"
   ]
  },
  {
   "cell_type": "markdown",
   "id": "acdc8285",
   "metadata": {},
   "source": [
    "**How to show the data?**"
   ]
  },
  {
   "cell_type": "markdown",
   "id": "db1557fa",
   "metadata": {},
   "source": [
    "The properties `data` and `target` contains the data values."
   ]
  },
  {
   "cell_type": "code",
   "execution_count": null,
   "id": "2e16d9d2",
   "metadata": {},
   "outputs": [],
   "source": [
    "type(iris.data), type(iris.target)"
   ]
  },
  {
   "cell_type": "markdown",
   "id": "7b20df15",
   "metadata": {},
   "source": [
    "The data are stored as `numpy` array, a powerful data type optimized for performance. It provides useful properties and methods to describe and process the data:"
   ]
  },
  {
   "cell_type": "code",
   "execution_count": null,
   "id": "1a747981",
   "metadata": {},
   "outputs": [],
   "source": [
    "iris.data.shape, iris.data.ndim, iris.data.dtype"
   ]
  },
  {
   "cell_type": "markdown",
   "id": "bcf02d02",
   "metadata": {},
   "source": [
    "`iris.data` is a 150-by-4 2-dimensional array of 64-bit floating-point numbers.\n",
    "- 150 corresponds to the number of instances, while\n",
    "- 4 corresponds to the number of input attributes."
   ]
  },
  {
   "cell_type": "markdown",
   "id": "4ef60ddf",
   "metadata": {},
   "source": [
    "To show the input feature names:"
   ]
  },
  {
   "cell_type": "code",
   "execution_count": null,
   "id": "c7587e41",
   "metadata": {},
   "outputs": [],
   "source": [
    "iris.feature_names"
   ]
  },
  {
   "cell_type": "markdown",
   "id": "c3d87c4c",
   "metadata": {},
   "source": [
    "To show the means and standard deviations of the input features:"
   ]
  },
  {
   "cell_type": "code",
   "execution_count": null,
   "id": "0e407bc5",
   "metadata": {},
   "outputs": [],
   "source": [
    "iris.data.mean(axis=0), iris.data.std(axis=0)"
   ]
  },
  {
   "cell_type": "markdown",
   "id": "e86612f8",
   "metadata": {},
   "source": [
    "All the public properties/methods of `numpy` array are printed below:"
   ]
  },
  {
   "cell_type": "code",
   "execution_count": null,
   "id": "a427f32d",
   "metadata": {
    "tags": [
     "output_scroll"
    ]
   },
   "outputs": [],
   "source": [
    "import numpy as np  # import numpy and rename it as np\n",
    "\n",
    "[\n",
    "    attr for attr in dir(np.ndarray) if attr[0] != \"_\"\n",
    "]  # private attributes begin with underscore"
   ]
  },
  {
   "cell_type": "markdown",
   "id": "a39a5f28",
   "metadata": {},
   "source": [
    "**What is the target feature?**"
   ]
  },
  {
   "cell_type": "markdown",
   "id": "a936aee1",
   "metadata": {},
   "source": [
    "The target variable of the iris dataset is the flower type, whose names are stored by the following property:"
   ]
  },
  {
   "cell_type": "code",
   "execution_count": null,
   "id": "fd1536d8",
   "metadata": {},
   "outputs": [],
   "source": [
    "iris.target_names"
   ]
  },
  {
   "cell_type": "markdown",
   "id": "8d17aabd",
   "metadata": {},
   "source": [
    "`iris.target` is an array of integer indices from `{0, 1, 2}` for the three classes."
   ]
  },
  {
   "cell_type": "code",
   "execution_count": null,
   "id": "09a0ab02",
   "metadata": {},
   "outputs": [],
   "source": [
    "iris.target"
   ]
  },
  {
   "cell_type": "markdown",
   "id": "37ed8e3a",
   "metadata": {},
   "source": [
    "::::{exercise}\n",
    ":label: ex:data-info\n",
    "\n",
    "Fill the following cell with a tuple of the following properties for the target (instead of input features) of the iris dataset:\n",
    "- shape, \n",
    "- number of dimensions, and \n",
    "- the data types of the values.\n",
    "\n",
    "Your solution should look like:\n",
    "```Python\n",
    "shape, ndim, dtype = iris.___.___, iris.___.___, iris.___.___\n",
    "```\n",
    "\n",
    "::::"
   ]
  },
  {
   "cell_type": "code",
   "execution_count": null,
   "id": "f741cd3d",
   "metadata": {
    "deletable": false,
    "nbgrader": {
     "cell_type": "code",
     "checksum": "614387d276c4031b3fe984f38d19aa7e",
     "grade": false,
     "grade_id": "target-info",
     "locked": false,
     "schema_version": 3,
     "solution": true,
     "task": false
    },
    "tags": [
     "remove-output"
    ]
   },
   "outputs": [],
   "source": [
    "# YOUR CODE HERE\n",
    "raise NotImplementedError()\n",
    "shape, ndim, dtype"
   ]
  },
  {
   "cell_type": "code",
   "execution_count": null,
   "id": "d9572c1c",
   "metadata": {
    "deletable": false,
    "editable": false,
    "nbgrader": {
     "cell_type": "code",
     "checksum": "ffef6369e8984fcbc2d63ce309eb5dcc",
     "grade": true,
     "grade_id": "test-target-info",
     "locked": true,
     "points": 1,
     "schema_version": 3,
     "solution": false,
     "task": false
    },
    "tags": [
     "hide-input",
     "remove-output"
    ]
   },
   "outputs": [],
   "source": [
    "# tests\n",
    "assert (\n",
    "    isinstance(shape, tuple) and isinstance(ndim, int) and isinstance(dtype, np.dtype)\n",
    ")"
   ]
  },
  {
   "cell_type": "code",
   "execution_count": null,
   "id": "67c14b68",
   "metadata": {
    "deletable": false,
    "editable": false,
    "nbgrader": {
     "cell_type": "code",
     "checksum": "af88d24b5698ef317ffa29ec3baf041f",
     "grade": true,
     "grade_id": "htest-target-info",
     "locked": true,
     "points": 1,
     "schema_version": 3,
     "solution": false,
     "task": false
    },
    "tags": [
     "remove-cell"
    ]
   },
   "outputs": [],
   "source": [
    "# hidden tests"
   ]
  },
  {
   "cell_type": "markdown",
   "id": "7cccef72",
   "metadata": {},
   "source": [
    "::::{exercise}\n",
    ":label: ex:min-max\n",
    "\n",
    "Fill in the following cell with a tuple of\n",
    "- the list of minimum values of the input features, and\n",
    "- the list of maximum values of the input features.\n",
    "\n",
    "You answer should look like:\n",
    "```Python\n",
    "feature_min, feature_max = iris.___.___(axis=0), iris.___.___(axis=0)\n",
    "```\n",
    "::::"
   ]
  },
  {
   "cell_type": "code",
   "execution_count": null,
   "id": "41703f14",
   "metadata": {
    "deletable": false,
    "nbgrader": {
     "cell_type": "code",
     "checksum": "aeaf808ce70ec3acf8813fdc39992abb",
     "grade": false,
     "grade_id": "feature-min-max",
     "locked": false,
     "schema_version": 3,
     "solution": true,
     "task": false
    },
    "tags": [
     "remove-output"
    ]
   },
   "outputs": [],
   "source": [
    "# YOUR CODE HERE\n",
    "raise NotImplementedError()\n",
    "feature_min, feature_max"
   ]
  },
  {
   "cell_type": "code",
   "execution_count": null,
   "id": "68f02b86",
   "metadata": {
    "deletable": false,
    "editable": false,
    "nbgrader": {
     "cell_type": "code",
     "checksum": "682d008708cf61ff0aeb94379bd910f8",
     "grade": true,
     "grade_id": "test-feature-min-max",
     "locked": true,
     "points": 1,
     "schema_version": 3,
     "solution": false,
     "task": false
    },
    "tags": [
     "hide-input",
     "remove-output"
    ]
   },
   "outputs": [],
   "source": [
    "# tests\n",
    "assert feature_min.shape == (4,) == feature_max.shape"
   ]
  },
  {
   "cell_type": "code",
   "execution_count": null,
   "id": "edeecd68",
   "metadata": {
    "deletable": false,
    "editable": false,
    "nbgrader": {
     "cell_type": "code",
     "checksum": "4df778c404c78ec4f3c6ec75c89aff65",
     "grade": true,
     "grade_id": "htest-feature-min-max",
     "locked": true,
     "points": 1,
     "schema_version": 3,
     "solution": false,
     "task": false
    },
    "tags": [
     "remove-cell"
    ]
   },
   "outputs": [],
   "source": [
    "# hidden tests"
   ]
  },
  {
   "cell_type": "markdown",
   "id": "f7033b45",
   "metadata": {},
   "source": [
    "### Create pandas DataFrame"
   ]
  },
  {
   "cell_type": "markdown",
   "id": "cb04b2f1",
   "metadata": {},
   "source": [
    "The [package `pandas`](https://pandas.pydata.org/docs/user_guide/index.html) provides additional tools to display and process a dataset. \n",
    "First, we translate the `Bunch` object into a `pandas` [`DataFrame` object](https://pandas.pydata.org/docs/reference/api/pandas.DataFrame.html?highlight=dataframe#pandas.DataFrame)."
   ]
  },
  {
   "cell_type": "code",
   "execution_count": null,
   "id": "d2f61e5f",
   "metadata": {
    "colab": {
     "base_uri": "https://localhost:8080/",
     "height": 418
    },
    "colab_type": "code",
    "id": "ZE5pla5bszpB",
    "outputId": "c37a554b-b30f-4329-f89d-b614815b4675",
    "slideshow": {
     "slide_type": "-"
    }
   },
   "outputs": [],
   "source": [
    "import pandas as pd\n",
    "\n",
    "# write the input features first\n",
    "iris_df = pd.DataFrame(data=iris.data, columns=iris.feature_names)\n",
    "\n",
    "# append the target values to the last column\n",
    "iris_df[\"target\"] = iris.target\n",
    "\n",
    "iris_df  # to display the DataFrame"
   ]
  },
  {
   "cell_type": "markdown",
   "id": "a2358c46",
   "metadata": {},
   "source": [
    "In jupyter notebook, a `DataFrame` object is conveniently displayed as an HTML table. We can control how much information to show by setting the [display options](https://pandas.pydata.org/pandas-docs/stable/user_guide/options.html)."
   ]
  },
  {
   "cell_type": "markdown",
   "id": "2b561f44",
   "metadata": {},
   "source": [
    "We can also display the statistics of different numerical attributes using the method `describe` and `boxplot`."
   ]
  },
  {
   "cell_type": "code",
   "execution_count": null,
   "id": "39c45d93",
   "metadata": {
    "slideshow": {
     "slide_type": "-"
    }
   },
   "outputs": [],
   "source": [
    "iris_df.describe()"
   ]
  },
  {
   "cell_type": "code",
   "execution_count": null,
   "id": "7d4db2a1",
   "metadata": {
    "slideshow": {
     "slide_type": "-"
    }
   },
   "outputs": [],
   "source": [
    "iris_df.boxplot()"
   ]
  },
  {
   "cell_type": "markdown",
   "id": "bb3c306b",
   "metadata": {},
   "source": [
    "**How to handle nominal class attribute?**"
   ]
  },
  {
   "cell_type": "markdown",
   "id": "71c6b34c",
   "metadata": {},
   "source": [
    "Note that the boxplot also covers the target attribute, but it should not. (Why?) Let's take a look at the current datatypes of the different attributes."
   ]
  },
  {
   "cell_type": "code",
   "execution_count": null,
   "id": "fd9b5d5a",
   "metadata": {
    "slideshow": {
     "slide_type": "fragment"
    }
   },
   "outputs": [],
   "source": [
    "print(iris_df.dtypes)"
   ]
  },
  {
   "cell_type": "markdown",
   "id": "e40a873f",
   "metadata": {},
   "source": [
    "The target is regarded as a numeric attribute with type integer `int64`. Instead, the target should be categorical with only three possible values, one for each iris species."
   ]
  },
  {
   "cell_type": "markdown",
   "id": "205659f2",
   "metadata": {},
   "source": [
    "To fix this, we can use the `astype` method to convert the data type automatically. (More details [here](https://pandas.pydata.org/pandas-docs/stable/user_guide/categorical.html#series-creation.section).)"
   ]
  },
  {
   "cell_type": "code",
   "execution_count": null,
   "id": "765f57b5",
   "metadata": {
    "slideshow": {
     "slide_type": "fragment"
    }
   },
   "outputs": [],
   "source": [
    "iris_df.target = iris_df.target.astype(\"category\")\n",
    "iris_df.boxplot()  # target is not plotted as expected\n",
    "iris_df.target.dtype"
   ]
  },
  {
   "cell_type": "markdown",
   "id": "02052e1f",
   "metadata": {},
   "source": [
    "We can also rename the target categories `{0, 1, 2}` to the more meaningful names of the iris species in `iris.target_names`.  \n",
    "(See the [documentation](https://pandas.pydata.org/pandas-docs/stable/user_guide/categorical.html#renaming-categories).)"
   ]
  },
  {
   "cell_type": "code",
   "execution_count": null,
   "id": "a4eccbed",
   "metadata": {
    "slideshow": {
     "slide_type": "-"
    }
   },
   "outputs": [],
   "source": [
    "iris_df.target = iris_df.target.cat.rename_categories(iris.target_names)\n",
    "iris_df  # check that the target values are now setosa, versicolor, or virginica."
   ]
  },
  {
   "cell_type": "markdown",
   "id": "c98c707f",
   "metadata": {},
   "source": [
    "::::{exercise}\n",
    ":label: ex:counts\n",
    "\n",
    "For nominal attributes, a more meaningful statistic than the mean is the counts of different possible values. To count the number of instances for each flower class, assign `target_counts` to the output of the `value_counts` method of an appropriate column of `iris_df`.\n",
    "\n",
    "Your solution should look like:\n",
    "```Python\n",
    "target_counts = iris_df.target.___()\n",
    "```\n",
    "::::"
   ]
  },
  {
   "cell_type": "code",
   "execution_count": null,
   "id": "201c7d23",
   "metadata": {
    "deletable": false,
    "nbgrader": {
     "cell_type": "code",
     "checksum": "a0b5a6248ce6f99287d99ff36921b83e",
     "grade": false,
     "grade_id": "target_counts",
     "locked": false,
     "schema_version": 3,
     "solution": true,
     "task": false
    },
    "tags": [
     "remove-output"
    ]
   },
   "outputs": [],
   "source": [
    "# YOUR CODE HERE\n",
    "raise NotImplementedError()\n",
    "target_counts"
   ]
  },
  {
   "cell_type": "code",
   "execution_count": null,
   "id": "874d8bc6",
   "metadata": {
    "deletable": false,
    "editable": false,
    "nbgrader": {
     "cell_type": "code",
     "checksum": "68b316e46cb3baa8cdc5895a207ddf91",
     "grade": true,
     "grade_id": "test-target_counts",
     "locked": true,
     "points": 1,
     "schema_version": 3,
     "solution": false,
     "task": false
    },
    "tags": [
     "hide-input",
     "remove-output"
    ]
   },
   "outputs": [],
   "source": [
    "# tests\n",
    "assert target_counts.shape == (3,)"
   ]
  },
  {
   "cell_type": "code",
   "execution_count": null,
   "id": "90c008a2",
   "metadata": {
    "deletable": false,
    "editable": false,
    "nbgrader": {
     "cell_type": "code",
     "checksum": "933624bf6a3e6b1441eb8b7373cd653c",
     "grade": true,
     "grade_id": "htest-target_counts",
     "locked": true,
     "points": 1,
     "schema_version": 3,
     "solution": false,
     "task": false
    },
    "tags": [
     "remove-cell"
    ]
   },
   "outputs": [],
   "source": [
    "# hidden tests"
   ]
  },
  {
   "cell_type": "markdown",
   "id": "0942ff69",
   "metadata": {},
   "source": [
    "**How to select specific rows and columns?**"
   ]
  },
  {
   "cell_type": "markdown",
   "id": "094e3b71",
   "metadata": {},
   "source": [
    "The following uses [`ipywidget`](https://ipywidgets.readthedocs.io/en/latest/) to show the different ways of selecting/slicing the rows of a `DataFrame`."
   ]
  },
  {
   "cell_type": "code",
   "execution_count": null,
   "id": "22429157",
   "metadata": {
    "slideshow": {
     "slide_type": "-"
    }
   },
   "outputs": [],
   "source": [
    "from ipywidgets import interact\n",
    "\n",
    "\n",
    "@interact(\n",
    "    command=[\n",
    "        \"iris_df.head()\",\n",
    "        \"iris_df[0:4]\",\n",
    "        \"iris_df.iloc[0:4]\",\n",
    "        \"iris_df.loc[0:4]\",\n",
    "        \"iris_df.loc[iris_df.index.isin(range(0,4))]\",\n",
    "        \"iris_df.loc[lambda df: df.target=='setosa']\",\n",
    "        \"iris_df.tail()\",\n",
    "        \"iris_df[-1:]\",\n",
    "    ]\n",
    ")\n",
    "def select_rows(command):\n",
    "    output = eval(command)\n",
    "    display.display(output)"
   ]
  },
  {
   "cell_type": "markdown",
   "id": "03fbae14",
   "metadata": {},
   "source": [
    "The following shows the different ways of slicing the columns."
   ]
  },
  {
   "cell_type": "code",
   "execution_count": null,
   "id": "9f544d10",
   "metadata": {
    "slideshow": {
     "slide_type": "-"
    }
   },
   "outputs": [],
   "source": [
    "@interact(\n",
    "    command=[\n",
    "        \"iris_df.target\",\n",
    "        'iris_df[\"target\"]',\n",
    "        'iris_df[[\"target\"]]',\n",
    "        \"iris_df[iris_df.columns[:-1]]\",\n",
    "        \"iris_df.loc[:,iris_df.columns[0]:iris_df.columns[-1]]\",\n",
    "        'iris_df.loc[:,~iris_df.columns.isin([\"target\"])]',\n",
    "        \"iris_df.iloc[:,:-1]\",\n",
    "    ]\n",
    ")\n",
    "def select_columns(command):\n",
    "    output = eval(command)\n",
    "    display.display(output)"
   ]
  },
  {
   "cell_type": "markdown",
   "id": "36d39b2a",
   "metadata": {},
   "source": [
    "For instance, to compute the mean values of the input features for iris setosa:"
   ]
  },
  {
   "cell_type": "code",
   "execution_count": null,
   "id": "9d6cd52f",
   "metadata": {},
   "outputs": [],
   "source": [
    "iris_df.iloc[lambda df: (df[\"target\"] == \"setosa\").to_numpy(), :-1].mean()"
   ]
  },
  {
   "cell_type": "markdown",
   "id": "b41a694c",
   "metadata": {},
   "source": [
    "We can also use the method `groupby` to obtain the mean values by flower types:"
   ]
  },
  {
   "cell_type": "code",
   "execution_count": null,
   "id": "a044d588",
   "metadata": {},
   "outputs": [],
   "source": [
    "iris_df.groupby(\"target\", observed=False).mean()"
   ]
  },
  {
   "cell_type": "markdown",
   "id": "11740e22",
   "metadata": {},
   "source": [
    "::::{exercise}\n",
    ":label: ex:drop\n",
    "\n",
    "Using the method `drop`, create a new `DataFrame` `iris2d_df` by dropping the first two features `sepal length (cm)` and `sepal width (cm)` from `iris_df`.\n",
    "::::"
   ]
  },
  {
   "cell_type": "code",
   "execution_count": null,
   "id": "57e137e0",
   "metadata": {
    "tags": [
     "remove-cell"
    ]
   },
   "outputs": [],
   "source": [
    "# to learn how to use drop\n",
    "iris_df.drop?"
   ]
  },
  {
   "cell_type": "code",
   "execution_count": null,
   "id": "0d36a90f",
   "metadata": {
    "deletable": false,
    "nbgrader": {
     "cell_type": "code",
     "checksum": "5568aa06a594a92d409c52daafe9c382",
     "grade": false,
     "grade_id": "iris2d",
     "locked": false,
     "schema_version": 3,
     "solution": true,
     "task": false
    },
    "tags": [
     "remove-output"
    ]
   },
   "outputs": [],
   "source": [
    "# YOUR CODE HERE\n",
    "raise NotImplementedError()\n",
    "iris2d_df"
   ]
  },
  {
   "cell_type": "code",
   "execution_count": null,
   "id": "cd44f2cc",
   "metadata": {
    "deletable": false,
    "editable": false,
    "nbgrader": {
     "cell_type": "code",
     "checksum": "62668aeb2585295c8f6eefddca62d45e",
     "grade": true,
     "grade_id": "test-iris2d",
     "locked": true,
     "points": 1,
     "schema_version": 3,
     "solution": false,
     "task": false
    },
    "tags": [
     "hide-input",
     "remove-output"
    ]
   },
   "outputs": [],
   "source": [
    "# tests\n",
    "assert set(iris2d_df.columns) == {\"petal length (cm)\", \"petal width (cm)\", \"target\"}"
   ]
  },
  {
   "cell_type": "code",
   "execution_count": null,
   "id": "69e1d2bf",
   "metadata": {
    "deletable": false,
    "editable": false,
    "nbgrader": {
     "cell_type": "code",
     "checksum": "71e57cc1145c2127b72f8ff082c596d6",
     "grade": true,
     "grade_id": "htest-iris2d",
     "locked": true,
     "points": 1,
     "schema_version": 3,
     "solution": false,
     "task": false
    },
    "tags": [
     "remove-cell"
    ]
   },
   "outputs": [],
   "source": [
    "## hidden tests"
   ]
  },
  {
   "cell_type": "markdown",
   "id": "ce334ed3",
   "metadata": {},
   "source": [
    "### Alternative methods of loading a dataset"
   ]
  },
  {
   "cell_type": "markdown",
   "id": "b9ad43b9",
   "metadata": {},
   "source": [
    "The following code loads the iris dataset from an [ARFF file](https://waikato.github.io/weka-wiki/formats_and_processing/arff/) instead."
   ]
  },
  {
   "cell_type": "code",
   "execution_count": null,
   "id": "2b4604f8",
   "metadata": {},
   "outputs": [],
   "source": [
    "import io\n",
    "import urllib.request\n",
    "\n",
    "from scipy.io import arff\n",
    "\n",
    "ftpstream = urllib.request.urlopen(\n",
    "    \"https://raw.githubusercontent.com/Waikato/weka-3.8/master/wekadocs/data/iris.arff\"\n",
    ")\n",
    "iris_arff = arff.loadarff(io.StringIO(ftpstream.read().decode(\"utf-8\")))\n",
    "iris_df2 = pd.DataFrame(iris_arff[0])\n",
    "iris_df2[\"class\"] = iris_df2[\"class\"].astype(\"category\")\n",
    "iris_df2"
   ]
  },
  {
   "cell_type": "markdown",
   "id": "cd8f631a",
   "metadata": {},
   "source": [
    "Pandas also provides a method to read the iris dataset directly from a CSV file locally or the internet, such as the [UCI respository](https://archive.ics.uci.edu/ml/datasets/iris)."
   ]
  },
  {
   "cell_type": "code",
   "execution_count": null,
   "id": "9e08944d",
   "metadata": {
    "slideshow": {
     "slide_type": "-"
    }
   },
   "outputs": [],
   "source": [
    "iris_df3 = pd.read_csv(\n",
    "    \"https://archive.ics.uci.edu/ml/machine-learning-databases/iris/iris.data\",\n",
    "    sep=\",\",\n",
    "    dtype={\"target\": \"category\"},\n",
    "    header=None,\n",
    "    names=iris.feature_names + [\"target\"],\n",
    ")\n",
    "iris_df3"
   ]
  },
  {
   "cell_type": "markdown",
   "id": "85206e17",
   "metadata": {},
   "source": [
    "The additional arguments `dtype`, `header`, and `names` allow us to specify the attribute datatypes and names."
   ]
  },
  {
   "cell_type": "markdown",
   "id": "76123c44",
   "metadata": {},
   "source": [
    "## Training and Testing"
   ]
  },
  {
   "cell_type": "markdown",
   "id": "623580ef",
   "metadata": {},
   "source": [
    "To obtain unbiased performance estimates of a learning algorithm, the fundamental principle is *to use separate datasets for training and testing*."
   ]
  },
  {
   "cell_type": "markdown",
   "id": "1246d5f6",
   "metadata": {},
   "source": [
    "If there is only one dataset, we should split it into *training sets* and *test sets* by *random sampling* to avoid bias in the performance estimate. In the following subsections, we will illustrate some methods of splitting the datasets for training and testing."
   ]
  },
  {
   "cell_type": "markdown",
   "id": "63f89daf",
   "metadata": {},
   "source": [
    "### Stratified holdout method"
   ]
  },
  {
   "cell_type": "markdown",
   "id": "30d39981",
   "metadata": {},
   "source": [
    "This method randomly samples data for training or testing without replacement. It is implemented by the `train_test_split` function from the `sklearn.model_selection` package."
   ]
  },
  {
   "cell_type": "code",
   "execution_count": null,
   "id": "4131f9b9",
   "metadata": {
    "colab": {},
    "colab_type": "code",
    "id": "t3tbDaTINzM4",
    "slideshow": {
     "slide_type": "fragment"
    }
   },
   "outputs": [],
   "source": [
    "from sklearn.model_selection import train_test_split\n",
    "\n",
    "X_train, X_test, Y_train, Y_test = train_test_split(\n",
    "    iris_df[iris.feature_names],  # We also separated the input features\n",
    "    iris_df.target,  # and target as X and Y for the training and test sets.\n",
    "    test_size=0.2,  # fraction for test set\n",
    "    random_state=1,\n",
    "    stratify=iris_df.target,\n",
    ")  # random seed\n",
    "\n",
    "X_train.shape, X_test.shape, Y_train.shape, Y_test.shape"
   ]
  },
  {
   "cell_type": "markdown",
   "id": "76a00b49",
   "metadata": {},
   "source": [
    "The fraction of holdout test data is:"
   ]
  },
  {
   "cell_type": "code",
   "execution_count": null,
   "id": "9597d1bd",
   "metadata": {},
   "outputs": [],
   "source": [
    "len(Y_test) / (len(Y_test) + len(Y_train))"
   ]
  },
  {
   "cell_type": "markdown",
   "id": "ec67be82",
   "metadata": {},
   "source": [
    "The class proportion of the iris dataset can be plotted as follows:"
   ]
  },
  {
   "cell_type": "code",
   "execution_count": null,
   "id": "373d3db7",
   "metadata": {},
   "outputs": [],
   "source": [
    "iris_df.target.value_counts().plot(kind=\"bar\", ylabel=\"counts\")"
   ]
  },
  {
   "cell_type": "markdown",
   "id": "6896ab49",
   "metadata": {},
   "source": [
    "We can check the effect of stratification on the class proportions:"
   ]
  },
  {
   "cell_type": "code",
   "execution_count": null,
   "id": "16e3efd5",
   "metadata": {
    "slideshow": {
     "slide_type": "-"
    }
   },
   "outputs": [],
   "source": [
    "@interact(stratify=False, data=[\"Y_train\", \"Y_test\"], seed=(0, 10))\n",
    "def plot_class_proportions(stratify, data, seed=0):\n",
    "    Y_train, Y_test = train_test_split(\n",
    "        iris_df.target,\n",
    "        test_size=0.2,\n",
    "        random_state=seed,\n",
    "        stratify=iris_df.target if stratify else None,\n",
    "    )\n",
    "    eval(data).value_counts().sort_index().plot(kind=\"bar\", ylabel=\"counts\")"
   ]
  },
  {
   "cell_type": "markdown",
   "id": "6ac271d1",
   "metadata": {},
   "source": [
    "We first apply a learning algorithm, say the decision tree induction algorithm, to train a classifier using only the training set."
   ]
  },
  {
   "cell_type": "code",
   "execution_count": null,
   "id": "4522b0f1",
   "metadata": {
    "colab": {},
    "colab_type": "code",
    "id": "EllmT0GtOaWi",
    "slideshow": {
     "slide_type": "fragment"
    }
   },
   "outputs": [],
   "source": [
    "from sklearn import tree\n",
    "\n",
    "clf = tree.DecisionTreeClassifier(random_state=0)  # the training is also randomized\n",
    "clf.fit(X_train, Y_train)  # fit the model to the training set"
   ]
  },
  {
   "cell_type": "markdown",
   "id": "0d0e739d",
   "metadata": {},
   "source": [
    "We can use the `predict` method of the trained classifier to predict the flower type from input features."
   ]
  },
  {
   "cell_type": "code",
   "execution_count": null,
   "id": "6ae0bba6",
   "metadata": {},
   "outputs": [],
   "source": [
    "Y_pred = clf.predict(X_test)\n",
    "Y_pred"
   ]
  },
  {
   "cell_type": "markdown",
   "id": "07fbe7e6",
   "metadata": {},
   "source": [
    "The following code returns the accuracy of the classifier, namely, the fraction of correct predictions on the test set."
   ]
  },
  {
   "cell_type": "code",
   "execution_count": null,
   "id": "9defaad9",
   "metadata": {},
   "outputs": [],
   "source": [
    "accuracy_holdout = (Y_pred == Y_test).mean()\n",
    "accuracy_holdout"
   ]
  },
  {
   "cell_type": "markdown",
   "id": "394b72bf",
   "metadata": {},
   "source": [
    "The `score` method performs essentially the same computation. The following code uses f-string to format the accuracy to 3 decimal places."
   ]
  },
  {
   "cell_type": "code",
   "execution_count": null,
   "id": "5af2c4c0",
   "metadata": {},
   "outputs": [],
   "source": [
    "print(f\"Accuracy: {clf.score(X_test, Y_test):0.3f}\")"
   ]
  },
  {
   "cell_type": "markdown",
   "id": "6dcd68af",
   "metadata": {},
   "source": [
    "To see input features of misclassified test instances:"
   ]
  },
  {
   "cell_type": "code",
   "execution_count": null,
   "id": "57127aee",
   "metadata": {},
   "outputs": [],
   "source": [
    "X_test[Y_pred != Y_test]"
   ]
  },
  {
   "cell_type": "markdown",
   "id": "db9a1e65",
   "metadata": {},
   "source": [
    "::::{exercise}\n",
    ":label: ex:accuracy\n",
    "\n",
    "Assign `accuracy_holdout_training_set` to the accuracy of the predictions on the training set. Check that the accuracy is overly optimistic.\n",
    "::::"
   ]
  },
  {
   "cell_type": "code",
   "execution_count": null,
   "id": "d846086a",
   "metadata": {
    "deletable": false,
    "nbgrader": {
     "cell_type": "code",
     "checksum": "0a2673867ecbae3a3bf05f78983470c8",
     "grade": false,
     "grade_id": "accuracy_holdout_training_set",
     "locked": false,
     "schema_version": 3,
     "solution": true,
     "task": false
    },
    "tags": [
     "hide-input",
     "remove-output"
    ]
   },
   "outputs": [],
   "source": [
    "# YOUR CODE HERE\n",
    "raise NotImplementedError()\n",
    "accuracy_holdout_training_set"
   ]
  },
  {
   "cell_type": "code",
   "execution_count": null,
   "id": "e7932b80",
   "metadata": {
    "deletable": false,
    "editable": false,
    "nbgrader": {
     "cell_type": "code",
     "checksum": "a5367ecea97657d0c7f04d774adfaa2f",
     "grade": true,
     "grade_id": "test-accuracy_holdout_training_set",
     "locked": true,
     "points": 1,
     "schema_version": 3,
     "solution": false,
     "task": false
    },
    "tags": [
     "remove-cell"
    ]
   },
   "outputs": [],
   "source": [
    "# hidden tests"
   ]
  },
  {
   "cell_type": "markdown",
   "id": "336ac75a",
   "metadata": {},
   "source": [
    "::::{exercise}\n",
    ":label: ex:classify\n",
    "\n",
    "Complete the following function which applies random subsampling to reduce the variance of the accuracy estimate. In particular, the function `subsampling_score` should return the average of `N` accuracies of $20\\%$ stratified holdout with random seed set from `0` up to `N-1`, where `N` is the integer input argument of the function.\n",
    "::::"
   ]
  },
  {
   "cell_type": "code",
   "execution_count": null,
   "id": "a86d28b5",
   "metadata": {
    "deletable": false,
    "nbgrader": {
     "cell_type": "code",
     "checksum": "884b0acc231060866f65003a70b24ffb",
     "grade": false,
     "grade_id": "subsampling",
     "locked": false,
     "schema_version": 3,
     "solution": true,
     "task": false
    },
    "slideshow": {
     "slide_type": "-"
    },
    "tags": [
     "remove-output"
    ]
   },
   "outputs": [],
   "source": [
    "from functools import lru_cache\n",
    "\n",
    "import numpy as np\n",
    "\n",
    "\n",
    "@lru_cache(None)  # cache the return value to avoid repeated computation\n",
    "def holdout_score(seed):\n",
    "    clf = tree.DecisionTreeClassifier(random_state=seed)\n",
    "    X_train, X_test, Y_train, Y_test = train_test_split(\n",
    "        iris_df[iris.feature_names], iris_df.target, test_size=0.2, random_state=seed\n",
    "    )\n",
    "    # YOUR CODE HERE\n",
    "    raise NotImplementedError()\n",
    "\n",
    "\n",
    "@lru_cache(None)\n",
    "def subsampling_score(N):\n",
    "    return sum(holdout_score(i) for i in range(N)) / N"
   ]
  },
  {
   "cell_type": "code",
   "execution_count": null,
   "id": "ab8404fe",
   "metadata": {
    "deletable": false,
    "editable": false,
    "nbgrader": {
     "cell_type": "code",
     "checksum": "3c20b96e07a28aaa2b9889de7c89ade0",
     "grade": true,
     "grade_id": "test-subsampling",
     "locked": true,
     "points": 1,
     "schema_version": 3,
     "solution": false,
     "task": false
    },
    "tags": [
     "hide-input",
     "remove-output"
    ]
   },
   "outputs": [],
   "source": [
    "# tests\n",
    "assert np.isclose(subsampling_score(50), 0.9466666666666663)"
   ]
  },
  {
   "cell_type": "code",
   "execution_count": null,
   "id": "600eb08f",
   "metadata": {
    "deletable": false,
    "editable": false,
    "nbgrader": {
     "cell_type": "code",
     "checksum": "fec78d6ef292f40f4af702b7dcf2a955",
     "grade": true,
     "grade_id": "htest-subsampling",
     "locked": true,
     "points": 1,
     "schema_version": 3,
     "solution": false,
     "task": false
    },
    "tags": [
     "remove-cell"
    ]
   },
   "outputs": [],
   "source": [
    "# hidden tests"
   ]
  },
  {
   "cell_type": "markdown",
   "id": "ebf4b95e",
   "metadata": {},
   "source": [
    "After implementing `subsampling_score`, the following code should plot the mean accuracies for different `N`. Check that the variation becomes smaller as `N` increases."
   ]
  },
  {
   "cell_type": "code",
   "execution_count": null,
   "id": "59fdc316",
   "metadata": {
    "tags": [
     "remove-output"
    ]
   },
   "outputs": [],
   "source": [
    "import matplotlib.pyplot as plt\n",
    "\n",
    "plt.stem([subsampling_score(i) for i in range(1, 50)])\n",
    "plt.xlabel(r\"$N$\")\n",
    "plt.ylabel(r\"Mean accuracy\")"
   ]
  },
  {
   "cell_type": "markdown",
   "id": "51975ce6",
   "metadata": {},
   "source": [
    "The documentation [here](https://ogrisel.github.io/scikit-learn.org/sklearn-tutorial/modules/generated/sklearn.cross_validation.Bootstrap.html) describes another alternative called the bootstrap method, which samples without replacement. Unlike the original bootstrap method, the test set is also sampled with replacement instead of taken directly from the out-of-the-bag instances, which are not used for training."
   ]
  },
  {
   "cell_type": "markdown",
   "id": "e8135e30",
   "metadata": {},
   "source": [
    "### Stratified cross-validation"
   ]
  },
  {
   "cell_type": "markdown",
   "id": "cd177806",
   "metadata": {},
   "source": [
    "Another method of evaluating a classification algorithm is to randomly partition the data into $k$ *folds*, which are nearly equal-sized blocks of instances. The score is the average of the accuracies obtained by using each fold to test a classifier trained using the remaining folds."
   ]
  },
  {
   "cell_type": "markdown",
   "id": "89b96056",
   "metadata": {},
   "source": [
    "The module `sklearn.model_selection` provides two functions `cross_val_predict` and `cross_val_score` for this purpose."
   ]
  },
  {
   "cell_type": "code",
   "execution_count": null,
   "id": "b8ab2104",
   "metadata": {},
   "outputs": [],
   "source": [
    "from sklearn.model_selection import StratifiedKFold, cross_val_predict, cross_val_score\n",
    "\n",
    "cv = StratifiedKFold(n_splits=5, random_state=0, shuffle=True)"
   ]
  },
  {
   "cell_type": "markdown",
   "id": "191dbc4e",
   "metadata": {},
   "source": [
    "For instance, the following returns the misclassified instances by 5-fold cross-validation."
   ]
  },
  {
   "cell_type": "code",
   "execution_count": null,
   "id": "268ecb8d",
   "metadata": {
    "colab": {},
    "colab_type": "code",
    "id": "lkopY_9pj12l",
    "slideshow": {
     "slide_type": "subslide"
    }
   },
   "outputs": [],
   "source": [
    "iris_df[\"prediction\"] = pd.Categorical(\n",
    "    cross_val_predict(clf, iris_df[iris.feature_names], iris_df.target, cv=cv)\n",
    ")\n",
    "iris_df.loc[lambda df: df[\"target\"] != df[\"prediction\"]]"
   ]
  },
  {
   "cell_type": "code",
   "execution_count": null,
   "id": "3dbac934",
   "metadata": {},
   "outputs": [],
   "source": [
    "clf = tree.DecisionTreeClassifier(random_state=0)\n",
    "scores = cross_val_score(clf, iris_df[iris.feature_names], iris_df.target, cv=5)\n",
    "print(\"Accuracies: \", \", \".join(f\"{acc:.4f}\" for acc in scores))\n",
    "print(f\"Mean accuracy: {scores.mean():.4f}\")"
   ]
  },
  {
   "cell_type": "markdown",
   "id": "2754d4b4",
   "metadata": {},
   "source": [
    "::::{exercise}\n",
    ":label: ex:cross_val\n",
    "Assign `accuracy_cv` to the accuracy obtained by the cross validation result above.\n",
    "::::"
   ]
  },
  {
   "cell_type": "code",
   "execution_count": null,
   "id": "dffe7028",
   "metadata": {
    "colab": {},
    "colab_type": "code",
    "deletable": false,
    "id": "ZE5pla5bszpB",
    "nbgrader": {
     "cell_type": "code",
     "checksum": "0c3a287b0e2e64eeac21a3c5a772d503",
     "grade": false,
     "grade_id": "cv_score",
     "locked": false,
     "schema_version": 3,
     "solution": true,
     "task": false
    },
    "slideshow": {
     "slide_type": "-"
    },
    "tags": [
     "remove-output",
     "hide-input"
    ]
   },
   "outputs": [],
   "source": [
    "# YOUR CODE HERE\n",
    "raise NotImplementedError()\n",
    "accuracy_cv"
   ]
  },
  {
   "cell_type": "code",
   "execution_count": null,
   "id": "b2a51f98",
   "metadata": {
    "deletable": false,
    "editable": false,
    "nbgrader": {
     "cell_type": "code",
     "checksum": "67b269d410e96883590613fa9c2db59b",
     "grade": true,
     "grade_id": "test-cv_score",
     "locked": true,
     "points": 1,
     "schema_version": 3,
     "solution": false,
     "task": false
    },
    "slideshow": {
     "slide_type": "-"
    },
    "tags": [
     "remove-cell"
    ]
   },
   "outputs": [],
   "source": [
    "# hidden tests"
   ]
  }
 ],
 "metadata": {
  "kernelspec": {
   "display_name": "Python 3 (ipykernel)",
   "language": "python",
   "name": "python3"
  }
 },
 "nbformat": 4,
 "nbformat_minor": 5
}
