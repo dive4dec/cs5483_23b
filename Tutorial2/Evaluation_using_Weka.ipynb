{
 "cells": [
  {
   "cell_type": "markdown",
   "id": "c3f75593",
   "metadata": {},
   "source": [
    "---\n",
    "title: Evaluation using Weka\n",
    "\n",
    "math: \n",
    "    '\\abs': '\\left\\lvert #1 \\right\\rvert' \n",
    "    '\\norm': '\\left\\lvert #1 \\right\\rvert' \n",
    "    '\\Set': '\\left\\{ #1 \\right\\}'\n",
    "    '\\mc': '\\mathcal{#1}'\n",
    "    '\\M': '\\boldsymbol{#1}'\n",
    "    '\\R': '\\mathsf{#1}'\n",
    "    '\\RM': '\\boldsymbol{\\mathsf{#1}}'\n",
    "    '\\op': '\\operatorname{#1}'\n",
    "    '\\E': '\\op{E}'\n",
    "    '\\d': '\\mathrm{\\mathstrut d}'\n",
    "---"
   ]
  },
  {
   "cell_type": "markdown",
   "id": "de478992",
   "metadata": {
    "slideshow": {
     "slide_type": "-"
    },
    "tags": [
     "remove-cell"
    ]
   },
   "source": [
    "**CS5483 Data Warehousing and Data Mining**\n",
    "___"
   ]
  },
  {
   "cell_type": "markdown",
   "id": "7466cabf",
   "metadata": {
    "slideshow": {
     "slide_type": "fragment"
    }
   },
   "source": [
    "Use Weka to do [\\[Witten11\\] Exercises 17.1.3 and 17.1.10][Witten11]. You may refer to [Chapter 10][ch10] for a more detailed introduction to Weka.\n",
    "  \n",
    "[Witten11]: https://ebookcentral.proquest.com/lib/cityuhk/reader.action?docID=634862&ppg=595\n",
    "[visualize]: https://ebookcentral.proquest.com/lib/cityuhk/reader.action?docID=634862&ppg=597\n",
    "[ch10]: https://ebookcentral.proquest.com/lib/cityuhk/reader.action?ppg=438&docID=634862&tm=1547446912037"
   ]
  },
  {
   "cell_type": "markdown",
   "id": "9b44eb59",
   "metadata": {},
   "source": [
    "::::{tip}\n",
    "\n",
    "- You can create new markdown cells and copy and paste images to the cell.\n",
    "- You should put your final answers to the designated solution cells for grading.\n",
    "\n",
    "::::"
   ]
  },
  {
   "cell_type": "markdown",
   "id": "d71f9cc4",
   "metadata": {},
   "source": [
    "## The Dataset Editor"
   ]
  },
  {
   "cell_type": "markdown",
   "id": "95f6618b",
   "metadata": {},
   "source": [
    "After loading the data in the preprocess panel, we can inspect or change the data using the dataset editor."
   ]
  },
  {
   "cell_type": "markdown",
   "id": "5e0e640e",
   "metadata": {},
   "source": [
    "![Dataset Editor](images/dataset_editor.dio.svg)"
   ]
  },
  {
   "cell_type": "markdown",
   "id": "09aee58a",
   "metadata": {
    "slideshow": {
     "slide_type": "subslide"
    }
   },
   "source": [
    "::::{exercise} Ex 17.1.3\n",
    ":label: ex:17.1.3\n",
    "::::"
   ]
  },
  {
   "cell_type": "markdown",
   "id": "b78b72f9",
   "metadata": {
    "deletable": false,
    "nbgrader": {
     "cell_type": "markdown",
     "checksum": "439dcdac5ad6a2499e71a47bf96fd2c1",
     "grade": true,
     "grade_id": "Witten11-17-1-3",
     "locked": false,
     "points": 1,
     "schema_version": 3,
     "solution": true,
     "task": false
    },
    "slideshow": {
     "slide_type": "-"
    },
    "tags": [
     "remove-output"
    ]
   },
   "source": [
    "YOUR ANSWER HERE"
   ]
  },
  {
   "cell_type": "markdown",
   "id": "b8e4d8d1",
   "metadata": {
    "slideshow": {
     "slide_type": "subslide"
    }
   },
   "source": [
    "::::{exercise} Ex 17.1.4\n",
    ":label: ex:17.1.4\n",
    "::::"
   ]
  },
  {
   "cell_type": "markdown",
   "id": "e3bd9964",
   "metadata": {
    "deletable": false,
    "nbgrader": {
     "cell_type": "markdown",
     "checksum": "cd6d4b1b64c36b50eb5ad2b195cff2de",
     "grade": true,
     "grade_id": "Witten11-17-1-4",
     "locked": false,
     "points": 1,
     "schema_version": 3,
     "solution": true,
     "task": false
    },
    "slideshow": {
     "slide_type": "-"
    },
    "tags": [
     "remove-output"
    ]
   },
   "source": [
    "YOUR ANSWER HERE"
   ]
  },
  {
   "cell_type": "markdown",
   "id": "997a5fbe",
   "metadata": {
    "slideshow": {
     "slide_type": "subslide"
    }
   },
   "source": [
    "::::{exercise} Ex 17.1.5\n",
    ":label: ex:17.1.5\n",
    "::::"
   ]
  },
  {
   "cell_type": "markdown",
   "id": "e72d911b",
   "metadata": {
    "deletable": false,
    "nbgrader": {
     "cell_type": "markdown",
     "checksum": "63bd09fef7bacd9021efe84fbd408f1f",
     "grade": true,
     "grade_id": "Witten11-17-1-5",
     "locked": false,
     "points": 1,
     "schema_version": 3,
     "solution": true,
     "task": false
    },
    "slideshow": {
     "slide_type": "-"
    },
    "tags": [
     "remove-output"
    ]
   },
   "source": [
    "YOUR ANSWER HERE"
   ]
  },
  {
   "cell_type": "markdown",
   "id": "fd33b3ac",
   "metadata": {},
   "source": [
    "## Applying a Filter"
   ]
  },
  {
   "cell_type": "markdown",
   "id": "b98a49f8",
   "metadata": {},
   "source": [
    "We can also modify the data using filters. After selecting a filter, we can left-click the filter to change its configuration or right-click the filter configuration in Weka to copy the configuration to the clipboard.\n",
    "\n",
    "![Filter](images/filter.dio.svg)"
   ]
  },
  {
   "cell_type": "markdown",
   "id": "3b7a45c2",
   "metadata": {
    "slideshow": {
     "slide_type": "subslide"
    }
   },
   "source": [
    "::::{exercise} Ex 17.1.6-7\n",
    ":label: ex:17.1.6-7\n",
    "::::\n",
    "\n",
    "Give the configuration of the filter of interest. E.g., the following is the default configuration for the `RemoveWithValues` filter:\n",
    "\n",
    "```shell\n",
    "weka.filters.unsupervised.instance.RemoveWithValues -S 0.0 -C last -L first-last\n",
    "```"
   ]
  },
  {
   "cell_type": "markdown",
   "id": "caed463a",
   "metadata": {
    "deletable": false,
    "nbgrader": {
     "cell_type": "markdown",
     "checksum": "979493b18d2be7f57940affd8acf5fc2",
     "grade": true,
     "grade_id": "Witten11-17-1-67",
     "locked": false,
     "points": 1,
     "schema_version": 3,
     "solution": true,
     "task": false
    },
    "slideshow": {
     "slide_type": "-"
    },
    "tags": [
     "remove-output"
    ]
   },
   "source": [
    "YOUR ANSWER HERE"
   ]
  },
  {
   "cell_type": "markdown",
   "id": "001dab13",
   "metadata": {},
   "source": [
    "## The Classify Panel"
   ]
  },
  {
   "cell_type": "markdown",
   "id": "364cb24e",
   "metadata": {},
   "source": [
    "To train a classifier, use the classify panel to select a classification algorithm and start the training."
   ]
  },
  {
   "cell_type": "markdown",
   "id": "968479dc",
   "metadata": {},
   "source": [
    "![Classify](images/classify.dio.svg)"
   ]
  },
  {
   "cell_type": "markdown",
   "id": "fbc1fffd",
   "metadata": {},
   "source": [
    "- The default test options use 10-fold cross-validation but we can choose to \n",
    "  - use the training set for testing,\n",
    "  - supply a separate dataset for testing, or\n",
    "  - use only a specified percentage of the original data for training and holdout the remaining data for testing.\n",
    "- We can right-click the result in the result list to visualize the classifier errors. \n",
    "- For decision tree classifier, we can sometimes visualize the tree in addition to its text representation from the Classifier output."
   ]
  },
  {
   "cell_type": "markdown",
   "id": "faf23507",
   "metadata": {
    "slideshow": {
     "slide_type": "subslide"
    }
   },
   "source": [
    "::::{exercise} Ex 17.1.8\n",
    ":label: ex:17.1.8\n",
    "::::"
   ]
  },
  {
   "cell_type": "markdown",
   "id": "4b877041",
   "metadata": {
    "deletable": false,
    "nbgrader": {
     "cell_type": "markdown",
     "checksum": "fc9f35e945335120c28039a65fc6d1ce",
     "grade": true,
     "grade_id": "Witten11-17-1-8",
     "locked": false,
     "points": 1,
     "schema_version": 3,
     "solution": true,
     "task": false
    },
    "slideshow": {
     "slide_type": "-"
    },
    "tags": [
     "remove-output"
    ]
   },
   "source": [
    "YOUR ANSWER HERE"
   ]
  },
  {
   "cell_type": "markdown",
   "id": "e3707079",
   "metadata": {
    "slideshow": {
     "slide_type": "subslide"
    }
   },
   "source": [
    "::::{exercise} Ex 17.1.9\n",
    ":label: ex:17.1.9\n",
    "::::"
   ]
  },
  {
   "cell_type": "markdown",
   "id": "0accd0dd",
   "metadata": {
    "deletable": false,
    "nbgrader": {
     "cell_type": "markdown",
     "checksum": "695e6921ccb4b42fbe56c91cd431b7f2",
     "grade": true,
     "grade_id": "Witten11-17-1-9",
     "locked": false,
     "points": 1,
     "schema_version": 3,
     "solution": true,
     "task": false
    },
    "slideshow": {
     "slide_type": "-"
    },
    "tags": [
     "remove-output"
    ]
   },
   "source": [
    "YOUR ANSWER HERE"
   ]
  },
  {
   "cell_type": "markdown",
   "id": "ad73f64f",
   "metadata": {},
   "source": [
    "::::{exercise} Ex 17.1.10\n",
    ":label: ex:17.1.10\n",
    "::::"
   ]
  },
  {
   "cell_type": "markdown",
   "id": "62cf65f8",
   "metadata": {
    "deletable": false,
    "nbgrader": {
     "cell_type": "markdown",
     "checksum": "29c4c5b4b489b53d8acd8e3913522061",
     "grade": true,
     "grade_id": "Witten11-17-1-10",
     "locked": false,
     "points": 1,
     "schema_version": 3,
     "solution": true,
     "task": false
    },
    "tags": [
     "remove-output"
    ]
   },
   "source": [
    "YOUR ANSWER HERE"
   ]
  }
 ],
 "metadata": {
  "kernelspec": {
   "display_name": "Python 3 (ipykernel)",
   "language": "python",
   "name": "python3"
  }
 },
 "nbformat": 4,
 "nbformat_minor": 5
}
