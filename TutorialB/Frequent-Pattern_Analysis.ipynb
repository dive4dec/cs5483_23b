{
 "cells": [
  {
   "cell_type": "markdown",
   "id": "e67dc402",
   "metadata": {},
   "source": [
    "---\n",
    "title: Frequent-Pattern Analysis\n",
    "math: \n",
    "    '\\abs': '\\left\\lvert #1 \\right\\rvert' \n",
    "    '\\norm': '\\left\\lvert #1 \\right\\rvert' \n",
    "    '\\Set': '\\left\\{ #1 \\right\\}'\n",
    "    '\\mc': '\\mathcal{#1}'\n",
    "    '\\M': '\\boldsymbol{#1}'\n",
    "    '\\R': '\\mathsf{#1}'\n",
    "    '\\RM': '\\M{\\mathsf{#1}}'\n",
    "    '\\op': '\\operatorname{#1}'\n",
    "    '\\E': '\\op{E}'\n",
    "    '\\d': '\\mathrm{\\mathstrut d}'\n",
    "---"
   ]
  },
  {
   "cell_type": "markdown",
   "id": "7cc30964",
   "metadata": {
    "tags": [
     "remove-cell"
    ]
   },
   "source": [
    "**CS5483 Data Warehousing and Data Mining**\n",
    "\n",
    "___"
   ]
  },
  {
   "cell_type": "code",
   "execution_count": null,
   "id": "03ab1b16",
   "metadata": {
    "init_cell": true,
    "slideshow": {
     "slide_type": "-"
    },
    "tags": [
     "remove-output"
    ]
   },
   "outputs": [],
   "source": [
    "import logging\n",
    "import numpy as np\n",
    "import weka.core.jvm as jvm\n",
    "from weka.associations import Associator\n",
    "from weka.core.converters import Loader\n",
    "\n",
    "jvm.start(logging_level=logging.ERROR)"
   ]
  },
  {
   "cell_type": "markdown",
   "id": "bd58ea72",
   "metadata": {},
   "source": [
    "## Association Rule Mining using Weka"
   ]
  },
  {
   "cell_type": "markdown",
   "id": "071428f3",
   "metadata": {},
   "source": [
    "We will conduct the market-basket analysis on the supermarket dataset in Weka."
   ]
  },
  {
   "cell_type": "markdown",
   "id": "2f6648fd",
   "metadata": {},
   "source": [
    "### Transaction data"
   ]
  },
  {
   "cell_type": "markdown",
   "id": "f135309a",
   "metadata": {},
   "source": [
    "Each instance of the dataset is a transaction, i.e., a customer's purchase of items in a supermarket. The dataset can be represented as follows:"
   ]
  },
  {
   "cell_type": "markdown",
   "id": "672ca1a2",
   "metadata": {},
   "source": [
    "::::{prf:definition} \n",
    "\n",
    "For market-basket analysis, the dataset is\n",
    "\n",
    "$$\n",
    "\\begin{align}\n",
    "D &:= \\Set{T_i}_{i=1}^{n} \\quad \\text{where}\\\\\n",
    "T_i&\\subseteq \\mc{I},\n",
    "\\end{align}\n",
    "$$\n",
    "\n",
    "and $\\mc{I}$ is the collection of all items. A transaction $T_i$ is simply a subset of items.\n",
    "\n",
    "::::"
   ]
  },
  {
   "cell_type": "markdown",
   "id": "7394c250",
   "metadata": {},
   "source": [
    "Using the Explorer interface, load the `supermarket.arff` dataset in Weka."
   ]
  },
  {
   "cell_type": "markdown",
   "id": "f8c6b05d",
   "metadata": {},
   "source": [
    "![](images/supermarket_attribute.png)"
   ]
  },
  {
   "cell_type": "markdown",
   "id": "f7ab6e86",
   "metadata": {},
   "source": [
    "Note that most attribute contains only one possible value, namely `t`. Click the button `Edit...` to open the data editor. Observe that most attributes have missing values:"
   ]
  },
  {
   "cell_type": "markdown",
   "id": "03f7b655",
   "metadata": {},
   "source": [
    "![](images/supermarket_data.png)"
   ]
  },
  {
   "cell_type": "markdown",
   "id": "3d50e06b",
   "metadata": {},
   "source": [
    "In `supermarket.arff`:\n",
    "- Each attribute specified by `@attribute` can be a product category, a department, or a product with one possible value `t`:\n",
    "```\n",
    "...\n",
    "@attribute 'grocery misc' { t}\n",
    "@attribute 'department11' { t}\n",
    "@attribute 'baby needs' { t}\n",
    "@attribute 'bread and cake' { t}\n",
    "...\n",
    "```\n",
    "- The last attribute `'total'` has two possible values `{low, high}`: \n",
    "```\n",
    "@attribute 'total' { low, high} % low < 100\n",
    "```"
   ]
  },
  {
   "cell_type": "markdown",
   "id": "c3c6ee46",
   "metadata": {},
   "source": [
    "To understand the dataset further:\n",
    "1. Select the `Associate` tab. By default, `Apriori` is chosen as the `Associator`.\n",
    "1. Open the `GenericObjectEditor` and check for a parameter called `treatZeroAsMissing`. Hover the mouse pointer over the parameter to see more details. \n",
    "1. Run the Apriori algorithm with different choices of the parameter `treatZeroAsMissing`. Observe the difference in the generated rules."
   ]
  },
  {
   "cell_type": "markdown",
   "id": "31c9b69f",
   "metadata": {},
   "source": [
    "::::{exercise}\n",
    ":label: ex:1\n",
    "Explain what `t` and `?` means in the dataset when we set `treatZeroAsMissing` to `True` and `False`, respectively.\n",
    "\n",
    ":::{hint}\n",
    ":class: dropdown\n",
    "See the [documentation](https://weka.sourceforge.io/doc.dev/weka/associations/Apriori.html) of `Apriori` `Associator`.\n",
    ":::\n",
    "::::"
   ]
  },
  {
   "cell_type": "markdown",
   "id": "890eaf04",
   "metadata": {
    "deletable": false,
    "nbgrader": {
     "cell_type": "markdown",
     "checksum": "aef91b785d8cb0947d72dff1ee7befbb",
     "grade": true,
     "grade_id": "indicator",
     "locked": false,
     "points": 1,
     "schema_version": 3,
     "solution": true,
     "task": false
    }
   },
   "source": [
    "YOUR ANSWER HERE"
   ]
  },
  {
   "cell_type": "markdown",
   "id": "53921ee1",
   "metadata": {},
   "source": [
    "### Association rule"
   ]
  },
  {
   "cell_type": "markdown",
   "id": "4fb71be4",
   "metadata": {},
   "source": [
    "An association rule for market-basket analysis is defined as follows:"
   ]
  },
  {
   "cell_type": "markdown",
   "id": "fa3b3b3a",
   "metadata": {},
   "source": [
    "::::{prf:definition} \n",
    "\n",
    "Given two itemsets (sets of items) $A$ and $B$, the association rule\n",
    "\n",
    "$$\n",
    "\\begin{align}\n",
    "A \\implies B\n",
    "\\end{align}\n",
    "$$ (association-rule)\n",
    "\n",
    "means that a transaction contains all items in $B$ if it contains all items in $A$, i.e.,\n",
    "\n",
    "$$\n",
    "\\begin{align}\n",
    "\\underbrace{A\\subseteq T}_{\\text{premise}} \\implies \\underbrace{B\\subseteq T}_{\\text{consequence}}\n",
    "\\end{align}\n",
    "$$\n",
    "\n",
    "for transaction $T\\in D$.\n",
    "\n",
    "::::"
   ]
  },
  {
   "cell_type": "markdown",
   "id": "6a13a3bc",
   "metadata": {},
   "source": [
    "We will use [`python-weka-wrapper`](https://github.com/fracpete/python-weka-wrapper3-examples/blob/master/src/wekaexamples/associations/apriori_output.py) for illustration. To load the dataset:"
   ]
  },
  {
   "cell_type": "code",
   "execution_count": null,
   "id": "b371ce50",
   "metadata": {},
   "outputs": [],
   "source": [
    "loader = Loader(classname=\"weka.core.converters.ArffLoader\")\n",
    "weka_data_path = (\n",
    "    \"https://raw.githubusercontent.com/Waikato/weka-3.8/master/wekadocs/data/\"\n",
    ")\n",
    "dataset = loader.load_url(\n",
    "    weka_data_path + \"supermarket.arff\"\n",
    ")  # use load_file to load from file instead"
   ]
  },
  {
   "cell_type": "markdown",
   "id": "da6e2167",
   "metadata": {},
   "source": [
    "To apply the apriori algorithm with the default settings:\n",
    "\n",
    "```python\n",
    "from weka.associations import Associator\n",
    "```"
   ]
  },
  {
   "cell_type": "code",
   "execution_count": null,
   "id": "402ed820",
   "metadata": {},
   "outputs": [],
   "source": [
    "apriori = Associator(classname=\"weka.associations.Apriori\")\n",
    "apriori.build_associations(dataset)\n",
    "apriori"
   ]
  },
  {
   "cell_type": "markdown",
   "id": "1b4a72d2",
   "metadata": {},
   "source": [
    "::::{exercise}\n",
    ":label: ex:2\n",
    "Explain what the first rule means according to the notation $A\\implies B$.\n",
    "\n",
    ":::{hint}\n",
    ":class: dropdown\n",
    "You may regard `biscuits=t` and `total=high` as items. In particular, since `total` has two possible values, it is associated with two items, the other being `total=low`. \n",
    ":::\n",
    "::::"
   ]
  },
  {
   "cell_type": "markdown",
   "id": "4d1ec708",
   "metadata": {
    "deletable": false,
    "nbgrader": {
     "cell_type": "markdown",
     "checksum": "503c66d57d76ebd4a641391360b46674",
     "grade": true,
     "grade_id": "explain-rule",
     "locked": false,
     "points": 1,
     "schema_version": 3,
     "solution": true,
     "task": false
    }
   },
   "source": [
    "YOUR ANSWER HERE"
   ]
  },
  {
   "cell_type": "markdown",
   "id": "b80ad953",
   "metadata": {},
   "source": [
    "To retrieve the rules as a list, and print the first rule:"
   ]
  },
  {
   "cell_type": "code",
   "execution_count": null,
   "id": "31751393",
   "metadata": {},
   "outputs": [],
   "source": [
    "rules = list(apriori.association_rules())\n",
    "rules[0]"
   ]
  },
  {
   "cell_type": "markdown",
   "id": "ce4cd09d",
   "metadata": {},
   "source": [
    "To obtain the set $A$ (in premise) and $B$ (in consequence):"
   ]
  },
  {
   "cell_type": "code",
   "execution_count": null,
   "id": "7b20bd65",
   "metadata": {},
   "outputs": [],
   "source": [
    "rules[0].premise, rules[0].consequence"
   ]
  },
  {
   "cell_type": "code",
   "execution_count": null,
   "id": "c9a18bee",
   "metadata": {},
   "outputs": [],
   "source": [
    "premise_support = rules[0].premise_support\n",
    "total_support = rules[0].total_support"
   ]
  },
  {
   "cell_type": "markdown",
   "id": "da1984b9",
   "metadata": {},
   "source": [
    "The apriori algorithm returns rules with large enough support:\n",
    "\\begin{align}\n",
    "\\op{support}(A \\implies B) &= \\op{support}(A \\cup B) :=\n",
    "\\frac{\\op{count}(A \\cup B)}{|D|}\\quad \\text{where}\\\\\n",
    "\\op{count(A \\cup B)} &:= \\abs{\\Set{T\\in D|T\\supseteq A\\cup B}}.\n",
    "\\end{align}\n",
    "\n",
    "Support is the fraction of transactions containing $A$ and $B$."
   ]
  },
  {
   "cell_type": "markdown",
   "id": "a9073561",
   "metadata": {},
   "source": [
    "For the first rule, the number 723 at the end of the rule corresponds to the total support count $\\op{count}(A\\cup B)$."
   ]
  },
  {
   "cell_type": "markdown",
   "id": "71d316fe",
   "metadata": {},
   "source": [
    "::::{exercise}\n",
    ":label: ex:3\n",
    "Assign to `support` the (fractional) support for the first rule (`rules[0]`). \n",
    "\n",
    ":::{hint}\n",
    ":class: dropdown\n",
    "In `python-weka-wrapper`, you can use the properties `total_support` and `total_transactions` of `rules[0]`.\n",
    ":::\n",
    "::::"
   ]
  },
  {
   "cell_type": "code",
   "execution_count": null,
   "id": "8c09824c",
   "metadata": {
    "deletable": false,
    "nbgrader": {
     "cell_type": "code",
     "checksum": "4d1116138ca860017f31bec6b2f99d2c",
     "grade": false,
     "grade_id": "support",
     "locked": false,
     "schema_version": 3,
     "solution": true,
     "task": false
    },
    "tags": [
     "remove-output"
    ]
   },
   "outputs": [],
   "source": [
    "# YOUR CODE HERE\n",
    "raise NotImplementedError()\n",
    "support"
   ]
  },
  {
   "cell_type": "code",
   "execution_count": null,
   "id": "b532e2f1",
   "metadata": {
    "deletable": false,
    "editable": false,
    "nbgrader": {
     "cell_type": "code",
     "checksum": "c66ce344335fba8822fe4acd479a81a7",
     "grade": true,
     "grade_id": "test-support",
     "locked": true,
     "points": 1,
     "schema_version": 3,
     "solution": false,
     "task": false
    },
    "tags": [
     "remove-cell"
    ]
   },
   "outputs": [],
   "source": [
    "# hidden tests"
   ]
  },
  {
   "cell_type": "markdown",
   "id": "9ba0c0f5",
   "metadata": {},
   "source": [
    "`<conf:(0.92)> lift:(1.27) lev:(0.03) conv:(3.35)` printed after the first rule indicates that \n",
    "\n",
    "- confidence is used for ranking the rules and \n",
    "- the rule has a confidence of 0.92.\n",
    "\n",
    "By default, the rules are ranked by confidence, which is defined as follows:"
   ]
  },
  {
   "cell_type": "markdown",
   "id": "445aba64",
   "metadata": {},
   "source": [
    "::::{prf:definition} \n",
    "\n",
    "Confidence of a rule is defined as\n",
    "\n",
    "$$\n",
    "\\begin{align}\n",
    "\\op{confidence}(A\\implies B) &:= \\frac{\\op{support(A \\cup B)}}{\\op{support(A)}},\n",
    "\\end{align}\n",
    "$$ (confidence)\n",
    "\n",
    "where the denominator $\\op{support}(A)$ is the support of the premise. It gives, out of the transactions containing $A$, the fraction of transactions containing $B$.\n",
    "\n",
    "::::"
   ]
  },
  {
   "cell_type": "markdown",
   "id": "34163f09",
   "metadata": {},
   "source": [
    "In `python-weka-wrapper`, we can print different metrics as follows:"
   ]
  },
  {
   "cell_type": "code",
   "execution_count": null,
   "id": "e8fb73cb",
   "metadata": {},
   "outputs": [],
   "source": [
    "for n, v in zip(rules[0].metric_names, rules[0].metric_values):\n",
    "    print(f\"{n}: {v:.3g}\")"
   ]
  },
  {
   "cell_type": "markdown",
   "id": "42100a62",
   "metadata": {},
   "source": [
    "::::{exercise}\n",
    ":label: ex:4\n",
    "Assign to `premise_support` the support count $\\op{count}(A)$ of the premise for the first rule.\n",
    "::::"
   ]
  },
  {
   "cell_type": "code",
   "execution_count": null,
   "id": "28be51f5",
   "metadata": {
    "deletable": false,
    "nbgrader": {
     "cell_type": "code",
     "checksum": "2b4adb7cae5d566af51a6724d89b7e6c",
     "grade": false,
     "grade_id": "premise_support",
     "locked": false,
     "schema_version": 3,
     "solution": true,
     "task": false
    },
    "tags": [
     "remove-output"
    ]
   },
   "outputs": [],
   "source": [
    "# YOUR CODE HERE\n",
    "raise NotImplementedError()\n",
    "premise_support"
   ]
  },
  {
   "cell_type": "code",
   "execution_count": null,
   "id": "d151fcf0",
   "metadata": {
    "deletable": false,
    "editable": false,
    "nbgrader": {
     "cell_type": "code",
     "checksum": "bba71d901d53975c08f911a3f662d0d6",
     "grade": true,
     "grade_id": "test-premise_support",
     "locked": true,
     "points": 1,
     "schema_version": 3,
     "solution": false,
     "task": false
    },
    "tags": [
     "remove-cell"
    ]
   },
   "outputs": [],
   "source": [
    "# hidden tests"
   ]
  },
  {
   "cell_type": "markdown",
   "id": "8350fd94",
   "metadata": {},
   "source": [
    "Lift is another rule quality measure defined as follows:"
   ]
  },
  {
   "cell_type": "markdown",
   "id": "8b6df43c",
   "metadata": {},
   "source": [
    "::::{prf:definition} \n",
    "\n",
    "The lift of a rule is\n",
    "\n",
    "$$\n",
    "\\begin{align}\n",
    "\\op{lift}(A\\implies B) &:= \\frac{\\op{confidence}(A\\implies B)}{\\op{support(B)}} = \\frac{\\op{support(A \\cup B)}}{\\op{support(A)}\\op{support(B)}}\\\\\n",
    "&= \\frac{\\op{confidence}(A\\implies B)}{\\op{confidence}(\\emptyset \\implies B)}.\n",
    "\\end{align}\n",
    "$$ (lift)\n",
    "\n",
    "where the last equality is obtained by rewriting $\\op{support}(B)$ in the denominator of the first equality as \n",
    "\n",
    "$$\n",
    "\\begin{align}\n",
    "\\op{confidence}(\\emptyset \\implies B) &= \\frac{\\op{support}(B)}{\\op{support}(\\emptyset)} = \\op{support}(B).\n",
    "\\end{align}\n",
    "$$\n",
    "\n",
    "In other words, lift is the fractional increase in confidence by imposing the premise.\n",
    "\n",
    "::::"
   ]
  },
  {
   "cell_type": "markdown",
   "id": "1571f865",
   "metadata": {},
   "source": [
    "::::{exercise}\n",
    ":label: ex:5\n",
    "In Weka, we can change the parameter `metricType` to rank the rule according to `Lift` instead of `Confidence`. Rerun the algorithm with `metricType = Lift`. Assign to `lift` the maximum lift achieved. For `python-weka-wrapper`, you can specify the option as follows:\n",
    "::::\n",
    "\n",
    "```Python\n",
    "apriori_lift = Associator(classname=\"weka.associations.Apriori\", options=['-T', '1'])\n",
    "...\n",
    "```\n",
    "where the value `1` corresponds to `Lift`."
   ]
  },
  {
   "cell_type": "code",
   "execution_count": null,
   "id": "27a4e9e5",
   "metadata": {
    "deletable": false,
    "nbgrader": {
     "cell_type": "code",
     "checksum": "0fb120ba22ba280764537c04090aba50",
     "grade": false,
     "grade_id": "lift",
     "locked": false,
     "schema_version": 3,
     "solution": true,
     "task": false
    },
    "tags": [
     "remove-output"
    ]
   },
   "outputs": [],
   "source": [
    "# YOUR CODE HERE\n",
    "raise NotImplementedError()\n",
    "lift"
   ]
  },
  {
   "cell_type": "code",
   "execution_count": null,
   "id": "7555c2ae",
   "metadata": {
    "deletable": false,
    "editable": false,
    "nbgrader": {
     "cell_type": "code",
     "checksum": "fe32c017337cfd4a83231903d22f804f",
     "grade": true,
     "grade_id": "test-lift",
     "locked": true,
     "points": 1,
     "schema_version": 3,
     "solution": false,
     "task": false
    },
    "tags": [
     "remove-cell"
    ]
   },
   "outputs": [],
   "source": [
    "# hidden tests"
   ]
  },
  {
   "cell_type": "markdown",
   "id": "a30d3a4b",
   "metadata": {},
   "source": [
    "::::{exercise}\n",
    ":label: ex:6\n",
    "Explain the relationship between the first and second rules.\n",
    "::::"
   ]
  },
  {
   "cell_type": "markdown",
   "id": "1018f704",
   "metadata": {
    "deletable": false,
    "nbgrader": {
     "cell_type": "markdown",
     "checksum": "ee414083029adadf35a58f18e972d39d",
     "grade": true,
     "grade_id": "symmetry",
     "locked": false,
     "points": 1,
     "schema_version": 3,
     "solution": true,
     "task": false
    }
   },
   "source": [
    "YOUR ANSWER HERE"
   ]
  },
  {
   "cell_type": "markdown",
   "id": "85da0879",
   "metadata": {},
   "source": [
    "::::{exercise}\n",
    ":label: ex:7\n",
    "Explain why the maximum lift obtained by ranking the rules using `Lift` is smaller than 1.27, which is the lift obtained before by ranking rules using `Confidence`.\n",
    "\n",
    ":::{hint}\n",
    ":class: dropdown\n",
    "From the [documentation](https://weka.sourceforge.io/doc.dev/weka/associations/Apriori.html), the apriori algorithm in Weka reduces the minimum support until it obtains a specified number (default: 10) of rules with specified minimum metric value for the metric type.\n",
    ":::\n",
    "::::"
   ]
  },
  {
   "cell_type": "markdown",
   "id": "be994a9a",
   "metadata": {
    "deletable": false,
    "nbgrader": {
     "cell_type": "markdown",
     "checksum": "a16c565cdf5bd92905bed1d123fb6d6b",
     "grade": true,
     "grade_id": "minsupport",
     "locked": false,
     "points": 1,
     "schema_version": 3,
     "solution": true,
     "task": false
    }
   },
   "source": [
    "YOUR ANSWER HERE"
   ]
  }
 ],
 "metadata": {
  "kernelspec": {
   "display_name": "weka",
   "language": "python",
   "name": "weka"
  }
 },
 "nbformat": 4,
 "nbformat_minor": 5
}
