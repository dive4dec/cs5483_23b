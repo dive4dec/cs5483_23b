{
 "cells": [
  {
   "cell_type": "markdown",
   "id": "0d2c5667",
   "metadata": {
    "slideshow": {
     "slide_type": "slide"
    }
   },
   "source": [
    "---\n",
    "title: Training with Skewed Dataset\n",
    "math: \n",
    "    '\\abs': '\\left\\lvert #1 \\right\\rvert' \n",
    "    '\\norm': '\\left\\lvert #1 \\right\\rvert' \n",
    "    '\\Set': '\\left\\{ #1 \\right\\}'\n",
    "    '\\mc': '\\mathcal{#1}'\n",
    "    '\\M': '\\boldsymbol{#1}'\n",
    "    '\\R': '\\mathsf{#1}'\n",
    "    '\\RM': '\\boldsymbol{\\mathsf{#1}}'\n",
    "    '\\op': '\\operatorname{#1}'\n",
    "    '\\E': '\\op{E}'\n",
    "    '\\d': '\\mathrm{\\mathstrut d}'\n",
    "    '\\precision': '\\text{precision}'\n",
    "    '\\recall': '\\text{recall}'\n",
    "    '\\specificity': '\\text{specificity}'\n",
    "    '\\TP': '\\text{TP}'\n",
    "    '\\FP': '\\text{FP}'\n",
    "    '\\FN': '\\text{FN}'\n",
    "    '\\TN': '\\text{TN}'\n",
    "    '\\cost': '\\text{cost}'    \n",
    "---"
   ]
  },
  {
   "cell_type": "markdown",
   "id": "eb531729",
   "metadata": {
    "slideshow": {
     "slide_type": "-"
    },
    "tags": [
     "remove-cell"
    ]
   },
   "source": [
    "**CS5483 Data Warehousing and Data Mining**\n",
    "___"
   ]
  },
  {
   "cell_type": "code",
   "execution_count": null,
   "id": "01157ad7",
   "metadata": {
    "init_cell": true,
    "slideshow": {
     "slide_type": "subslide"
    }
   },
   "outputs": [],
   "source": [
    "import logging\n",
    "import pprint\n",
    "\n",
    "import numpy as np\n",
    "import weka.core.jvm as jvm\n",
    "import weka.core.packages as packages\n",
    "from weka.classifiers import (\n",
    "    Classifier,\n",
    "    Evaluation,\n",
    "    FilteredClassifier,\n",
    "    SingleClassifierEnhancer,\n",
    ")\n",
    "from weka.core.classes import Random, complete_classname\n",
    "from weka.core.converters import Loader\n",
    "from weka.filters import Filter"
   ]
  },
  {
   "cell_type": "markdown",
   "id": "cce35445",
   "metadata": {},
   "source": [
    "## Setup"
   ]
  },
  {
   "cell_type": "markdown",
   "id": "f1f09f0f",
   "metadata": {},
   "source": [
    "In this notebook, we will train classifiers properly on the skewed dataset for detecting microcalcifications in mammograms."
   ]
  },
  {
   "cell_type": "markdown",
   "id": "aa814047",
   "metadata": {},
   "source": [
    "In particular, we will use the meta classifier `ThresholdSelector` and the filter `SMOTE` [Synthetic Minority Over-sampling Technique](https://doi.org/10.1613/jair.953). They need to be installed as [additional packages in WEKA](https://weka.sourceforge.io/packageMetaData/). To do so, we have imported `packages`:\n",
    "\n",
    "```python\n",
    "import weka.core.packages as packages\n",
    "```"
   ]
  },
  {
   "cell_type": "markdown",
   "id": "10e8061f",
   "metadata": {},
   "source": [
    "`packages` must also be enabled for the java virtual machine:"
   ]
  },
  {
   "cell_type": "code",
   "execution_count": null,
   "id": "148ea538",
   "metadata": {
    "tags": [
     "remove-output"
    ]
   },
   "outputs": [],
   "source": [
    "jvm.start(packages=True, logging_level=logging.ERROR)"
   ]
  },
  {
   "cell_type": "markdown",
   "id": "ab12c7b5",
   "metadata": {},
   "source": [
    "The following prints the information of the packages we will install:"
   ]
  },
  {
   "cell_type": "code",
   "execution_count": null,
   "id": "7737cbc3",
   "metadata": {},
   "outputs": [],
   "source": [
    "pkgs = [\"thresholdSelector\", \"SMOTE\"]\n",
    "for item in packages.all_packages():\n",
    "    if item.name in pkgs:\n",
    "        pprint.pp(item.metadata)"
   ]
  },
  {
   "cell_type": "markdown",
   "id": "b0904afd",
   "metadata": {},
   "source": [
    " You may install the packages directly using the Weka package manager instead of downloading the zip files. To install them in `python-weka-wrapper`, run the following code:"
   ]
  },
  {
   "cell_type": "code",
   "execution_count": null,
   "id": "a327a5d8",
   "metadata": {},
   "outputs": [],
   "source": [
    "for pkg in pkgs:\n",
    "    if not packages.is_installed(pkg):\n",
    "        print(f\"Installing {pkg}...\")\n",
    "        packages.install_package(pkg)\n",
    "    else:\n",
    "        print(f\"Skipping {pkg}, already installed. \")\n",
    "else:\n",
    "    print(\"Done.\")"
   ]
  },
  {
   "cell_type": "markdown",
   "id": "9c3dfe2a",
   "metadata": {},
   "source": [
    "The first time you run the above cell, you should see\n",
    "\n",
    "```\n",
    "Installing thresholdSelector...\n",
    "Installing SMOTE...\n",
    "Done.\n",
    "```\n",
    "\n",
    "The next time you run the cell, you should see\n",
    "\n",
    "```\n",
    "Skipping thresholdSelector, already installed. \n",
    "Skipping SMOTE, already installed. \n",
    "Done.\n",
    "```\n",
    "\n",
    "because the packages have already been installed."
   ]
  },
  {
   "cell_type": "markdown",
   "id": "a51a6dfe",
   "metadata": {},
   "source": [
    "By default, packages are installed under your home directory `~/wekafiles/packages/`:"
   ]
  },
  {
   "cell_type": "code",
   "execution_count": null,
   "id": "afeee87a",
   "metadata": {},
   "outputs": [],
   "source": [
    "!ls ~/wekafiles/packages"
   ]
  },
  {
   "cell_type": "markdown",
   "id": "43b7e317",
   "metadata": {},
   "source": [
    "````{note}\n",
    "\n",
    "For the packages to take effect, you must restart the kernel (`Kernel` -> `Restart`). Note that running `jvm.stop()` followed by `jvm.start(packages=True)` will not work because [`javabridge` currently does not support restarting a virtual machine](https://stackoverflow.com/questions/51795945/after-stopping-jvm-unable-to-start-it-again).\n",
    "\n",
    "````"
   ]
  },
  {
   "cell_type": "markdown",
   "id": "30f709c9",
   "metadata": {},
   "source": [
    "After restarting the kernel, check that the packages have been successfully installed using `complete_classname` imported by\n",
    "\n",
    "```python\n",
    "from weka.core.classes import complete_classname\n",
    "```"
   ]
  },
  {
   "cell_type": "code",
   "execution_count": null,
   "id": "33db0ff9",
   "metadata": {},
   "outputs": [],
   "source": [
    "print(complete_classname(\"ThresholdSelector\"))\n",
    "print(complete_classname(\"SMOTE\"))\n",
    "print(packages.installed_packages())"
   ]
  },
  {
   "cell_type": "markdown",
   "id": "b2a4d33e",
   "metadata": {},
   "source": [
    "We will use the same mammography dataset from\n",
    "[OpenML](https://www.openml.org/d/310) and J48 as the base classifier. The following loads the dataset into the notebook:"
   ]
  },
  {
   "cell_type": "code",
   "execution_count": null,
   "id": "a2e5ecfd",
   "metadata": {},
   "outputs": [],
   "source": [
    "loader = Loader(classname=\"weka.core.converters.ArffLoader\")\n",
    "data = loader.load_url(\"https://www.openml.org/data/download/52214/phpn1jVwe\")\n",
    "data.class_is_last()\n",
    "pos_class = 1\n",
    "clf = Classifier(classname=\"weka.classifiers.trees.J48\")"
   ]
  },
  {
   "cell_type": "markdown",
   "id": "75a0fc6a",
   "metadata": {},
   "source": [
    "## Threshold Selector"
   ]
  },
  {
   "cell_type": "markdown",
   "id": "039231a3",
   "metadata": {},
   "source": [
    "The meta classifier `ThresholdSelector` uses the threshold-moving technique to optimize a performance measure you specify, which can be the precision, recall, $F$-score, etc. See an explanation of the threshold moving technique [here](https://machinelearningmastery.com/threshold-moving-for-imbalanced-classification/)."
   ]
  },
  {
   "cell_type": "markdown",
   "id": "190450dc",
   "metadata": {},
   "source": [
    "The following shows how to maximize recall:"
   ]
  },
  {
   "cell_type": "code",
   "execution_count": null,
   "id": "909d688a",
   "metadata": {},
   "outputs": [],
   "source": [
    "tsc = SingleClassifierEnhancer(classname=\"weka.classifiers.meta.ThresholdSelector\")\n",
    "tsc.options = [\"-M\", \"RECALL\"]\n",
    "tsc.classifier = clf\n",
    "\n",
    "evl = Evaluation(data)\n",
    "evl.crossvalidate_model(tsc, data, 10, Random(1))\n",
    "\n",
    "print(f\"maximum recall: {evl.recall(pos_class):.3g}\")"
   ]
  },
  {
   "cell_type": "markdown",
   "id": "4abae504",
   "metadata": {},
   "source": [
    "The maximum recall is 100%, as expected by setting the threshold to 1."
   ]
  },
  {
   "cell_type": "markdown",
   "id": "9eeef1cc",
   "metadata": {},
   "source": [
    "::::{exercise}\n",
    ":label: ex:1\n",
    "Using J48 as the base classifier and 10-fold cross-validation, obtain the highest precision and F-score. Assign the values to `max_precision` and `max_f`, respectively. \n",
    "\n",
    "If you use `python-weka-wrapper`, be careful that resetting `tsc.options` may also reset the base classifier to the default one, which is not J48. To ensure that you are using J48, set the base classifier again after the options:\n",
    "```python\n",
    "tsc.options=['-M', ___]\n",
    "tsc.classifier = clf\n",
    "```\n",
    "::::"
   ]
  },
  {
   "cell_type": "code",
   "execution_count": null,
   "id": "5fa375be",
   "metadata": {
    "deletable": false,
    "nbgrader": {
     "cell_type": "code",
     "checksum": "63e67efe6221c78e7ed77500780b6760",
     "grade": false,
     "grade_id": "threshold-selector",
     "locked": false,
     "schema_version": 3,
     "solution": true,
     "task": false
    },
    "tags": [
     "remove-output"
    ]
   },
   "outputs": [],
   "source": [
    "# YOUR CODE HERE\n",
    "raise NotImplementedError()\n",
    "max_precision, max_f"
   ]
  },
  {
   "cell_type": "code",
   "execution_count": null,
   "id": "0f232875",
   "metadata": {
    "deletable": false,
    "editable": false,
    "nbgrader": {
     "cell_type": "code",
     "checksum": "f5ef0f1c5f63de4e1da583edb0f8cc30",
     "grade": true,
     "grade_id": "test-threshold-selector",
     "locked": true,
     "points": 1,
     "schema_version": 3,
     "solution": false,
     "task": false
    },
    "tags": [
     "remove-cell"
    ]
   },
   "outputs": [],
   "source": [
    "# hidden tests"
   ]
  },
  {
   "cell_type": "markdown",
   "id": "634d0f36",
   "metadata": {},
   "source": [
    "## Cost-sensitive Classifier"
   ]
  },
  {
   "cell_type": "markdown",
   "id": "29e049ba",
   "metadata": {},
   "source": [
    "::::{prf:definition}\n",
    "\n",
    "We can build a classifier to maximize certain cost defined as\n",
    "\n",
    "$$\n",
    "\\begin{align}\n",
    "\\TP\\cdot \\cost_\\TP\n",
    "+ \\FN\\cdot \\cost_\\FN\n",
    "+ \\FP\\cdot \\cost_\\FP \n",
    "+ \\TN\\cdot \\cost_\\TN.\n",
    "\\end{align}\n",
    "$$ (cost)\n",
    "\n",
    "given a cost matrix\n",
    "\n",
    "$$\n",
    "\\begin{align}\n",
    "\\begin{bmatrix} \\cost_\\TP & \\cost_\\FN\\\\ \\cost_\\FP & \\cost_\\TN\\end{bmatrix}.\n",
    "\\end{align}\n",
    "$$ (cost-matrix)\n",
    "\n",
    "::::"
   ]
  },
  {
   "cell_type": "markdown",
   "id": "d69dff54",
   "metadata": {},
   "source": [
    "Weka provides a convenient interface for cost/benefit analysis:\n",
    "\n",
    "- In the explorer interface, train J48 on the mammography dataset with 10-fold cross-validation.\n",
    "- Right-click on the result in the result list.\n",
    "- Choose Cost/Benefit analysis and 1 as the positive class value.\n",
    "- Specify the cost matrix.\n",
    "- Click `Minimize Cost/Benefit` to minimize the cost."
   ]
  },
  {
   "cell_type": "markdown",
   "id": "543178fa",
   "metadata": {},
   "source": [
    "::::{exercise}\n",
    ":label: ex:2\n",
    "Assign to `cost_matrix` the cost matrix that achieves the maximum precision. You can define the cost matrix as follows:\n",
    "```python\n",
    "cost_matrix = np.array([[__, __],\n",
    "                        [__, __]])\n",
    "```\n",
    "\n",
    ":::{hint}\n",
    ":class: dropdown\n",
    "Pay attention to the row and column labels of the confusion matrix. It changes after you specify $1$ as the positive class value.\n",
    ":::\n",
    "\n",
    "::::"
   ]
  },
  {
   "cell_type": "code",
   "execution_count": null,
   "id": "72651a44",
   "metadata": {
    "deletable": false,
    "nbgrader": {
     "cell_type": "code",
     "checksum": "659f186a279033a7ca2375d087d66c7c",
     "grade": false,
     "grade_id": "cost-matrix",
     "locked": false,
     "schema_version": 3,
     "solution": true,
     "task": false
    },
    "tags": [
     "remove-output"
    ]
   },
   "outputs": [],
   "source": [
    "# YOUR CODE HERE\n",
    "raise NotImplementedError()\n",
    "cost_matrix"
   ]
  },
  {
   "cell_type": "markdown",
   "id": "126474e5",
   "metadata": {},
   "source": [
    "The following test cell demonstrates how to train a meta classifier to minimize the cost defined using the cost matrix you provided."
   ]
  },
  {
   "cell_type": "code",
   "execution_count": null,
   "id": "bc5b74dc",
   "metadata": {
    "deletable": false,
    "editable": false,
    "nbgrader": {
     "cell_type": "code",
     "checksum": "8a272a08a63f0bbdf425d22b68e3e07e",
     "grade": true,
     "grade_id": "test-cost-matrix",
     "locked": true,
     "points": 1,
     "schema_version": 3,
     "solution": false,
     "task": false
    },
    "tags": [
     "remove-output"
    ]
   },
   "outputs": [],
   "source": [
    "# tests\n",
    "csc = SingleClassifierEnhancer(\n",
    "    classname=\"weka.classifiers.meta.CostSensitiveClassifier\",\n",
    "    options=[\n",
    "        \"-cost-matrix\",\n",
    "        \"[\"\n",
    "        + \" ; \".join(\n",
    "            \" \".join(str(entry) for entry in cost_matrix[:, i]) for i in range(2)\n",
    "        )\n",
    "        + \"]\",\n",
    "        \"-S\",\n",
    "        \"1\",\n",
    "    ],\n",
    ")\n",
    "csc.classifier = clf\n",
    "\n",
    "evl = Evaluation(data)\n",
    "evl.crossvalidate_model(csc, data, 10, Random(1))\n",
    "\n",
    "precision = evl.precision(pos_class)\n",
    "print(f\"maximum precision: {precision:.3g}\")"
   ]
  },
  {
   "cell_type": "code",
   "execution_count": null,
   "id": "7d9bc43f",
   "metadata": {
    "deletable": false,
    "editable": false,
    "nbgrader": {
     "cell_type": "code",
     "checksum": "92898140130de0979bb8855ca30e093e",
     "grade": true,
     "grade_id": "htest-cost-matrix",
     "locked": true,
     "points": 1,
     "schema_version": 3,
     "solution": false,
     "task": false
    },
    "tags": [
     "remove-cell"
    ]
   },
   "outputs": [],
   "source": [
    "# hidden tests"
   ]
  },
  {
   "cell_type": "markdown",
   "id": "5dd2e1e2",
   "metadata": {},
   "source": [
    "## SMOTE"
   ]
  },
  {
   "cell_type": "markdown",
   "id": "5e106721",
   "metadata": {},
   "source": [
    "Synthetic Minority Over-sampling TEchnique (SMOTE) is a filter that up-samples the minority class. Instead of duplicates of the same instance, it creates new samples as convex combinations of existing ones. See a more detailed explanation of SMOTE [here](http://rikunert.com/SMOTE_explained)."
   ]
  },
  {
   "cell_type": "markdown",
   "id": "c2aa6166",
   "metadata": {},
   "source": [
    "::::{exercise}\n",
    ":label: ex:3\n",
    "Using the FilteredClassifier with J48 as the classifier and SMOTE as the filter, try to tweak the setting of SMOTE to give the highest possible value of $F$ score larger than the maximum one achieved by `ThresholdSelector`. Assign to `smote.options` your choice of filter. E.g., you can change the percentage of SMOTE instances to 150% as follows:\n",
    "```python\n",
    "smote.options = ['-P', '150']\n",
    "```\n",
    "::::"
   ]
  },
  {
   "cell_type": "code",
   "execution_count": null,
   "id": "d9f9e03a",
   "metadata": {
    "deletable": false,
    "nbgrader": {
     "cell_type": "code",
     "checksum": "92444009e8313591407fd25f209e0ba1",
     "grade": false,
     "grade_id": "smote",
     "locked": false,
     "schema_version": 3,
     "solution": true,
     "task": false
    },
    "tags": [
     "remove-output"
    ]
   },
   "outputs": [],
   "source": [
    "smote = Filter(classname=\"weka.filters.supervised.instance.SMOTE\")\n",
    "print(\"Default smote.options:\", smote.options)\n",
    "# YOUR CODE HERE\n",
    "raise NotImplementedError()\n",
    "print(\"Your smote.options:\", smote.options)"
   ]
  },
  {
   "cell_type": "code",
   "execution_count": null,
   "id": "f61095fb",
   "metadata": {
    "deletable": false,
    "editable": false,
    "nbgrader": {
     "cell_type": "code",
     "checksum": "1d0ba07d5a2e0d1b1ca2ead66a10c5db",
     "grade": true,
     "grade_id": "test-smote",
     "locked": true,
     "points": 1,
     "schema_version": 3,
     "solution": false,
     "task": false
    },
    "tags": [
     "remove-output"
    ]
   },
   "outputs": [],
   "source": [
    "# tests\n",
    "fc = FilteredClassifier()\n",
    "fc.filter = smote\n",
    "fc.classifier = clf\n",
    "\n",
    "evl = Evaluation(data)\n",
    "evl.crossvalidate_model(fc, data, 10, Random(1))\n",
    "\n",
    "f_score = evl.f_measure(pos_class)\n",
    "print(f\"F-score by SMOTE: {f_score:.3g}\")"
   ]
  },
  {
   "cell_type": "code",
   "execution_count": null,
   "id": "ac8a5bbb",
   "metadata": {
    "deletable": false,
    "editable": false,
    "nbgrader": {
     "cell_type": "code",
     "checksum": "10c5d08854b22e25fe5c545d6778b227",
     "grade": true,
     "grade_id": "htest-smote",
     "locked": true,
     "points": 1,
     "schema_version": 3,
     "solution": false,
     "task": false
    },
    "tags": [
     "remove-cell"
    ]
   },
   "outputs": [],
   "source": [
    "# hidden tests"
   ]
  }
 ],
 "metadata": {
  "kernelspec": {
   "display_name": "weka",
   "language": "python",
   "name": "weka"
  }
 },
 "nbformat": 4,
 "nbformat_minor": 5
}
