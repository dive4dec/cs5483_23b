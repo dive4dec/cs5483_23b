{
 "cells": [
  {
   "cell_type": "markdown",
   "id": "2a4be3ac",
   "metadata": {
    "slideshow": {
     "slide_type": "slide"
    }
   },
   "source": [
    "---\n",
    "title: Evaluation for Skewed Dataset\n",
    "math: \n",
    "    '\\abs': '\\left\\lvert #1 \\right\\rvert' \n",
    "    '\\norm': '\\left\\lvert #1 \\right\\rvert' \n",
    "    '\\Set': '\\left\\{ #1 \\right\\}'\n",
    "    '\\mc': '\\mathcal{#1}'\n",
    "    '\\M': '\\boldsymbol{#1}'\n",
    "    '\\R': '\\mathsf{#1}'\n",
    "    '\\RM': '\\boldsymbol{\\mathsf{#1}}'\n",
    "    '\\op': '\\operatorname{#1}'\n",
    "    '\\E': '\\op{E}'\n",
    "    '\\d': '\\mathrm{\\mathstrut d}'\n",
    "    '\\precision': '\\text{precision}'\n",
    "    '\\recall': '\\text{recall}'\n",
    "    '\\specificity': '\\text{specificity}'\n",
    "    '\\TP': '\\text{TP}'\n",
    "    '\\FP': '\\text{FP}'\n",
    "    '\\FN': '\\text{FN}'\n",
    "    '\\TN': '\\text{TN}'\n",
    "    '\\cost': '\\text{cost}'    \n",
    "---"
   ]
  },
  {
   "cell_type": "markdown",
   "id": "4c9cc967",
   "metadata": {
    "slideshow": {
     "slide_type": "-"
    },
    "tags": [
     "remove-cell"
    ]
   },
   "source": [
    "**CS5483 Data Warehousing and Data Mining**\n",
    "___"
   ]
  },
  {
   "cell_type": "code",
   "execution_count": null,
   "id": "33a19955",
   "metadata": {
    "init_cell": true,
    "slideshow": {
     "slide_type": "subslide"
    },
    "tags": [
     "remove-output"
    ]
   },
   "outputs": [],
   "source": [
    "import logging\n",
    "\n",
    "import numpy as np\n",
    "import pandas as pd\n",
    "import weka.core.jvm as jvm\n",
    "import weka.plot.classifiers as plcls\n",
    "from weka.classifiers import Classifier, Evaluation\n",
    "from weka.core.classes import Random\n",
    "from weka.core.converters import Loader\n",
    "\n",
    "%matplotlib widget\n",
    "jvm.start(logging_level=logging.ERROR)"
   ]
  },
  {
   "cell_type": "markdown",
   "id": "8ff41401",
   "metadata": {},
   "source": [
    "## Class imbalance problem"
   ]
  },
  {
   "cell_type": "markdown",
   "id": "2d017371",
   "metadata": {},
   "source": [
    "In this notebook, we will analyze a skewed dataset for detecting microcalcifications in mammograms. The goal is to build a classifier to identify whether a bright spot in a mammogram is a micro-calcification (an early sign of breast cancer)."
   ]
  },
  {
   "cell_type": "markdown",
   "id": "01c3df77",
   "metadata": {},
   "source": [
    "::::{figure} https://upload.wikimedia.org/wikipedia/commons/e/e7/Mammo_breast_cancer_wArrows.jpg\n",
    ":name: fig:micro-calcification\n",
    ":alt: Mammo breast cancer\n",
    ":align: left\n",
    "Micro-calcification\n",
    "::::"
   ]
  },
  {
   "cell_type": "markdown",
   "id": "48b22b29",
   "metadata": {},
   "source": [
    "The dataset can be downloaded from\n",
    "[OpenML](https://www.openml.org/d/310) in [ARFF format](https://www.openml.org/data/download/52214/phpn1jVwe). The following loads the data using `python-weka-wrapper`."
   ]
  },
  {
   "cell_type": "code",
   "execution_count": null,
   "id": "591d197d",
   "metadata": {},
   "outputs": [],
   "source": [
    "loader = Loader(classname=\"weka.core.converters.ArffLoader\")\n",
    "data = loader.load_url(\"https://www.openml.org/data/download/52214/phpn1jVwe\")\n",
    "data.class_is_last()\n",
    "print(data.summary(data))"
   ]
  },
  {
   "cell_type": "markdown",
   "id": "4542c3a7",
   "metadata": {},
   "source": [
    "There are 7 attributes and over 11 thousand instances. To understand the dataset, refer to Section 4 of the original paper [(Woods et al. 1993)](https://doi.org/10.1142/9789812797834_0011):"
   ]
  },
  {
   "cell_type": "markdown",
   "id": "2731a79b",
   "metadata": {},
   "source": [
    "::::{note}\n",
    "\n",
    "A set of 24 mammograms were segmented to locate small bright spots, which are the candidates for the classification of malignant clusters of micro-calcifications. The classification problem is based on the following attributes of the image segments:\n",
    "\n",
    "- Area (number of pixels)\n",
    "- Average grey level\n",
    "- Gradient strength (of perimeter pixels)\n",
    "- Root mean square noise (fluctuation of the pixel values)\n",
    "- Root mean square noise of local background\n",
    "- Contrast (average grey level minus average of a 2-pixel wide border)\n",
    "- (Low order moment-based) Shape descriptor\n",
    "\n",
    "::::"
   ]
  },
  {
   "cell_type": "markdown",
   "id": "c77369a4",
   "metadata": {},
   "source": [
    "To compute the 10-fold cross-validation accuracy for `J48`:"
   ]
  },
  {
   "cell_type": "code",
   "execution_count": null,
   "id": "343d3910",
   "metadata": {},
   "outputs": [],
   "source": [
    "clf = Classifier(classname=\"weka.classifiers.trees.J48\")\n",
    "evl = Evaluation(data)\n",
    "evl.crossvalidate_model(clf, data, 10, Random(1))\n",
    "\n",
    "print(f\"Accuracy: {evl.percent_correct:.3g}%\")"
   ]
  },
  {
   "cell_type": "markdown",
   "id": "bfe99cd3",
   "metadata": {},
   "source": [
    "You should see that the accuracy is close to 100%. To show the confusion matrix:"
   ]
  },
  {
   "cell_type": "code",
   "execution_count": null,
   "id": "6af1cfc9",
   "metadata": {},
   "outputs": [],
   "source": [
    "confusion_matrix = pd.DataFrame(\n",
    "    evl.confusion_matrix,\n",
    "    dtype=int,\n",
    "    columns=[f'predicted class \"{v}\"' for v in data.class_attribute.values],\n",
    "    index=[f'class \"{v}\"' for v in data.class_attribute.values],\n",
    ")\n",
    "confusion_matrix"
   ]
  },
  {
   "cell_type": "markdown",
   "id": "96e1dccb",
   "metadata": {},
   "source": [
    "Each row of the confusion matrix corresponds to a class value (1: malignant, -1: benign), and each column corresponds to a predicted class. Each entry is a count of instances belonging to a specific class and having a particular predicted class."
   ]
  },
  {
   "cell_type": "markdown",
   "id": "188949ea",
   "metadata": {},
   "source": [
    "::::{exercise}\n",
    ":label: ex:1\n",
    "Assign to `percent_of_malignant_detected` the percentage of instances of class 1 predicted as class 1:\n",
    "::::"
   ]
  },
  {
   "cell_type": "code",
   "execution_count": null,
   "id": "708892c1",
   "metadata": {
    "deletable": false,
    "nbgrader": {
     "cell_type": "code",
     "checksum": "86f5ce43d10fda17840b45569c7e8ad4",
     "grade": false,
     "grade_id": "malignant-detected",
     "locked": false,
     "schema_version": 3,
     "solution": true,
     "task": false
    }
   },
   "outputs": [],
   "source": [
    "# YOUR CODE HERE\n",
    "raise NotImplementedError()\n",
    "print(f\"Percentage of malignant detected: {percent_of_malignant_detected:.3g}%\")"
   ]
  },
  {
   "cell_type": "code",
   "execution_count": null,
   "id": "e2b4cb77",
   "metadata": {
    "deletable": false,
    "editable": false,
    "nbgrader": {
     "cell_type": "code",
     "checksum": "a13f239583b0d82df4093221c23d1d3b",
     "grade": true,
     "grade_id": "test-malignant-detected",
     "locked": true,
     "points": 1,
     "schema_version": 3,
     "solution": false,
     "task": false
    }
   },
   "outputs": [],
   "source": [
    "# tests"
   ]
  },
  {
   "cell_type": "markdown",
   "id": "71032e00",
   "metadata": {},
   "source": [
    "## Different Performance Metrics"
   ]
  },
  {
   "cell_type": "markdown",
   "id": "fc329c1b",
   "metadata": {},
   "source": [
    "For a skewed dataset, one can achieve very high accuracy even by `ZeroR`, i.e., also predicting the class as the majority class regardless of the values of the input features. \n",
    "We must use other performance metrics to train and evaluate a classification algorithm properly."
   ]
  },
  {
   "cell_type": "markdown",
   "id": "030b0bc7",
   "metadata": {},
   "source": [
    "::::{prf:definition}\n",
    "\n",
    "These metrics can be computed from the numbers of true/false positives/negatives:\n",
    "\n",
    "$$\n",
    "\\begin{align}\n",
    "\\precision &= \\frac{\\TP}{\\TP + \\FP}\\\\ \n",
    "\\recall &= \\frac{\\TP}{\\TP + \\FN}\\\\ \n",
    "\\specificity &= \\frac{\\TN}{\\TN + \\FP}\n",
    "\\end{align}\n",
    "$$\n",
    "\n",
    "::::"
   ]
  },
  {
   "cell_type": "markdown",
   "id": "9a64238f",
   "metadata": {},
   "source": [
    "To show the above metrics:"
   ]
  },
  {
   "cell_type": "code",
   "execution_count": null,
   "id": "aa823113",
   "metadata": {},
   "outputs": [],
   "source": [
    "pos_class = 1  # specify the postive class value\n",
    "performance = {\n",
    "    \"precision\": evl.precision(pos_class),\n",
    "    \"recall\": evl.recall(pos_class),\n",
    "    \"specificity\": evl.true_negative_rate(pos_class),\n",
    "}\n",
    "performance"
   ]
  },
  {
   "cell_type": "markdown",
   "id": "7494432f",
   "metadata": {},
   "source": [
    "Although specificity is close to 100%, precision and recall are below 80% and 60% respectively:\n",
    "\n",
    "- If a bright spot is classified as malignant, the chance it is malignant is less than 80%.\n",
    "- Out of all malignant bright spots, less than 60% are identified as malignant."
   ]
  },
  {
   "cell_type": "markdown",
   "id": "7dc75776",
   "metadata": {},
   "source": [
    "The reason why close to 100% benign bright spots are identified as benign \n",
    "\n",
    "- is mainly because most bright spots are benign, but\n",
    "- not because the classifier can distinguish malignant bright spots from benign ones."
   ]
  },
  {
   "cell_type": "code",
   "execution_count": null,
   "id": "a2ceb60c",
   "metadata": {},
   "outputs": [],
   "source": [
    "TP = evl.num_true_positives(pos_class)\n",
    "FN = evl.num_false_negatives(pos_class)\n",
    "FP = evl.num_false_positives(pos_class)\n",
    "TN = evl.num_true_negatives(pos_class)\n",
    "\n",
    "assert np.isclose(performance[\"precision\"], TP / (TP + FP))\n",
    "assert np.isclose(performance[\"recall\"], TP / (TP + FN))\n",
    "assert np.isclose(performance[\"specificity\"], TN / (TN + FP))\n",
    "\n",
    "TFPN = pd.DataFrame(\n",
    "    [[TP, FN], [FP, TP]],\n",
    "    dtype=int,\n",
    "    columns=[\"predicted +ve\", \"predicted -ve\"],\n",
    "    index=[\"+ve\", \"-ve\"],\n",
    ")\n",
    "TFPN"
   ]
  },
  {
   "cell_type": "markdown",
   "id": "243008ec",
   "metadata": {},
   "source": [
    "The above table is not the same as a confusion matrix since a confusion matrix\n",
    "\n",
    "- does not specify a positive class, and\n",
    "- can have more than two rows/columns in multi-class classification problems."
   ]
  },
  {
   "cell_type": "markdown",
   "id": "8f42bf3d",
   "metadata": {},
   "source": [
    "::::{exercise}\n",
    ":label: ex:2\n",
    "Modify `performance` to include the negative predictive value. You can add the value using\n",
    "```python\n",
    "performance['NPV'] = ...\n",
    "```\n",
    "::::"
   ]
  },
  {
   "cell_type": "code",
   "execution_count": null,
   "id": "361ea4dc",
   "metadata": {
    "deletable": false,
    "nbgrader": {
     "cell_type": "code",
     "checksum": "f556539449a0198d9c0d5fb4cb9d120d",
     "grade": false,
     "grade_id": "npv",
     "locked": false,
     "schema_version": 3,
     "solution": true,
     "task": false
    },
    "tags": [
     "remove-output"
    ]
   },
   "outputs": [],
   "source": [
    "# YOUR CODE HERE\n",
    "raise NotImplementedError()\n",
    "print(f\"negative predictive value (NPV): {performance['NPV']:.3g}\")"
   ]
  },
  {
   "cell_type": "code",
   "execution_count": null,
   "id": "229d5da1",
   "metadata": {
    "deletable": false,
    "editable": false,
    "nbgrader": {
     "cell_type": "code",
     "checksum": "004fbec5b7b56fa027cba7caf9ca868e",
     "grade": true,
     "grade_id": "test-npv",
     "locked": true,
     "points": 1,
     "schema_version": 3,
     "solution": false,
     "task": false
    },
    "tags": [
     "remove-output",
     "hide-input"
    ]
   },
   "outputs": [],
   "source": [
    "# tests"
   ]
  },
  {
   "cell_type": "markdown",
   "id": "936e6b6f",
   "metadata": {},
   "source": [
    "$F_{\\beta}$-score is another measure that captures the performance in both precision and recall:"
   ]
  },
  {
   "cell_type": "markdown",
   "id": "a931ed91",
   "metadata": {},
   "source": [
    "::::{prf:definition}\n",
    "\n",
    "$F_{\\beta}$-score is defined as\n",
    "\n",
    "$$\n",
    "\\begin{align}\n",
    "F_{\\beta} &:= \\left( \\frac{\\precision^{-1} + \\beta^2 \\cdot \\recall^{-1}}{\\beta^2 + 1}\\right)^{-1}\\\\\n",
    "&= \\frac{(\\beta^2+1)\\cdot \\precision\\cdot \\recall }{\\beta^2\\precision + \\recall}.\n",
    "\\end{align}\n",
    "$$ (F_beta)\n",
    "\n",
    "$F$-score is the special case when $\\beta=1$,\n",
    "\n",
    "$$\n",
    "\\begin{align}\n",
    "F := F_1 &= \\left( \\frac{\\precision^{-1} + \\recall^{-1}}{2}\\right)^{-1} \\\\\n",
    "&= \\frac{2\\cdot \\precision\\cdot \\recall }{\\precision + \\recall},\n",
    "\\end{align}\n",
    "$$ (F)\n",
    "\n",
    "which is the harmonic mean of precision and recall. \n",
    "\n",
    "::::"
   ]
  },
  {
   "cell_type": "markdown",
   "id": "96fbbdff",
   "metadata": {},
   "source": [
    "$F$-score is useful in training a classifier to maximize both precision and recall."
   ]
  },
  {
   "cell_type": "code",
   "execution_count": null,
   "id": "71d59098",
   "metadata": {},
   "outputs": [],
   "source": [
    "performance[\"F\"] = evl.f_measure(pos_class)\n",
    "print(f\"F-score: {performance['F']:.3g}\")"
   ]
  },
  {
   "cell_type": "markdown",
   "id": "170d561a",
   "metadata": {},
   "source": [
    "::::{exercise}\n",
    ":label: ex:3\n",
    "For the $F_{\\beta}$ score, we can increase $\\beta$ to put more weight on recall. Modify `performance` to include the $F_2$ score. You can set the value using\n",
    "\n",
    "```python\n",
    "performance['F_2'] = ...\n",
    "```\n",
    "::::"
   ]
  },
  {
   "cell_type": "code",
   "execution_count": null,
   "id": "8c607497",
   "metadata": {
    "deletable": false,
    "nbgrader": {
     "cell_type": "code",
     "checksum": "0dbd8f3cb88ac0458b6ea5b5268931b4",
     "grade": false,
     "grade_id": "F2",
     "locked": false,
     "schema_version": 3,
     "solution": true,
     "task": false
    },
    "tags": [
     "remove-output"
    ]
   },
   "outputs": [],
   "source": [
    "# YOUR CODE HERE\n",
    "raise NotImplementedError()\n",
    "print(f\"F_2 score: {performance['F_2']:.3g}\")"
   ]
  },
  {
   "cell_type": "code",
   "execution_count": null,
   "id": "a4b6df78",
   "metadata": {
    "deletable": false,
    "editable": false,
    "nbgrader": {
     "cell_type": "code",
     "checksum": "1c6847f2a0603d797cd9c588ed7f1072",
     "grade": true,
     "grade_id": "test-F2",
     "locked": true,
     "points": 1,
     "schema_version": 3,
     "solution": false,
     "task": false
    },
    "tags": [
     "remove-cell"
    ]
   },
   "outputs": [],
   "source": [
    "# tests"
   ]
  },
  {
   "cell_type": "markdown",
   "id": "908d766a",
   "metadata": {},
   "source": [
    "::::{exercise}\n",
    ":label: ex:4\n",
    "Using `ZeroR` as the classifier, assign to `ZeroR_performance` a dictionary of precision, recall, and specificity. You can create the dictionary as follows:\n",
    "```python\n",
    "ZeroR_performance = {\n",
    "    'precision': ___,\n",
    "    'recall': ___,\n",
    "    'specificity': ___\n",
    "}\n",
    "```\n",
    "\n",
    "Use 10-fold cross-validation with a random seed of `1`. If the value is not a number, you may enter it as `np.nan`.\n",
    "\n",
    "::::"
   ]
  },
  {
   "cell_type": "code",
   "execution_count": null,
   "id": "c3e4b2ec",
   "metadata": {
    "deletable": false,
    "nbgrader": {
     "cell_type": "code",
     "checksum": "2cac668dce68910c4078ad7c272bb4f0",
     "grade": false,
     "grade_id": "ZeroR",
     "locked": false,
     "schema_version": 3,
     "solution": true,
     "task": false
    },
    "tags": [
     "remove-output"
    ]
   },
   "outputs": [],
   "source": [
    "# YOUR CODE HERE\n",
    "raise NotImplementedError()\n",
    "ZeroR_performance"
   ]
  },
  {
   "cell_type": "code",
   "execution_count": null,
   "id": "e23aed7f",
   "metadata": {
    "deletable": false,
    "editable": false,
    "nbgrader": {
     "cell_type": "code",
     "checksum": "94c5b6b5782353a6dd4606dc02f2a86f",
     "grade": true,
     "grade_id": "test-ZeroR",
     "locked": true,
     "points": 1,
     "schema_version": 3,
     "solution": false,
     "task": false
    },
    "tags": [
     "remove-cell"
    ]
   },
   "outputs": [],
   "source": [
    "# hidden tests"
   ]
  },
  {
   "cell_type": "markdown",
   "id": "3228006b",
   "metadata": {},
   "source": [
    "::::{exercise}\n",
    ":label: ex:5\n",
    "Is ZeroR a good baseline classifier?\n",
    "\n",
    ":::{hint}\n",
    ":class: dropdown\n",
    "\n",
    "Is the accuracy misleading? Can a random decision maker do better than zeroR?\n",
    "\n",
    ":::\n",
    "\n",
    "::::"
   ]
  },
  {
   "cell_type": "markdown",
   "id": "3f3b589e",
   "metadata": {
    "deletable": false,
    "nbgrader": {
     "cell_type": "markdown",
     "checksum": "4098962965ff36e2070f1b192c0f55a1",
     "grade": true,
     "grade_id": "baseline",
     "locked": false,
     "points": 1,
     "schema_version": 3,
     "solution": true,
     "task": false
    }
   },
   "source": [
    "YOUR ANSWER HERE"
   ]
  },
  {
   "cell_type": "markdown",
   "id": "8bf4fd65",
   "metadata": {},
   "source": [
    "## Operating Curves for Probabilistic Classifier"
   ]
  },
  {
   "cell_type": "markdown",
   "id": "dde2e5cf",
   "metadata": {},
   "source": [
    "For a probabilistic classifier that returns probabilities of different classes, we can obtain a trade-off between precision and recall by changing a threshold $\\gamma$ for positive prediction, i.e., predict positive if and only if the probability estimate for positive class is larger than $\\gamma$."
   ]
  },
  {
   "cell_type": "markdown",
   "id": "b002e7c4",
   "metadata": {},
   "source": [
    "To plot the [precision-recall curve](https://waikato.github.io/weka-wiki/roc_curves/) and prints the area under the curve, we can use the following tool:"
   ]
  },
  {
   "cell_type": "markdown",
   "id": "f5756869",
   "metadata": {},
   "source": [
    "```python\n",
    "import weka.plot.classifiers as plcls\n",
    "```"
   ]
  },
  {
   "cell_type": "code",
   "execution_count": null,
   "id": "8a660ba3",
   "metadata": {},
   "outputs": [],
   "source": [
    "plcls.plot_prc(evl, class_index=[1])\n",
    "performance[\"PRC\"] = evl.area_under_prc(pos_class)\n",
    "print(f\"area under precision-recall curve (PRC): {performance['PRC']:.3g}\")"
   ]
  },
  {
   "cell_type": "markdown",
   "id": "21a8081d",
   "metadata": {},
   "source": [
    "::::{exercise}\n",
    ":label: ex:6\n",
    "One can operate the classifier at any point on the curve by an appropriate choice of $\\gamma$. Is it a good idea to operate at the initial part of the curve where the slope is strictly positive?\n",
    "::::"
   ]
  },
  {
   "cell_type": "markdown",
   "id": "4c9c48eb",
   "metadata": {
    "deletable": false,
    "nbgrader": {
     "cell_type": "markdown",
     "checksum": "1121e1e3d949136048751933292e0b19",
     "grade": true,
     "grade_id": "PRC",
     "locked": false,
     "points": 1,
     "schema_version": 3,
     "solution": true,
     "task": false
    }
   },
   "source": [
    "YOUR ANSWER HERE"
   ]
  },
  {
   "cell_type": "markdown",
   "id": "4ac5a6a4",
   "metadata": {},
   "source": [
    "::::{exercise}\n",
    ":label: ex:7\n",
    "The above curve shows that the classifier can achieve 100% recall but not 100% precision. If you can choose any classifier, is it always possible to achieve 100% recall for any given data set? How about 100% precision?\n",
    "::::"
   ]
  },
  {
   "cell_type": "markdown",
   "id": "eda4a45b",
   "metadata": {
    "deletable": false,
    "nbgrader": {
     "cell_type": "markdown",
     "checksum": "769f0f9cf0c70700047f4aad9b1c080f",
     "grade": true,
     "grade_id": "perfect-recall",
     "locked": false,
     "points": 1,
     "schema_version": 3,
     "solution": true,
     "task": false
    }
   },
   "source": [
    "YOUR ANSWER HERE"
   ]
  },
  {
   "cell_type": "markdown",
   "id": "745151c7",
   "metadata": {},
   "source": [
    "We can also plot the ROC (receiver operator characteristics) curve to show the trade-off between recall (true positive rate) and false positive rate:"
   ]
  },
  {
   "cell_type": "code",
   "execution_count": null,
   "id": "9c29bd17",
   "metadata": {},
   "outputs": [],
   "source": [
    "plcls.plot_roc(evl, class_index=[1])\n",
    "performance[\"AUC\"] = evl.area_under_roc(pos_class)\n",
    "print(f\"area under ROC curve (AUC): {performance['AUC']:.3g}\")"
   ]
  },
  {
   "cell_type": "markdown",
   "id": "9a2c7500",
   "metadata": {},
   "source": [
    "::::{exercise}\n",
    ":label: ex:8\n",
    "The above curve shows that the classifier can achieve 0% false positive rate. If you can choose the classifier, is it always possible to achieve 0% false positive rate for any given dataset?\n",
    "::::"
   ]
  },
  {
   "cell_type": "markdown",
   "id": "84bc0e9a",
   "metadata": {
    "deletable": false,
    "nbgrader": {
     "cell_type": "markdown",
     "checksum": "198e1b2272cf95a2266274391282faed",
     "grade": true,
     "grade_id": "zero-false-positive",
     "locked": false,
     "points": 1,
     "schema_version": 3,
     "solution": true,
     "task": false
    }
   },
   "source": [
    "YOUR ANSWER HERE"
   ]
  }
 ],
 "metadata": {
  "kernelspec": {
   "display_name": "weka",
   "language": "python",
   "name": "weka"
  }
 },
 "nbformat": 4,
 "nbformat_minor": 5
}
