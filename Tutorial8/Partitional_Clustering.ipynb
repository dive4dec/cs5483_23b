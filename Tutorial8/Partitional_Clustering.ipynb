{
 "cells": [
  {
   "cell_type": "markdown",
   "id": "3fa10165",
   "metadata": {},
   "source": [
    "# Partitional Clustering"
   ]
  },
  {
   "cell_type": "markdown",
   "id": "1f3661fa",
   "metadata": {
    "tags": [
     "remove-cell"
    ]
   },
   "source": [
    "**CS5483 Data Warehousing and Data Mining**\n",
    " ___"
   ]
  },
  {
   "cell_type": "code",
   "execution_count": null,
   "id": "6f3ee25f",
   "metadata": {
    "init_cell": true,
    "slideshow": {
     "slide_type": "-"
    }
   },
   "outputs": [],
   "source": [
    "import ipywidgets as widgets\n",
    "import matplotlib.pyplot as plt\n",
    "import numpy as np\n",
    "import pandas as pd\n",
    "from ipywidgets import interact\n",
    "from sklearn import datasets, preprocessing\n",
    "from sklearn.cluster import KMeans\n",
    "from sklearn.pipeline import make_pipeline\n",
    "from util import plot_cluster_regions\n",
    "\n",
    "%matplotlib widget"
   ]
  },
  {
   "cell_type": "markdown",
   "id": "4663de25",
   "metadata": {},
   "source": [
    "Recall that the classification problem for the iris dataset is to classify the iris species based on the lengths and widths of the petals and sepals. In this notebook, we will cluster the instances in the iris dataset with the class attribute removed. The purpose is to evaluate whether a partitional clustering algorithm can identify the 3 different iris species without looking at the class attribute."
   ]
  },
  {
   "cell_type": "markdown",
   "id": "76042acf",
   "metadata": {},
   "source": [
    "::::{caution}\n",
    "If the objective were to classify the iris dataset, removing the class attribute is not a good idea since it gives valuable information about the relationship between the input features and the target.\n",
    "::::"
   ]
  },
  {
   "cell_type": "markdown",
   "id": "fa3fd805",
   "metadata": {},
   "source": [
    "## Clustering using Weka"
   ]
  },
  {
   "cell_type": "markdown",
   "id": "1d360651",
   "metadata": {},
   "source": [
    "The Explorer interface has a `Cluster` panel for clustering. Follow the procedures below to cluster the `iris.2D` dataset:\n",
    "\n",
    "1. Using the `Preprocess` panel, load `iris.2D.arff` from the Weka data folder.\n",
    "1. Using the `Cluster` panel, choose the `Clusterer` as `SimpleKMeans`, which implements the $k$-means clustering algorithm.\n",
    "1. The default number of clusters is \\(k=2\\). Change it to \\(k=3\\) instead, i.e., set `numClusters` to 3.\n",
    "1. Click the `ignore attributes` button below `Cluster mode` and select `class`.\n",
    "1. Click `Start` to run the clustering algorithm.\n",
    "\n",
    "```{seealso}\n",
    "Alternatively, you may create a separate notebook with Weka kernel to use the [python-weka-wrapper](https://github.com/fracpete/python-weka-wrapper-examples/blob/master/src/wekaexamples/clusterers/clusterers.py) to obtain the answer. However, do NOT change the kernel of the current notebook as it should be autograded by the default kernel.\n",
    "```"
   ]
  },
  {
   "cell_type": "markdown",
   "id": "ea715142",
   "metadata": {},
   "source": [
    "::::{exercise}\n",
    ":label: ex:1\n",
    "Assign to `wss` the within-cluster sum of squared (WSS) errors.\n",
    "::::"
   ]
  },
  {
   "cell_type": "code",
   "execution_count": null,
   "id": "b3edd351",
   "metadata": {
    "deletable": false,
    "nbgrader": {
     "cell_type": "code",
     "checksum": "10162ca466fe227af22cb874f7e44ac6",
     "grade": false,
     "grade_id": "wss",
     "locked": false,
     "schema_version": 3,
     "solution": true,
     "task": false
    },
    "tags": [
     "remove-output",
     "hide-input"
    ]
   },
   "outputs": [],
   "source": [
    "# YOUR CODE HERE\n",
    "raise NotImplementedError()\n",
    "wss"
   ]
  },
  {
   "cell_type": "code",
   "execution_count": null,
   "id": "709880f6",
   "metadata": {
    "deletable": false,
    "editable": false,
    "nbgrader": {
     "cell_type": "code",
     "checksum": "860583870111a31874df199382d42904",
     "grade": true,
     "grade_id": "test-wss",
     "locked": true,
     "points": 1,
     "schema_version": 3,
     "solution": false,
     "task": false
    },
    "tags": [
     "remove-cell"
    ]
   },
   "outputs": [],
   "source": [
    "# hidden tests"
   ]
  },
  {
   "cell_type": "markdown",
   "id": "f2133fba",
   "metadata": {},
   "source": [
    "::::{exercise}\n",
    ":label: ex:2\n",
    "Complete the DataFrame `df_centroids` to store the cluster centers.\n",
    "::::"
   ]
  },
  {
   "cell_type": "code",
   "execution_count": null,
   "id": "5f828d87",
   "metadata": {
    "deletable": false,
    "nbgrader": {
     "cell_type": "code",
     "checksum": "df3e66f6c9f3f392b6cb842b6052a881",
     "grade": false,
     "grade_id": "df_centroids",
     "locked": false,
     "schema_version": 3,
     "solution": true,
     "task": false
    },
    "tags": [
     "remove-output",
     "hide-input"
    ]
   },
   "outputs": [],
   "source": [
    "df_centroids = pd.DataFrame(columns=[\"petallength\", \"petalwidth\"], dtype=float)\n",
    "# YOUR CODE HERE\n",
    "raise NotImplementedError()\n",
    "df_centroids"
   ]
  },
  {
   "cell_type": "code",
   "execution_count": null,
   "id": "d574463f",
   "metadata": {
    "deletable": false,
    "editable": false,
    "nbgrader": {
     "cell_type": "code",
     "checksum": "b23fe595b5d773866f5abc09625a8810",
     "grade": true,
     "grade_id": "test-df_centroids",
     "locked": true,
     "points": 1,
     "schema_version": 3,
     "solution": false,
     "task": false
    },
    "tags": [
     "remove-cell"
    ]
   },
   "outputs": [],
   "source": [
    "# hidden tests"
   ]
  },
  {
   "cell_type": "markdown",
   "id": "d6c189ed",
   "metadata": {},
   "source": [
    "::::{exercise}\n",
    ":label: ex:3\n",
    "Right click your result and click `visualize cluster assignments`. (If the item is disabled, check the `Store clusters for visualization` option and rerun the clustering.) Does the $k$-means algorithm appear to return the globally optimal solution that minimizes WSS? Can $k$-means algorithm identify the three types of iris?\n",
    "::::"
   ]
  },
  {
   "cell_type": "markdown",
   "id": "98167463",
   "metadata": {
    "deletable": false,
    "nbgrader": {
     "cell_type": "markdown",
     "checksum": "a36910de4e4e1b8e5dcf2123ced9b529",
     "grade": true,
     "grade_id": "kmeans-correctness",
     "locked": false,
     "points": 1,
     "schema_version": 3,
     "solution": true,
     "task": false
    }
   },
   "source": [
    "YOUR ANSWER HERE"
   ]
  },
  {
   "cell_type": "markdown",
   "id": "7984faa0",
   "metadata": {},
   "source": [
    "::::{exercise}\n",
    ":label: ex:4\n",
    "Rerun the same clustering algorithm without ignoring the class attribute. To do so, click the `Ignore attributes` button and then the `Cancel` button. Does WSS increase? Why or why not?\n",
    "::::"
   ]
  },
  {
   "cell_type": "markdown",
   "id": "f763e27f",
   "metadata": {
    "deletable": false,
    "nbgrader": {
     "cell_type": "markdown",
     "checksum": "2567936184a765462f098b695d306a0f",
     "grade": true,
     "grade_id": "class-included",
     "locked": false,
     "points": 1,
     "schema_version": 3,
     "solution": true,
     "task": false
    }
   },
   "source": [
    "YOUR ANSWER HERE"
   ]
  },
  {
   "cell_type": "markdown",
   "id": "5b653783",
   "metadata": {},
   "source": [
    "::::{exercise}\n",
    ":label: ex:5\n",
    "Select `Classes to clusters evaluation` as the `cluster mode` instead. Assign to `error_rate` the fraction (NOT percentage) of incorrectly clustered instances.\n",
    "\n",
    "For `python-weka-wrapper`, see an example [here](https://github.com/fracpete/python-weka-wrapper-examples/blob/master/src/wekaexamples/clusterers/classes_to_clusters.py).\n",
    "::::"
   ]
  },
  {
   "cell_type": "code",
   "execution_count": null,
   "id": "fbea42c4",
   "metadata": {
    "deletable": false,
    "nbgrader": {
     "cell_type": "code",
     "checksum": "d760a4e354165ede14279871eb692ec8",
     "grade": false,
     "grade_id": "error-rate",
     "locked": false,
     "schema_version": 3,
     "solution": true,
     "task": false
    },
    "tags": [
     "remove-output",
     "hide-input"
    ]
   },
   "outputs": [],
   "source": [
    "# YOUR CODE HERE\n",
    "raise NotImplementedError()\n",
    "error_rate"
   ]
  },
  {
   "cell_type": "code",
   "execution_count": null,
   "id": "7fec2ffb",
   "metadata": {
    "deletable": false,
    "editable": false,
    "nbgrader": {
     "cell_type": "code",
     "checksum": "a55332ce4faa16e769e3526e9106c48d",
     "grade": true,
     "grade_id": "test-error-rate",
     "locked": true,
     "points": 1,
     "schema_version": 3,
     "solution": false,
     "task": false
    },
    "tags": [
     "remove-cell"
    ]
   },
   "outputs": [],
   "source": [
    "# hidden tests"
   ]
  },
  {
   "cell_type": "markdown",
   "id": "db537494",
   "metadata": {},
   "source": [
    "::::{exercise}\n",
    ":label: ex:6\n",
    "Can you guess how the error rate is calculated?\n",
    "::::"
   ]
  },
  {
   "cell_type": "markdown",
   "id": "665c6901",
   "metadata": {
    "deletable": false,
    "nbgrader": {
     "cell_type": "markdown",
     "checksum": "b6d37a157247a1dab47a15a5258b97fb",
     "grade": true,
     "grade_id": "classes-to-clusters",
     "locked": false,
     "points": 1,
     "schema_version": 3,
     "solution": true,
     "task": false
    }
   },
   "source": [
    "YOUR ANSWER HERE"
   ]
  },
  {
   "cell_type": "markdown",
   "id": "c804cc53",
   "metadata": {},
   "source": [
    "## Clustering using scikit-learn"
   ]
  },
  {
   "cell_type": "markdown",
   "id": "0217a1e9",
   "metadata": {},
   "source": [
    "We first import the iris dataset from `sklearn.datasets` and store it as a DataFrame."
   ]
  },
  {
   "cell_type": "code",
   "execution_count": null,
   "id": "5eafeeb5",
   "metadata": {},
   "outputs": [],
   "source": [
    "# load the dataset from sklearn\n",
    "dataset = datasets.load_iris()\n",
    "\n",
    "# create a DataFrame to help further analysis\n",
    "df = pd.DataFrame(data=dataset.data, columns=dataset.feature_names)\n",
    "df[\"target\"] = dataset.target\n",
    "df.target = df.target.astype(\"category\")\n",
    "df.target = df.target.cat.rename_categories(dataset.target_names)\n",
    "df  # display an overview of the data"
   ]
  },
  {
   "cell_type": "markdown",
   "id": "49c1e3e3",
   "metadata": {},
   "source": [
    "To normalize the features followed by $k$-means clustering, we create a pipeline as follows:\n",
    "\n",
    "```python\n",
    "from sklearn.cluster import KMeans\n",
    "```"
   ]
  },
  {
   "cell_type": "code",
   "execution_count": null,
   "id": "726a9780",
   "metadata": {},
   "outputs": [],
   "source": [
    "kmeans_minmax_normalized = make_pipeline(\n",
    "    preprocessing.MinMaxScaler(), KMeans(n_clusters=3)\n",
    ")\n",
    "kmeans_minmax_normalized"
   ]
  },
  {
   "cell_type": "markdown",
   "id": "e68a062f",
   "metadata": {},
   "source": [
    "To cluster based on the two input features `petal length (cm)` and `petal width (cm)`:"
   ]
  },
  {
   "cell_type": "code",
   "execution_count": null,
   "id": "a19dbea7",
   "metadata": {},
   "outputs": [],
   "source": [
    "feature1, feature2 = \"petal length (cm)\", \"petal width (cm)\"\n",
    "kmeans_minmax_normalized.fit(df[[feature1, feature2]])\n",
    "\n",
    "plt.figure(num=1, figsize=(10, 5))\n",
    "\n",
    "plt.subplot(121)\n",
    "plt.scatter(\n",
    "    df[feature1],\n",
    "    df[feature2],\n",
    "    c=kmeans_minmax_normalized.predict(df[[feature1, feature2]]),\n",
    ")\n",
    "plt.title(\"Cluster assignment\")\n",
    "plt.xlabel(feature1)\n",
    "plt.ylabel(feature2)\n",
    "\n",
    "plt.subplot(122)\n",
    "plt.scatter(df[feature1], df[feature2], c=dataset[\"target\"])\n",
    "plt.title(\"Class (ground truth)\")\n",
    "plt.xlabel(feature1)\n",
    "\n",
    "plt.show()"
   ]
  },
  {
   "cell_type": "markdown",
   "id": "c8c2764c",
   "metadata": {},
   "source": [
    "Since clustering is unsupervised, unlike classification,\n",
    "- the `fit` method of `kmeans_minmax_normalized` does not take the target attribute as an argument, and\n",
    "- the `predict` method returns cluster labels that may not be associated with the class labels."
   ]
  },
  {
   "cell_type": "markdown",
   "id": "1ccfbe76",
   "metadata": {},
   "source": [
    "Further details can be obtained from the fitted properties (those with a [trailing underscore](https://github.com/rasbt/python-machine-learning-book/blob/master/faq/underscore-convention.md)):"
   ]
  },
  {
   "cell_type": "code",
   "execution_count": null,
   "id": "00914ba6",
   "metadata": {},
   "outputs": [],
   "source": [
    "kmeans = kmeans_minmax_normalized[\"kmeans\"]\n",
    "print(\"Cluster labels:\", *kmeans.labels_)\n",
    "print(\"Cluster centers:\", *kmeans.cluster_centers_)\n",
    "print(\"WSS:\", kmeans.inertia_)\n",
    "print(\"# iterations:\", kmeans.n_iter_)"
   ]
  },
  {
   "cell_type": "markdown",
   "id": "0df166e2",
   "metadata": {},
   "source": [
    "Similar to plotting the decision regions for a classifier, we provide the function `plot_cluster_regions` in [`util.py`](util.py) to plot the cluster regions for a clusterer.\n",
    "\n",
    "```python\n",
    "from util import plot_cluster_regions\n",
    "```"
   ]
  },
  {
   "cell_type": "code",
   "execution_count": null,
   "id": "6aace05f",
   "metadata": {
    "init_cell": true,
    "tags": [
     "output_scroll"
    ]
   },
   "outputs": [],
   "source": [
    "help(plot_cluster_regions)"
   ]
  },
  {
   "cell_type": "markdown",
   "id": "31872eb8",
   "metadata": {
    "deletable": false,
    "editable": false,
    "nbgrader": {
     "cell_type": "markdown",
     "checksum": "0aec76424b8674fa3d99b6eb293c985e",
     "grade": false,
     "grade_id": "task-kmeans",
     "locked": true,
     "points": 1,
     "schema_version": 3,
     "solution": false,
     "task": true
    }
   },
   "source": [
    "::::{exercise}\n",
    ":label: ex:7\n",
    "Complete the following code to assign to `kmeans` a trained and piplined $k$-means clusterer that \n",
    "- normalizes the features according to the method specified by `normalization`, and\n",
    "- clusters the instances of features specified by `feature1` and `feature2` into `k` clusters.\n",
    "\n",
    "Observe the change in the clustering solution when you change the normalization, features, and number of clusters.\n",
    "::::"
   ]
  },
  {
   "cell_type": "code",
   "execution_count": null,
   "id": "6dfa60a0",
   "metadata": {
    "deletable": false,
    "nbgrader": {
     "cell_type": "code",
     "checksum": "e563dc364e40751e40f853ad7fbfd105",
     "grade": false,
     "grade_id": "kmeans",
     "locked": false,
     "schema_version": 3,
     "solution": true,
     "task": false
    }
   },
   "outputs": [],
   "source": [
    "if input(\"Execute? [y/N]\").lower() == \"y\":\n",
    "    fig, ax = plt.subplots(nrows=1, ncols=1, clear=True, figsize=(10, 10), layout=\"constrained\", num=2, sharey=True)\n",
    "    @interact(\n",
    "        normalization=[\"None\", \"Min-max\", \"Standard\"],\n",
    "        feature1=dataset.feature_names,\n",
    "        feature2=dataset.feature_names,\n",
    "        k=widgets.IntSlider(3, 1, 4, continuous_update=False),\n",
    "        resolution=widgets.IntSlider(1, 1, 4, continuous_update=False),\n",
    "    )\n",
    "    def cluster_regions_kmeans(\n",
    "        normalization,\n",
    "        feature1=dataset.feature_names[2],\n",
    "        feature2=dataset.feature_names[3],\n",
    "        k=3,\n",
    "        resolution=1,\n",
    "    ):\n",
    "    \n",
    "        scaler = {\n",
    "            \"Min-max\": preprocessing.MinMaxScaler,\n",
    "            \"Standard\": preprocessing.StandardScaler,\n",
    "        }\n",
    "        # YOUR CODE HERE\n",
    "        raise NotImplementedError()\n",
    "        ax.clear()\n",
    "        plot_cluster_regions(\n",
    "            df[[feature1, feature2]], df.target, kmeans, N=resolution * 100,\n",
    "            ax=ax\n",
    "        )\n",
    "        ax.set_title(\"Cluster regions for k-means clustering\")\n",
    "        ax.set_xlabel(feature1)\n",
    "        ax.set_ylabel(feature2)\n",
    "        plt.show()"
   ]
  }
 ],
 "metadata": {
  "kernelspec": {
   "display_name": "Python 3 (ipykernel)",
   "language": "python",
   "name": "python3"
  }
 },
 "nbformat": 4,
 "nbformat_minor": 5
}
