{
 "cells": [
  {
   "cell_type": "markdown",
   "id": "9178dd0c",
   "metadata": {},
   "source": [
    "---\n",
    "title: DBSCAN and OPTICS with R\n",
    "math: \n",
    "    '\\abs': '\\left\\lvert #1 \\right\\rvert' \n",
    "    '\\norm': '\\left\\lvert #1 \\right\\rvert' \n",
    "    '\\Set': '\\left\\{ #1 \\right\\}'\n",
    "    '\\mc': '\\mathcal{#1}'\n",
    "    '\\M': '\\boldsymbol{#1}'\n",
    "    '\\R': '\\mathsf{#1}'\n",
    "    '\\RM': '\\M{\\mathsf{#1}}'\n",
    "    '\\op': '\\operatorname{#1}'\n",
    "    '\\E': '\\op{E}'\n",
    "    '\\d': '\\mathrm{\\mathstrut d}'\n",
    "---"
   ]
  },
  {
   "cell_type": "markdown",
   "id": "64e3e4c8",
   "metadata": {
    "tags": [
     "remove-cell"
    ]
   },
   "source": [
    "**CS5483 Data Warehousing and Data Mining**\n",
    "\n",
    "___"
   ]
  },
  {
   "cell_type": "markdown",
   "id": "aecd93e9",
   "metadata": {},
   "source": [
    "This jupyter notebook demonstrates how to cluster the iris2D dataset using density-based methods. It uses the language *R* and can be run live using an [R kernel](https://github.com/IRkernel/IRkernel)."
   ]
  },
  {
   "cell_type": "markdown",
   "id": "965653a3",
   "metadata": {},
   "source": [
    "## Setup"
   ]
  },
  {
   "cell_type": "markdown",
   "id": "f1613b48",
   "metadata": {},
   "source": [
    "The following load and create the `iris2D` data set:"
   ]
  },
  {
   "cell_type": "code",
   "execution_count": null,
   "id": "64cbe0b8",
   "metadata": {},
   "outputs": [],
   "source": [
    "data(\"iris\") # load the iris data set\n",
    "x <- as.matrix(iris[,1:2]) # load the input attributes: sepal width and length\n",
    "plot(x)"
   ]
  },
  {
   "cell_type": "markdown",
   "id": "3bf6841e",
   "metadata": {},
   "source": [
    "DBSCAN and OPTICS are implemented in the following package:"
   ]
  },
  {
   "cell_type": "code",
   "execution_count": null,
   "id": "e8e4ca45",
   "metadata": {
    "tags": [
     "output_scroll"
    ]
   },
   "outputs": [],
   "source": [
    "library(dbscan) # for DBSCAN and OPTICS\n",
    "help(package=\"dbscan\") # More information about the package"
   ]
  },
  {
   "cell_type": "markdown",
   "id": "55026f21",
   "metadata": {},
   "source": [
    "## DBSCAN"
   ]
  },
  {
   "cell_type": "markdown",
   "id": "f9f13071",
   "metadata": {},
   "source": [
    "DBSCAN is implement by the function `dbscan`:"
   ]
  },
  {
   "cell_type": "code",
   "execution_count": null,
   "id": "275371c6",
   "metadata": {
    "tags": [
     "output_scroll"
    ]
   },
   "outputs": [],
   "source": [
    "?dbscan"
   ]
  },
  {
   "cell_type": "markdown",
   "id": "96ee42dd",
   "metadata": {},
   "source": [
    "To apply DBSCAN to the iris data set with $\\varepsilon=0.3$ and $\\text{minPts} = 4$:"
   ]
  },
  {
   "cell_type": "code",
   "execution_count": null,
   "id": "d1b64189",
   "metadata": {},
   "outputs": [],
   "source": [
    "db <- dbscan(x, eps = .3, minPts = 4)\n",
    "db"
   ]
  },
  {
   "cell_type": "markdown",
   "id": "57cae1f6",
   "metadata": {},
   "source": [
    "To visualize the clustering solution, we can plot the points in different clusters with different colors:"
   ]
  },
  {
   "cell_type": "code",
   "execution_count": null,
   "id": "fc81cfee",
   "metadata": {},
   "outputs": [],
   "source": [
    "pairs(x, col = db$cluster + 1L)"
   ]
  },
  {
   "cell_type": "markdown",
   "id": "21705cb4",
   "metadata": {},
   "source": [
    "::::{exercise}\n",
    ":label: ex:1\n",
    "What are the points colored in black?\n",
    "::::"
   ]
  },
  {
   "cell_type": "markdown",
   "id": "6a395996",
   "metadata": {
    "deletable": false,
    "nbgrader": {
     "cell_type": "markdown",
     "checksum": "2fdeed43c7fc68c1d92a530d0844dbac",
     "grade": true,
     "grade_id": "black",
     "locked": false,
     "points": 1,
     "schema_version": 3,
     "solution": true,
     "task": false
    }
   },
   "source": [
    "YOUR ANSWER HERE"
   ]
  },
  {
   "cell_type": "markdown",
   "id": "f2b8ed63",
   "metadata": {},
   "source": [
    "For each data point, we can calculate the [local outlier factor (LOF)](https://en.wikipedia.org/wiki/Local_outlier_factor), which quantifies how much a point is locally an outlier using the reachability distance:"
   ]
  },
  {
   "cell_type": "code",
   "execution_count": null,
   "id": "9b60922a",
   "metadata": {},
   "outputs": [],
   "source": [
    "lof <- lof(x, minPts=5)\n",
    "pairs(x, cex = lof) # ploting the points scaled relative to the LOF score."
   ]
  },
  {
   "cell_type": "markdown",
   "id": "6f6c5210",
   "metadata": {},
   "source": [
    "## OPTICS"
   ]
  },
  {
   "cell_type": "markdown",
   "id": "6b830016",
   "metadata": {},
   "source": [
    "OPTICS is implemented by the function `optics`:"
   ]
  },
  {
   "cell_type": "code",
   "execution_count": null,
   "id": "dee3f9ea",
   "metadata": {
    "tags": [
     "output_scroll"
    ]
   },
   "outputs": [],
   "source": [
    "?optics"
   ]
  },
  {
   "cell_type": "markdown",
   "id": "ad186f74",
   "metadata": {},
   "source": [
    "To apply OPTICS with $\\varepsilon=1$ and $\\text{minPts} = 4$:"
   ]
  },
  {
   "cell_type": "code",
   "execution_count": null,
   "id": "cb0b34b9",
   "metadata": {},
   "outputs": [],
   "source": [
    "opt <- optics(x, eps=1, minPts = 4)\n",
    "plot(opt)\n",
    "opt"
   ]
  },
  {
   "cell_type": "markdown",
   "id": "a64f2113",
   "metadata": {},
   "source": [
    "We can identify the clusters with a threshold, say 0.3, on the reachability distance:"
   ]
  },
  {
   "cell_type": "code",
   "execution_count": null,
   "id": "fa879203",
   "metadata": {},
   "outputs": [],
   "source": [
    "opt <- extractDBSCAN(opt, eps_cl = .3)\n",
    "plot(opt)"
   ]
  },
  {
   "cell_type": "markdown",
   "id": "8da1f423",
   "metadata": {
    "deletable": false,
    "editable": false,
    "nbgrader": {
     "cell_type": "markdown",
     "checksum": "b5d60886d29df8ca79a5267c4fc39d5d",
     "grade": false,
     "grade_id": "task-extractXi",
     "locked": true,
     "points": 1,
     "schema_version": 3,
     "solution": false,
     "task": true
    }
   },
   "source": [
    "::::{exercise}\n",
    ":label: ex:2\n",
    "Use the minimum steepness to identify the cluster boundaries. You can call `extractXi` with your choice of parameters.\n",
    "::::"
   ]
  },
  {
   "cell_type": "code",
   "execution_count": null,
   "id": "5611fcec",
   "metadata": {
    "deletable": false,
    "nbgrader": {
     "cell_type": "code",
     "checksum": "4efd31ea829e0269f66d9b8ffc770dca",
     "grade": false,
     "grade_id": "extractXi",
     "locked": false,
     "schema_version": 3,
     "solution": true,
     "task": false
    },
    "tags": [
     "remove-output"
    ]
   },
   "outputs": [],
   "source": [
    "# YOUR CODE HERE\n",
    "fail()\n",
    "plot(opt)\n",
    "hullplot(x,opt)\n",
    "opt"
   ]
  }
 ],
 "metadata": {
  "kernelspec": {
   "display_name": "R",
   "language": "R",
   "name": "ir"
  }
 },
 "nbformat": 4,
 "nbformat_minor": 5
}
